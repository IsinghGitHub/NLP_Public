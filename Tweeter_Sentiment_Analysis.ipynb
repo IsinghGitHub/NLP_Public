{
  "nbformat": 4,
  "nbformat_minor": 0,
  "metadata": {
    "colab": {
      "name": "Tweeter_Sentiment_Analysis.ipynb",
      "version": "0.3.2",
      "provenance": [],
      "collapsed_sections": [],
      "toc_visible": true,
      "include_colab_link": true
    },
    "kernelspec": {
      "name": "python3",
      "display_name": "Python 3"
    },
    "accelerator": "GPU"
  },
  "cells": [
    {
      "cell_type": "markdown",
      "metadata": {
        "id": "view-in-github",
        "colab_type": "text"
      },
      "source": [
        "<a href=\"https://colab.research.google.com/github/IsinghGitHub/NLP_Public/blob/master/Tweeter_Sentiment_Analysis.ipynb\" target=\"_parent\"><img src=\"https://colab.research.google.com/assets/colab-badge.svg\" alt=\"Open In Colab\"/></a>"
      ]
    },
    {
      "metadata": {
        "id": "4jirhTigG94S",
        "colab_type": "code",
        "colab": {}
      },
      "cell_type": "code",
      "source": [
        "# DataFrame\n",
        "import pandas as pd"
      ],
      "execution_count": 0,
      "outputs": []
    },
    {
      "metadata": {
        "id": "xi0dllZbG94b",
        "colab_type": "code",
        "colab": {}
      },
      "cell_type": "code",
      "source": [
        "# Matplot\n",
        "import matplotlib.pyplot as plt\n",
        "%matplotlib inline"
      ],
      "execution_count": 0,
      "outputs": []
    },
    {
      "metadata": {
        "id": "1cLWyV1qG94i",
        "colab_type": "code",
        "colab": {}
      },
      "cell_type": "code",
      "source": [
        "# Scikit-learn\n",
        "from sklearn.model_selection import train_test_split\n",
        "from sklearn.preprocessing import LabelEncoder\n",
        "from sklearn.metrics import confusion_matrix, classification_report, accuracy_score\n",
        "from sklearn.manifold import TSNE\n",
        "from sklearn.feature_extraction.text import TfidfVectorizer"
      ],
      "execution_count": 0,
      "outputs": []
    },
    {
      "metadata": {
        "id": "nb5uKpiVG94m",
        "colab_type": "code",
        "outputId": "42f57a35-00f7-4517-83cb-255f6b605542",
        "colab": {
          "base_uri": "https://localhost:8080/",
          "height": 34
        }
      },
      "cell_type": "code",
      "source": [
        "# Keras\n",
        "from keras.preprocessing.text import Tokenizer\n",
        "from keras.preprocessing.sequence import pad_sequences\n",
        "from keras.models import Sequential\n",
        "from keras.layers import (Activation, Dense, Dropout, Embedding, Flatten, Conv1D, MaxPooling1D)"
      ],
      "execution_count": 4,
      "outputs": [
        {
          "output_type": "stream",
          "text": [
            "Using TensorFlow backend.\n"
          ],
          "name": "stderr"
        }
      ]
    },
    {
      "metadata": {
        "id": "uNMKmvhnG94p",
        "colab_type": "code",
        "colab": {}
      },
      "cell_type": "code",
      "source": [
        "#LSTM\n",
        "from keras import utils\n",
        "from keras.callbacks import ReduceLROnPlateau, EarlyStopping\n"
      ],
      "execution_count": 0,
      "outputs": []
    },
    {
      "metadata": {
        "id": "-B1VjpFbG94s",
        "colab_type": "code",
        "colab": {}
      },
      "cell_type": "code",
      "source": [
        "# nltk\n",
        "import nltk\n",
        "from nltk.corpus import stopwords\n",
        "from  nltk.stem import SnowballStemmer"
      ],
      "execution_count": 0,
      "outputs": []
    },
    {
      "metadata": {
        "id": "Ca8kiqeKG94v",
        "colab_type": "code",
        "colab": {}
      },
      "cell_type": "code",
      "source": [
        "# Word2vec\n",
        "import gensim\n"
      ],
      "execution_count": 0,
      "outputs": []
    },
    {
      "metadata": {
        "id": "6jZFEiqwG94y",
        "colab_type": "code",
        "colab": {}
      },
      "cell_type": "code",
      "source": [
        "# Utility\n",
        "import re\n",
        "import numpy as np\n",
        "import os\n",
        "from collections import Counter\n",
        "import logging\n",
        "import time\n",
        "import pickle\n",
        "import itertools"
      ],
      "execution_count": 0,
      "outputs": []
    },
    {
      "metadata": {
        "id": "RaO8zOVDG942",
        "colab_type": "code",
        "colab": {}
      },
      "cell_type": "code",
      "source": [
        "# Set log\n",
        "logging.basicConfig(format='%(asctime)s : %(levelname)s : %(message)s', level=logging.INFO)"
      ],
      "execution_count": 0,
      "outputs": []
    },
    {
      "metadata": {
        "id": "YhvmE8GPG945",
        "colab_type": "code",
        "outputId": "12143dc4-64c8-4902-c8ea-701de4e85406",
        "colab": {
          "base_uri": "https://localhost:8080/",
          "height": 68
        }
      },
      "cell_type": "code",
      "source": [
        "nltk.download('stopwords')"
      ],
      "execution_count": 10,
      "outputs": [
        {
          "output_type": "stream",
          "text": [
            "[nltk_data] Downloading package stopwords to /root/nltk_data...\n",
            "[nltk_data]   Unzipping corpora/stopwords.zip.\n"
          ],
          "name": "stdout"
        },
        {
          "output_type": "execute_result",
          "data": {
            "text/plain": [
              "True"
            ]
          },
          "metadata": {
            "tags": []
          },
          "execution_count": 10
        }
      ]
    },
    {
      "metadata": {
        "id": "oE6ew2KdG95A",
        "colab_type": "text"
      },
      "cell_type": "markdown",
      "source": [
        "## Settings"
      ]
    },
    {
      "metadata": {
        "id": "sMNjiKU6G95B",
        "colab_type": "code",
        "colab": {}
      },
      "cell_type": "code",
      "source": [
        "# DATASET\n",
        "DATASET_COLUMNS = [\"target\", \"ids\", \"date\", \"flag\", \"user\", \"text\"]\n",
        "DATASET_ENCODING = \"ISO-8859-1\"\n",
        "TRAIN_SIZE = 0.8\n",
        "\n",
        "# TEXT CLENAING\n",
        "TEXT_CLEANING_RE = \"@\\S+|https?:\\S+|http?:\\S|[^A-Za-z0-9]+\"\n",
        "\n",
        "# WORD2VEC \n",
        "W2V_SIZE = 300\n",
        "W2V_WINDOW = 7\n",
        "W2V_EPOCH = 32\n",
        "W2V_MIN_COUNT = 10\n",
        "\n",
        "# KERAS\n",
        "SEQUENCE_LENGTH = 300\n",
        "EPOCHS = 8\n",
        "BATCH_SIZE = 1024\n",
        "\n",
        "# SENTIMENT\n",
        "POSITIVE = \"POSITIVE\"\n",
        "NEGATIVE = \"NEGATIVE\"\n",
        "NEUTRAL = \"NEUTRAL\"\n",
        "SENTIMENT_THRESHOLDS = (0.4, 0.7)\n",
        "\n",
        "# EXPORT\n",
        "KERAS_MODEL = \"model.h5\"\n",
        "WORD2VEC_MODEL = \"model.w2v\"\n",
        "TOKENIZER_MODEL = \"tokenizer.pkl\"\n",
        "ENCODER_MODEL = \"encoder.pkl\"\n"
      ],
      "execution_count": 0,
      "outputs": []
    },
    {
      "metadata": {
        "id": "ggQ0CnzVG95D",
        "colab_type": "text"
      },
      "cell_type": "markdown",
      "source": [
        "## Dataset details\n",
        "target: the polarity of the tweet (0 = negative, 2 = neutral, 4 = positive)\n",
        "\n",
        "ids: The id of the tweet ( 2087)\n",
        "\n",
        "date: the date of the tweet (Sat May 16 23:58:44 UTC 2009)\n",
        "\n",
        "flag: The query (lyx). If there is no query, then this value is NO_QUERY.\n",
        "\n",
        "user: the user that tweeted (robotickilldozr)\n",
        "\n",
        "text: the text of the tweet (Lyx is cool)"
      ]
    },
    {
      "metadata": {
        "id": "LXCt9ecbG95E",
        "colab_type": "text"
      },
      "cell_type": "markdown",
      "source": [
        "## Accessing file from OS "
      ]
    },
    {
      "metadata": {
        "id": "LpyR8GFzSUqJ",
        "colab_type": "code",
        "colab": {}
      },
      "cell_type": "code",
      "source": [
        ""
      ],
      "execution_count": 0,
      "outputs": []
    },
    {
      "metadata": {
        "id": "kzAqeMegG95F",
        "colab_type": "code",
        "colab": {}
      },
      "cell_type": "code",
      "source": [
        "import os, sys\n",
        "\n",
        "# Open a file\n",
        "#path = \"E:\\\\Documents\\\\Data_Science\\\\Analytics_vidya\\\\Sentiment_Analysis_Tweets\\\\tweeter_training_data\"\n",
        "#dirs = os.listdir( path )\n",
        "\n",
        "# This would print all the files and directories\n",
        "#for file in dirs:\n",
        "       #print (file)"
      ],
      "execution_count": 0,
      "outputs": []
    },
    {
      "metadata": {
        "id": "XNkJJXw8SW5u",
        "colab_type": "code",
        "outputId": "96ff2645-1fce-4b66-e257-2f7b5b62a473",
        "colab": {
          "base_uri": "https://localhost:8080/",
          "height": 122
        }
      },
      "cell_type": "code",
      "source": [
        "from google.colab import drive\n",
        "drive.mount('/content/tweeter_data')\n"
      ],
      "execution_count": 13,
      "outputs": [
        {
          "output_type": "stream",
          "text": [
            "Go to this URL in a browser: https://accounts.google.com/o/oauth2/auth?client_id=947318989803-6bn6qk8qdgf4n4g3pfee6491hc0brc4i.apps.googleusercontent.com&redirect_uri=urn%3Aietf%3Awg%3Aoauth%3A2.0%3Aoob&scope=email%20https%3A%2F%2Fwww.googleapis.com%2Fauth%2Fdocs.test%20https%3A%2F%2Fwww.googleapis.com%2Fauth%2Fdrive%20https%3A%2F%2Fwww.googleapis.com%2Fauth%2Fdrive.photos.readonly%20https%3A%2F%2Fwww.googleapis.com%2Fauth%2Fpeopleapi.readonly&response_type=code\n",
            "\n",
            "Enter your authorization code:\n",
            "··········\n",
            "Mounted at /content/tweeter_data\n"
          ],
          "name": "stdout"
        }
      ]
    },
    {
      "metadata": {
        "id": "Te7rY3L5WEdU",
        "colab_type": "code",
        "colab": {}
      },
      "cell_type": "code",
      "source": [
        "import os\n",
        "import gc\n",
        "#os.chdir('E:/')\n",
        "import warnings\n",
        "warnings.filterwarnings(\"ignore\")\n",
        "warnings.filterwarnings(\"ignore\", category=DeprecationWarning)"
      ],
      "execution_count": 0,
      "outputs": []
    },
    {
      "metadata": {
        "id": "hGKM2jXmWQYI",
        "colab_type": "code",
        "outputId": "0e9e32a1-b583-4ebb-b25f-da2bafedcc95",
        "colab": {
          "base_uri": "https://localhost:8080/",
          "height": 102
        }
      },
      "cell_type": "code",
      "source": [
        "#Change the working directory\n",
        "os.chdir('/content/tweeter_data/My Drive/Collab_Projects/Sentiment_Analysis_Tweets/tweeter_training_data/')\n",
        "os.listdir()"
      ],
      "execution_count": 15,
      "outputs": [
        {
          "output_type": "execute_result",
          "data": {
            "text/plain": [
              "['tweeter_dataset_16M.csv',\n",
              " 'model.h5',\n",
              " 'model.w2v',\n",
              " 'tokenizer.pkl',\n",
              " 'encoder.pkl']"
            ]
          },
          "metadata": {
            "tags": []
          },
          "execution_count": 15
        }
      ]
    },
    {
      "metadata": {
        "id": "1OP3yvo8XZAj",
        "colab_type": "code",
        "colab": {}
      },
      "cell_type": "code",
      "source": [
        "import pandas as pd\n",
        "import numpy as np\n",
        "import math\n",
        "import nltk\n",
        "import re \n",
        "from nltk.tokenize import word_tokenize\n",
        "from nltk.corpus import stopwords\n",
        "import string\n",
        "import tensorflow as tf\n",
        "from tensorflow.keras import backend as backend\n",
        "import codecs\n",
        "tf.set_random_seed(42)"
      ],
      "execution_count": 0,
      "outputs": []
    },
    {
      "metadata": {
        "id": "1_LAZqepXLvr",
        "colab_type": "code",
        "outputId": "999ca61f-9ed0-4dec-b122-40af75b92656",
        "colab": {
          "base_uri": "https://localhost:8080/",
          "height": 54
        }
      },
      "cell_type": "code",
      "source": [
        "with codecs.open('tweeter_dataset_16M.csv', encoding=DATASET_ENCODING) as f:\n",
        "    texual_data = f.read()\n",
        "texual_data[0:200]"
      ],
      "execution_count": 17,
      "outputs": [
        {
          "output_type": "execute_result",
          "data": {
            "text/plain": [
              "'\"0\",\"1467810369\",\"Mon Apr 06 22:19:45 PDT 2009\",\"NO_QUERY\",\"_TheSpecialOne_\",\"@switchfoot http://twitpic.com/2y1zl - Awww, that\\'s a bummer.  You shoulda got David Carr of Third Day to do it. ;D\"\\n\"0\",\"'"
            ]
          },
          "metadata": {
            "tags": []
          },
          "execution_count": 17
        }
      ]
    },
    {
      "metadata": {
        "id": "6sENm0Bpj26G",
        "colab_type": "code",
        "colab": {}
      },
      "cell_type": "code",
      "source": [
        "from google.colab import files\n",
        "\n",
        "df = pd.read_csv('tweeter_dataset_16M.csv', encoding =DATASET_ENCODING , names=DATASET_COLUMNS)\n"
      ],
      "execution_count": 0,
      "outputs": []
    },
    {
      "metadata": {
        "id": "oxYfvjaxH_iZ",
        "colab_type": "code",
        "outputId": "bbe5f430-7f8c-4cf6-8724-13180340b065",
        "colab": {
          "base_uri": "https://localhost:8080/",
          "height": 34
        }
      },
      "cell_type": "code",
      "source": [
        "df['text'][1]"
      ],
      "execution_count": 19,
      "outputs": [
        {
          "output_type": "execute_result",
          "data": {
            "text/plain": [
              "\"is upset that he can't update his Facebook by texting it... and might cry as a result  School today also. Blah!\""
            ]
          },
          "metadata": {
            "tags": []
          },
          "execution_count": 19
        }
      ]
    },
    {
      "metadata": {
        "id": "6HD6fVrmG95J",
        "colab_type": "code",
        "colab": {}
      },
      "cell_type": "code",
      "source": [
        "#import os,sys\n",
        "#path = 'E:\\\\Documents\\\\Data_Science\\\\Analytics_vidya\\\\Sentiment_Analysis_Tweets\\\\tweeter_training_data\\\\'\n",
        "#dataset_filename = os.listdir(path)[0]\n",
        "#path\n",
        "#dataset_filename"
      ],
      "execution_count": 0,
      "outputs": []
    },
    {
      "metadata": {
        "id": "N6nhWBh8G95N",
        "colab_type": "code",
        "colab": {}
      },
      "cell_type": "code",
      "source": [
        "#dataset_path = os.path.join(path,dataset_filename)"
      ],
      "execution_count": 0,
      "outputs": []
    },
    {
      "metadata": {
        "scrolled": true,
        "id": "l7kBnmMMG95R",
        "colab_type": "code",
        "colab": {}
      },
      "cell_type": "code",
      "source": [
        "#df = pd.read_csv(dataset_path, encoding =DATASET_ENCODING , names=DATASET_COLUMNS)"
      ],
      "execution_count": 0,
      "outputs": []
    },
    {
      "metadata": {
        "id": "kTh0HmBwG95U",
        "colab_type": "code",
        "outputId": "1e0f8c2f-698b-404f-f29a-9a19d7cd16e6",
        "colab": {
          "base_uri": "https://localhost:8080/",
          "height": 34
        }
      },
      "cell_type": "code",
      "source": [
        "print(\"Dataset size:\", len(df))"
      ],
      "execution_count": 23,
      "outputs": [
        {
          "output_type": "stream",
          "text": [
            "Dataset size: 1600000\n"
          ],
          "name": "stdout"
        }
      ]
    },
    {
      "metadata": {
        "id": "p6sUSg_w1WF3",
        "colab_type": "code",
        "outputId": "a1ffef78-0a76-40c0-d4eb-9da5f407ea24",
        "colab": {
          "base_uri": "https://localhost:8080/",
          "height": 111
        }
      },
      "cell_type": "code",
      "source": [
        "df.head(2)"
      ],
      "execution_count": 24,
      "outputs": [
        {
          "output_type": "execute_result",
          "data": {
            "text/html": [
              "<div>\n",
              "<style scoped>\n",
              "    .dataframe tbody tr th:only-of-type {\n",
              "        vertical-align: middle;\n",
              "    }\n",
              "\n",
              "    .dataframe tbody tr th {\n",
              "        vertical-align: top;\n",
              "    }\n",
              "\n",
              "    .dataframe thead th {\n",
              "        text-align: right;\n",
              "    }\n",
              "</style>\n",
              "<table border=\"1\" class=\"dataframe\">\n",
              "  <thead>\n",
              "    <tr style=\"text-align: right;\">\n",
              "      <th></th>\n",
              "      <th>target</th>\n",
              "      <th>ids</th>\n",
              "      <th>date</th>\n",
              "      <th>flag</th>\n",
              "      <th>user</th>\n",
              "      <th>text</th>\n",
              "    </tr>\n",
              "  </thead>\n",
              "  <tbody>\n",
              "    <tr>\n",
              "      <th>0</th>\n",
              "      <td>0</td>\n",
              "      <td>1467810369</td>\n",
              "      <td>Mon Apr 06 22:19:45 PDT 2009</td>\n",
              "      <td>NO_QUERY</td>\n",
              "      <td>_TheSpecialOne_</td>\n",
              "      <td>@switchfoot http://twitpic.com/2y1zl - Awww, t...</td>\n",
              "    </tr>\n",
              "    <tr>\n",
              "      <th>1</th>\n",
              "      <td>0</td>\n",
              "      <td>1467810672</td>\n",
              "      <td>Mon Apr 06 22:19:49 PDT 2009</td>\n",
              "      <td>NO_QUERY</td>\n",
              "      <td>scotthamilton</td>\n",
              "      <td>is upset that he can't update his Facebook by ...</td>\n",
              "    </tr>\n",
              "  </tbody>\n",
              "</table>\n",
              "</div>"
            ],
            "text/plain": [
              "   target         ids                          date      flag  \\\n",
              "0       0  1467810369  Mon Apr 06 22:19:45 PDT 2009  NO_QUERY   \n",
              "1       0  1467810672  Mon Apr 06 22:19:49 PDT 2009  NO_QUERY   \n",
              "\n",
              "              user                                               text  \n",
              "0  _TheSpecialOne_  @switchfoot http://twitpic.com/2y1zl - Awww, t...  \n",
              "1    scotthamilton  is upset that he can't update his Facebook by ...  "
            ]
          },
          "metadata": {
            "tags": []
          },
          "execution_count": 24
        }
      ]
    },
    {
      "metadata": {
        "id": "aJXUsgOyG95n",
        "colab_type": "text"
      },
      "cell_type": "markdown",
      "source": [
        "## Map target label to String\n",
        "0 -> NEGATIVE\n",
        "2 -> NEUTRAL\n",
        "4 -> POSITIVE"
      ]
    },
    {
      "metadata": {
        "id": "6Wj-fh6gG95o",
        "colab_type": "code",
        "colab": {}
      },
      "cell_type": "code",
      "source": [
        "decode_map = {0: \"NEGATIVE\", 2: \"NEUTRAL\", 4: \"POSITIVE\"}\n",
        "def decode_sentiment(label):\n",
        "    return decode_map[int(label)]"
      ],
      "execution_count": 0,
      "outputs": []
    },
    {
      "metadata": {
        "id": "xfhnp2kGG95q",
        "colab_type": "code",
        "outputId": "bdecee40-5de2-4cf8-df22-2a75ead4ee27",
        "colab": {
          "base_uri": "https://localhost:8080/",
          "height": 51
        }
      },
      "cell_type": "code",
      "source": [
        "%%time\n",
        "df.target = df.target.apply(lambda x: decode_sentiment(x))"
      ],
      "execution_count": 26,
      "outputs": [
        {
          "output_type": "stream",
          "text": [
            "CPU times: user 684 ms, sys: 2.74 ms, total: 686 ms\n",
            "Wall time: 689 ms\n"
          ],
          "name": "stdout"
        }
      ]
    },
    {
      "metadata": {
        "id": "KyuTiTW8G95u",
        "colab_type": "code",
        "outputId": "6c3e7e68-8c96-4595-d155-624de171dfdc",
        "colab": {
          "base_uri": "https://localhost:8080/",
          "height": 515
        }
      },
      "cell_type": "code",
      "source": [
        "target_cnt = Counter(df.target)\n",
        "\n",
        "plt.figure(figsize=(16,8))\n",
        "plt.bar(target_cnt.keys(), target_cnt.values())\n",
        "plt.title(\"Dataset labels distribuition\")"
      ],
      "execution_count": 27,
      "outputs": [
        {
          "output_type": "execute_result",
          "data": {
            "text/plain": [
              "Text(0.5, 1.0, 'Dataset labels distribuition')"
            ]
          },
          "metadata": {
            "tags": []
          },
          "execution_count": 27
        },
        {
          "output_type": "display_data",
          "data": {
            "image/png": "[encoded data removed]",
            "text/plain": [
              "<Figure size 1152x576 with 1 Axes>"
            ]
          },
          "metadata": {
            "tags": []
          }
        }
      ]
    },
    {
      "metadata": {
        "id": "PgGrsmJPG95y",
        "colab_type": "text"
      },
      "cell_type": "markdown",
      "source": [
        "## Pre-Process dataset"
      ]
    },
    {
      "metadata": {
        "id": "9YNUFlEuG950",
        "colab_type": "code",
        "colab": {}
      },
      "cell_type": "code",
      "source": [
        "stop_words = stopwords.words(\"english\")\n",
        "stemmer = SnowballStemmer(\"english\")"
      ],
      "execution_count": 0,
      "outputs": []
    },
    {
      "metadata": {
        "id": "J3vP-etOG952",
        "colab_type": "code",
        "colab": {}
      },
      "cell_type": "code",
      "source": [
        "def preprocess(text, stem=False):\n",
        "    # Remove link,user and special characters\n",
        "    text = re.sub(TEXT_CLEANING_RE, ' ', str(text).lower()).strip()\n",
        "    tokens = []\n",
        "    for token in text.split():\n",
        "        if token not in stop_words:\n",
        "            if stem:\n",
        "                tokens.append(stemmer.stem(token))\n",
        "            else:\n",
        "                tokens.append(token)\n",
        "    return \" \".join(tokens)"
      ],
      "execution_count": 0,
      "outputs": []
    },
    {
      "metadata": {
        "id": "bqEZII9xG959",
        "colab_type": "code",
        "outputId": "1cd1d0f0-e105-47bd-d685-18a4c4ea3dca",
        "colab": {
          "base_uri": "https://localhost:8080/",
          "height": 51
        }
      },
      "cell_type": "code",
      "source": [
        "%%time\n",
        "df.text = df.text.apply(lambda x: preprocess(x))"
      ],
      "execution_count": 30,
      "outputs": [
        {
          "output_type": "stream",
          "text": [
            "CPU times: user 51.8 s, sys: 215 ms, total: 52 s\n",
            "Wall time: 52.1 s\n"
          ],
          "name": "stdout"
        }
      ]
    },
    {
      "metadata": {
        "id": "D_SpukxDG96C",
        "colab_type": "text"
      },
      "cell_type": "markdown",
      "source": [
        "## Split train and test"
      ]
    },
    {
      "metadata": {
        "id": "JGvHr4PLG96D",
        "colab_type": "code",
        "outputId": "cb735fd7-1ff6-401f-ffe1-db72876d4dbe",
        "colab": {
          "base_uri": "https://localhost:8080/",
          "height": 51
        }
      },
      "cell_type": "code",
      "source": [
        "df_train, df_test = train_test_split(df, test_size=1-TRAIN_SIZE, random_state=42)\n",
        "print(\"TRAIN size:\", len(df_train))\n",
        "print(\"TEST size:\", len(df_test))"
      ],
      "execution_count": 31,
      "outputs": [
        {
          "output_type": "stream",
          "text": [
            "TRAIN size: 1280000\n",
            "TEST size: 320000\n"
          ],
          "name": "stdout"
        }
      ]
    },
    {
      "metadata": {
        "id": "YjzUlbKqG96J",
        "colab_type": "text"
      },
      "cell_type": "markdown",
      "source": [
        "## Word2Vec"
      ]
    },
    {
      "metadata": {
        "id": "LyLBUzCGG96L",
        "colab_type": "code",
        "outputId": "15d71cd7-9a78-4f55-d714-a1905cf06d64",
        "colab": {
          "base_uri": "https://localhost:8080/",
          "height": 51
        }
      },
      "cell_type": "code",
      "source": [
        "%%time\n",
        "documents = [_text.split() for _text in df_train.text] "
      ],
      "execution_count": 32,
      "outputs": [
        {
          "output_type": "stream",
          "text": [
            "CPU times: user 3.26 s, sys: 328 ms, total: 3.59 s\n",
            "Wall time: 3.59 s\n"
          ],
          "name": "stdout"
        }
      ]
    },
    {
      "metadata": {
        "id": "YYVeAM7IG96Q",
        "colab_type": "code",
        "colab": {}
      },
      "cell_type": "code",
      "source": [
        "w2v_model = gensim.models.word2vec.Word2Vec(size=W2V_SIZE, \n",
        "                                            window=W2V_WINDOW, \n",
        "                                            min_count=W2V_MIN_COUNT, \n",
        "                                            workers=8)"
      ],
      "execution_count": 0,
      "outputs": []
    },
    {
      "metadata": {
        "id": "jdtjOeDKG96T",
        "colab_type": "code",
        "outputId": "55a335d7-b4ea-4247-f6f6-9353ab277a82",
        "colab": {
          "base_uri": "https://localhost:8080/",
          "height": 2363
        }
      },
      "cell_type": "code",
      "source": [
        "w2v_model.build_vocab(documents)"
      ],
      "execution_count": 34,
      "outputs": [
        {
          "output_type": "stream",
          "text": [
            "2019-04-02 13:44:01,713 : INFO : collecting all words and their counts\n",
            "2019-04-02 13:44:01,716 : INFO : PROGRESS: at sentence #0, processed 0 words, keeping 0 word types\n",
            "2019-04-02 13:44:01,753 : INFO : PROGRESS: at sentence #10000, processed 72565 words, keeping 14005 word types\n",
            "2019-04-02 13:44:01,780 : INFO : PROGRESS: at sentence #20000, processed 144393 words, keeping 21587 word types\n",
            "2019-04-02 13:44:01,807 : INFO : PROGRESS: at sentence #30000, processed 215826 words, keeping 27541 word types\n",
            "2019-04-02 13:44:01,839 : INFO : PROGRESS: at sentence #40000, processed 288271 words, keeping 32764 word types\n",
            "2019-04-02 13:44:01,869 : INFO : PROGRESS: at sentence #50000, processed 359772 words, keeping 37587 word types\n",
            "2019-04-02 13:44:01,898 : INFO : PROGRESS: at sentence #60000, processed 431431 words, keeping 42198 word types\n",
            "2019-04-02 13:44:01,926 : INFO : PROGRESS: at sentence #70000, processed 503103 words, keeping 46458 word types\n",
            "2019-04-02 13:44:01,956 : INFO : PROGRESS: at sentence #80000, processed 575709 words, keeping 50476 word types\n",
            "2019-04-02 13:44:01,982 : INFO : PROGRESS: at sentence #90000, processed 647100 words, keeping 54140 word types\n",
            "2019-04-02 13:44:02,011 : INFO : PROGRESS: at sentence #100000, processed 718681 words, keeping 57777 word types\n",
            "2019-04-02 13:44:02,041 : INFO : PROGRESS: at sentence #110000, processed 790696 words, keeping 61207 word types\n",
            "2019-04-02 13:44:02,069 : INFO : PROGRESS: at sentence #120000, processed 863134 words, keeping 64583 word types\n",
            "2019-04-02 13:44:02,101 : INFO : PROGRESS: at sentence #130000, processed 935111 words, keeping 67865 word types\n",
            "2019-04-02 13:44:02,129 : INFO : PROGRESS: at sentence #140000, processed 1006668 words, keeping 70966 word types\n",
            "2019-04-02 13:44:02,158 : INFO : PROGRESS: at sentence #150000, processed 1078512 words, keeping 74119 word types\n",
            "2019-04-02 13:44:02,187 : INFO : PROGRESS: at sentence #160000, processed 1149914 words, keeping 77187 word types\n",
            "2019-04-02 13:44:02,216 : INFO : PROGRESS: at sentence #170000, processed 1222145 words, keeping 80267 word types\n",
            "2019-04-02 13:44:02,245 : INFO : PROGRESS: at sentence #180000, processed 1294708 words, keeping 83393 word types\n",
            "2019-04-02 13:44:02,271 : INFO : PROGRESS: at sentence #190000, processed 1367608 words, keeping 86329 word types\n",
            "2019-04-02 13:44:02,301 : INFO : PROGRESS: at sentence #200000, processed 1439469 words, keeping 89103 word types\n",
            "2019-04-02 13:44:02,333 : INFO : PROGRESS: at sentence #210000, processed 1512099 words, keeping 91840 word types\n",
            "2019-04-02 13:44:02,361 : INFO : PROGRESS: at sentence #220000, processed 1584149 words, keeping 94636 word types\n",
            "2019-04-02 13:44:02,389 : INFO : PROGRESS: at sentence #230000, processed 1656354 words, keeping 97353 word types\n",
            "2019-04-02 13:44:02,418 : INFO : PROGRESS: at sentence #240000, processed 1728573 words, keeping 99975 word types\n",
            "2019-04-02 13:44:02,446 : INFO : PROGRESS: at sentence #250000, processed 1801102 words, keeping 102594 word types\n",
            "2019-04-02 13:44:02,476 : INFO : PROGRESS: at sentence #260000, processed 1873103 words, keeping 105162 word types\n",
            "2019-04-02 13:44:02,509 : INFO : PROGRESS: at sentence #270000, processed 1945245 words, keeping 107626 word types\n",
            "2019-04-02 13:44:02,538 : INFO : PROGRESS: at sentence #280000, processed 2017163 words, keeping 110141 word types\n",
            "2019-04-02 13:44:02,566 : INFO : PROGRESS: at sentence #290000, processed 2089574 words, keeping 112539 word types\n",
            "2019-04-02 13:44:02,593 : INFO : PROGRESS: at sentence #300000, processed 2160996 words, keeping 114893 word types\n",
            "2019-04-02 13:44:02,621 : INFO : PROGRESS: at sentence #310000, processed 2232913 words, keeping 117298 word types\n",
            "2019-04-02 13:44:02,651 : INFO : PROGRESS: at sentence #320000, processed 2305039 words, keeping 119693 word types\n",
            "2019-04-02 13:44:02,680 : INFO : PROGRESS: at sentence #330000, processed 2377119 words, keeping 122131 word types\n",
            "2019-04-02 13:44:02,708 : INFO : PROGRESS: at sentence #340000, processed 2449370 words, keeping 124416 word types\n",
            "2019-04-02 13:44:02,741 : INFO : PROGRESS: at sentence #350000, processed 2521564 words, keeping 126669 word types\n",
            "2019-04-02 13:44:02,771 : INFO : PROGRESS: at sentence #360000, processed 2593681 words, keeping 128912 word types\n",
            "2019-04-02 13:44:02,798 : INFO : PROGRESS: at sentence #370000, processed 2665692 words, keeping 131135 word types\n",
            "2019-04-02 13:44:02,827 : INFO : PROGRESS: at sentence #380000, processed 2737859 words, keeping 133403 word types\n",
            "2019-04-02 13:44:02,860 : INFO : PROGRESS: at sentence #390000, processed 2809848 words, keeping 135551 word types\n",
            "2019-04-02 13:44:02,890 : INFO : PROGRESS: at sentence #400000, processed 2882438 words, keeping 137742 word types\n",
            "2019-04-02 13:44:02,919 : INFO : PROGRESS: at sentence #410000, processed 2954075 words, keeping 139909 word types\n",
            "2019-04-02 13:44:02,948 : INFO : PROGRESS: at sentence #420000, processed 3026247 words, keeping 142144 word types\n",
            "2019-04-02 13:44:02,980 : INFO : PROGRESS: at sentence #430000, processed 3098659 words, keeping 144364 word types\n",
            "2019-04-02 13:44:03,007 : INFO : PROGRESS: at sentence #440000, processed 3170663 words, keeping 146439 word types\n",
            "2019-04-02 13:44:03,039 : INFO : PROGRESS: at sentence #450000, processed 3243344 words, keeping 148526 word types\n",
            "2019-04-02 13:44:03,068 : INFO : PROGRESS: at sentence #460000, processed 3315466 words, keeping 150610 word types\n",
            "2019-04-02 13:44:03,098 : INFO : PROGRESS: at sentence #470000, processed 3388295 words, keeping 152737 word types\n",
            "2019-04-02 13:44:03,129 : INFO : PROGRESS: at sentence #480000, processed 3460120 words, keeping 154757 word types\n",
            "2019-04-02 13:44:03,160 : INFO : PROGRESS: at sentence #490000, processed 3531883 words, keeping 156825 word types\n",
            "2019-04-02 13:44:03,190 : INFO : PROGRESS: at sentence #500000, processed 3604217 words, keeping 158859 word types\n",
            "2019-04-02 13:44:03,219 : INFO : PROGRESS: at sentence #510000, processed 3676427 words, keeping 160852 word types\n",
            "2019-04-02 13:44:03,249 : INFO : PROGRESS: at sentence #520000, processed 3749045 words, keeping 162863 word types\n",
            "2019-04-02 13:44:03,279 : INFO : PROGRESS: at sentence #530000, processed 3821622 words, keeping 164929 word types\n",
            "2019-04-02 13:44:03,307 : INFO : PROGRESS: at sentence #540000, processed 3893627 words, keeping 166840 word types\n",
            "2019-04-02 13:44:03,337 : INFO : PROGRESS: at sentence #550000, processed 3965477 words, keeping 168799 word types\n",
            "2019-04-02 13:44:03,369 : INFO : PROGRESS: at sentence #560000, processed 4038050 words, keeping 170802 word types\n",
            "2019-04-02 13:44:03,399 : INFO : PROGRESS: at sentence #570000, processed 4110296 words, keeping 172760 word types\n",
            "2019-04-02 13:44:03,427 : INFO : PROGRESS: at sentence #580000, processed 4182385 words, keeping 174635 word types\n",
            "2019-04-02 13:44:03,462 : INFO : PROGRESS: at sentence #590000, processed 4254632 words, keeping 176470 word types\n",
            "2019-04-02 13:44:03,494 : INFO : PROGRESS: at sentence #600000, processed 4326859 words, keeping 178350 word types\n",
            "2019-04-02 13:44:03,522 : INFO : PROGRESS: at sentence #610000, processed 4399183 words, keeping 180290 word types\n",
            "2019-04-02 13:44:03,552 : INFO : PROGRESS: at sentence #620000, processed 4471343 words, keeping 182129 word types\n",
            "2019-04-02 13:44:03,583 : INFO : PROGRESS: at sentence #630000, processed 4543286 words, keeping 184005 word types\n",
            "2019-04-02 13:44:03,613 : INFO : PROGRESS: at sentence #640000, processed 4615780 words, keeping 185835 word types\n",
            "2019-04-02 13:44:03,642 : INFO : PROGRESS: at sentence #650000, processed 4688481 words, keeping 187705 word types\n",
            "2019-04-02 13:44:03,673 : INFO : PROGRESS: at sentence #660000, processed 4760481 words, keeping 189439 word types\n",
            "2019-04-02 13:44:03,703 : INFO : PROGRESS: at sentence #670000, processed 4833024 words, keeping 191232 word types\n",
            "2019-04-02 13:44:03,732 : INFO : PROGRESS: at sentence #680000, processed 4904516 words, keeping 193177 word types\n",
            "2019-04-02 13:44:03,762 : INFO : PROGRESS: at sentence #690000, processed 4976968 words, keeping 194960 word types\n",
            "2019-04-02 13:44:03,794 : INFO : PROGRESS: at sentence #700000, processed 5049412 words, keeping 196725 word types\n",
            "2019-04-02 13:44:03,823 : INFO : PROGRESS: at sentence #710000, processed 5121976 words, keeping 198516 word types\n",
            "2019-04-02 13:44:03,856 : INFO : PROGRESS: at sentence #720000, processed 5193881 words, keeping 200325 word types\n",
            "2019-04-02 13:44:03,891 : INFO : PROGRESS: at sentence #730000, processed 5265467 words, keeping 202133 word types\n",
            "2019-04-02 13:44:03,924 : INFO : PROGRESS: at sentence #740000, processed 5337518 words, keeping 203818 word types\n",
            "2019-04-02 13:44:03,955 : INFO : PROGRESS: at sentence #750000, processed 5409321 words, keeping 205535 word types\n",
            "2019-04-02 13:44:03,984 : INFO : PROGRESS: at sentence #760000, processed 5481512 words, keeping 207282 word types\n",
            "2019-04-02 13:44:04,016 : INFO : PROGRESS: at sentence #770000, processed 5554093 words, keeping 209076 word types\n",
            "2019-04-02 13:44:04,045 : INFO : PROGRESS: at sentence #780000, processed 5625382 words, keeping 210805 word types\n",
            "2019-04-02 13:44:04,076 : INFO : PROGRESS: at sentence #790000, processed 5698066 words, keeping 212618 word types\n",
            "2019-04-02 13:44:04,108 : INFO : PROGRESS: at sentence #800000, processed 5770880 words, keeping 214374 word types\n",
            "2019-04-02 13:44:04,136 : INFO : PROGRESS: at sentence #810000, processed 5843418 words, keeping 216009 word types\n",
            "2019-04-02 13:44:04,166 : INFO : PROGRESS: at sentence #820000, processed 5915628 words, keeping 217804 word types\n",
            "2019-04-02 13:44:04,198 : INFO : PROGRESS: at sentence #830000, processed 5987499 words, keeping 219585 word types\n",
            "2019-04-02 13:44:04,229 : INFO : PROGRESS: at sentence #840000, processed 6058973 words, keeping 221344 word types\n",
            "2019-04-02 13:44:04,261 : INFO : PROGRESS: at sentence #850000, processed 6131125 words, keeping 223002 word types\n",
            "2019-04-02 13:44:04,290 : INFO : PROGRESS: at sentence #860000, processed 6202951 words, keeping 224643 word types\n",
            "2019-04-02 13:44:04,320 : INFO : PROGRESS: at sentence #870000, processed 6275461 words, keeping 226362 word types\n",
            "2019-04-02 13:44:04,348 : INFO : PROGRESS: at sentence #880000, processed 6347661 words, keeping 227986 word types\n",
            "2019-04-02 13:44:04,377 : INFO : PROGRESS: at sentence #890000, processed 6419806 words, keeping 229634 word types\n",
            "2019-04-02 13:44:04,409 : INFO : PROGRESS: at sentence #900000, processed 6491644 words, keeping 231389 word types\n",
            "2019-04-02 13:44:04,438 : INFO : PROGRESS: at sentence #910000, processed 6564022 words, keeping 233050 word types\n",
            "2019-04-02 13:44:04,470 : INFO : PROGRESS: at sentence #920000, processed 6636228 words, keeping 234686 word types\n",
            "2019-04-02 13:44:04,503 : INFO : PROGRESS: at sentence #930000, processed 6708573 words, keeping 236393 word types\n",
            "2019-04-02 13:44:04,532 : INFO : PROGRESS: at sentence #940000, processed 6779956 words, keeping 238052 word types\n",
            "2019-04-02 13:44:04,561 : INFO : PROGRESS: at sentence #950000, processed 6852599 words, keeping 239716 word types\n",
            "2019-04-02 13:44:04,591 : INFO : PROGRESS: at sentence #960000, processed 6924717 words, keeping 241354 word types\n",
            "2019-04-02 13:44:04,628 : INFO : PROGRESS: at sentence #970000, processed 6996992 words, keeping 242980 word types\n",
            "2019-04-02 13:44:04,658 : INFO : PROGRESS: at sentence #980000, processed 7068402 words, keeping 244646 word types\n",
            "2019-04-02 13:44:04,689 : INFO : PROGRESS: at sentence #990000, processed 7140346 words, keeping 246186 word types\n",
            "2019-04-02 13:44:04,721 : INFO : PROGRESS: at sentence #1000000, processed 7211757 words, keeping 247726 word types\n",
            "2019-04-02 13:44:04,753 : INFO : PROGRESS: at sentence #1010000, processed 7283267 words, keeping 249288 word types\n",
            "2019-04-02 13:44:04,783 : INFO : PROGRESS: at sentence #1020000, processed 7355299 words, keeping 250860 word types\n",
            "2019-04-02 13:44:04,814 : INFO : PROGRESS: at sentence #1030000, processed 7426918 words, keeping 252366 word types\n",
            "2019-04-02 13:44:04,843 : INFO : PROGRESS: at sentence #1040000, processed 7498815 words, keeping 253930 word types\n",
            "2019-04-02 13:44:04,873 : INFO : PROGRESS: at sentence #1050000, processed 7570499 words, keeping 255471 word types\n",
            "2019-04-02 13:44:04,907 : INFO : PROGRESS: at sentence #1060000, processed 7643251 words, keeping 257035 word types\n",
            "2019-04-02 13:44:04,938 : INFO : PROGRESS: at sentence #1070000, processed 7714721 words, keeping 258509 word types\n",
            "2019-04-02 13:44:04,967 : INFO : PROGRESS: at sentence #1080000, processed 7787371 words, keeping 260071 word types\n",
            "2019-04-02 13:44:04,997 : INFO : PROGRESS: at sentence #1090000, processed 7859336 words, keeping 261683 word types\n",
            "2019-04-02 13:44:05,028 : INFO : PROGRESS: at sentence #1100000, processed 7932029 words, keeping 263278 word types\n",
            "2019-04-02 13:44:05,058 : INFO : PROGRESS: at sentence #1110000, processed 8004146 words, keeping 264800 word types\n",
            "2019-04-02 13:44:05,089 : INFO : PROGRESS: at sentence #1120000, processed 8075880 words, keeping 266309 word types\n",
            "2019-04-02 13:44:05,122 : INFO : PROGRESS: at sentence #1130000, processed 8148163 words, keeping 267826 word types\n",
            "2019-04-02 13:44:05,157 : INFO : PROGRESS: at sentence #1140000, processed 8220487 words, keeping 269391 word types\n",
            "2019-04-02 13:44:05,191 : INFO : PROGRESS: at sentence #1150000, processed 8292498 words, keeping 270894 word types\n",
            "2019-04-02 13:44:05,224 : INFO : PROGRESS: at sentence #1160000, processed 8363838 words, keeping 272400 word types\n",
            "2019-04-02 13:44:05,254 : INFO : PROGRESS: at sentence #1170000, processed 8435510 words, keeping 273970 word types\n",
            "2019-04-02 13:44:05,288 : INFO : PROGRESS: at sentence #1180000, processed 8507795 words, keeping 275521 word types\n",
            "2019-04-02 13:44:05,323 : INFO : PROGRESS: at sentence #1190000, processed 8579080 words, keeping 277007 word types\n",
            "2019-04-02 13:44:05,356 : INFO : PROGRESS: at sentence #1200000, processed 8650606 words, keeping 278457 word types\n",
            "2019-04-02 13:44:05,390 : INFO : PROGRESS: at sentence #1210000, processed 8721893 words, keeping 279959 word types\n",
            "2019-04-02 13:44:05,422 : INFO : PROGRESS: at sentence #1220000, processed 8793795 words, keeping 281427 word types\n",
            "2019-04-02 13:44:05,456 : INFO : PROGRESS: at sentence #1230000, processed 8865726 words, keeping 282981 word types\n",
            "2019-04-02 13:44:05,490 : INFO : PROGRESS: at sentence #1240000, processed 8938173 words, keeping 284542 word types\n",
            "2019-04-02 13:44:05,524 : INFO : PROGRESS: at sentence #1250000, processed 9010842 words, keeping 286064 word types\n",
            "2019-04-02 13:44:05,561 : INFO : PROGRESS: at sentence #1260000, processed 9083261 words, keeping 287521 word types\n",
            "2019-04-02 13:44:05,595 : INFO : PROGRESS: at sentence #1270000, processed 9155616 words, keeping 288987 word types\n",
            "2019-04-02 13:44:05,627 : INFO : collected 290418 word types from a corpus of 9227204 raw words and 1280000 sentences\n",
            "2019-04-02 13:44:05,628 : INFO : Loading a fresh vocabulary\n",
            "2019-04-02 13:44:05,833 : INFO : effective_min_count=10 retains 30369 unique words (10% of original 290418, drops 260049)\n",
            "2019-04-02 13:44:05,834 : INFO : effective_min_count=10 leaves 8780739 word corpus (95% of original 9227204, drops 446465)\n",
            "2019-04-02 13:44:05,937 : INFO : deleting the raw counts dictionary of 290418 items\n",
            "2019-04-02 13:44:05,945 : INFO : sample=0.001 downsamples 45 most-common words\n",
            "2019-04-02 13:44:05,947 : INFO : downsampling leaves estimated 8222658 word corpus (93.6% of prior 8780739)\n",
            "2019-04-02 13:44:06,042 : INFO : estimated required memory for 30369 words and 300 dimensions: 88070100 bytes\n",
            "2019-04-02 13:44:06,043 : INFO : resetting layer weights\n"
          ],
          "name": "stderr"
        }
      ]
    },
    {
      "metadata": {
        "id": "rzARITtvG96W",
        "colab_type": "code",
        "outputId": "baf2fef4-a587-47d1-e840-0c641575fcee",
        "colab": {
          "base_uri": "https://localhost:8080/",
          "height": 34
        }
      },
      "cell_type": "code",
      "source": [
        "words  = w2v_model.wv.vocab.keys()\n",
        "vocab_size = len(words)\n",
        "print(\"Vocab size\", vocab_size)"
      ],
      "execution_count": 35,
      "outputs": [
        {
          "output_type": "stream",
          "text": [
            "Vocab size 30369\n"
          ],
          "name": "stdout"
        }
      ]
    },
    {
      "metadata": {
        "id": "QfM_WVfQG96Z",
        "colab_type": "code",
        "outputId": "b7fbac80-30d3-4af1-a40a-2647865bb12d",
        "colab": {
          "base_uri": "https://localhost:8080/",
          "height": 16476
        }
      },
      "cell_type": "code",
      "source": [
        "%%time\n",
        "w2v_model.train(documents, total_examples=len(documents), epochs=W2V_EPOCH)"
      ],
      "execution_count": 36,
      "outputs": [
        {
          "output_type": "stream",
          "text": [
            "2019-04-02 13:44:06,517 : INFO : training model with 8 workers on 30369 vocabulary and 300 features, using sg=0 hs=0 sample=0.001 negative=5 window=7\n",
            "2019-04-02 13:44:07,607 : INFO : EPOCH 1 - PROGRESS: at 4.01% examples, 310171 words/s, in_qsize 16, out_qsize 0\n",
            "2019-04-02 13:44:08,639 : INFO : EPOCH 1 - PROGRESS: at 8.58% examples, 340042 words/s, in_qsize 16, out_qsize 0\n",
            "2019-04-02 13:44:09,671 : INFO : EPOCH 1 - PROGRESS: at 12.93% examples, 339182 words/s, in_qsize 15, out_qsize 0\n",
            "2019-04-02 13:44:10,687 : INFO : EPOCH 1 - PROGRESS: at 17.78% examples, 352688 words/s, in_qsize 15, out_qsize 0\n",
            "2019-04-02 13:44:11,691 : INFO : EPOCH 1 - PROGRESS: at 22.11% examples, 353117 words/s, in_qsize 15, out_qsize 0\n",
            "2019-04-02 13:44:12,747 : INFO : EPOCH 1 - PROGRESS: at 26.45% examples, 350452 words/s, in_qsize 15, out_qsize 0\n",
            "2019-04-02 13:44:13,749 : INFO : EPOCH 1 - PROGRESS: at 30.78% examples, 351191 words/s, in_qsize 14, out_qsize 1\n",
            "2019-04-02 13:44:14,767 : INFO : EPOCH 1 - PROGRESS: at 35.32% examples, 353201 words/s, in_qsize 16, out_qsize 0\n",
            "2019-04-02 13:44:15,903 : INFO : EPOCH 1 - PROGRESS: at 39.97% examples, 351264 words/s, in_qsize 12, out_qsize 3\n",
            "2019-04-02 13:44:16,921 : INFO : EPOCH 1 - PROGRESS: at 44.73% examples, 354558 words/s, in_qsize 16, out_qsize 0\n",
            "2019-04-02 13:44:17,980 : INFO : EPOCH 1 - PROGRESS: at 49.38% examples, 355272 words/s, in_qsize 15, out_qsize 0\n",
            "2019-04-02 13:44:18,991 : INFO : EPOCH 1 - PROGRESS: at 53.70% examples, 355055 words/s, in_qsize 15, out_qsize 0\n",
            "2019-04-02 13:44:19,992 : INFO : EPOCH 1 - PROGRESS: at 57.81% examples, 353801 words/s, in_qsize 15, out_qsize 0\n",
            "2019-04-02 13:44:21,007 : INFO : EPOCH 1 - PROGRESS: at 62.25% examples, 354243 words/s, in_qsize 15, out_qsize 0\n",
            "2019-04-02 13:44:22,036 : INFO : EPOCH 1 - PROGRESS: at 66.80% examples, 354825 words/s, in_qsize 14, out_qsize 1\n",
            "2019-04-02 13:44:23,037 : INFO : EPOCH 1 - PROGRESS: at 71.24% examples, 355447 words/s, in_qsize 15, out_qsize 0\n",
            "2019-04-02 13:44:24,090 : INFO : EPOCH 1 - PROGRESS: at 75.89% examples, 355913 words/s, in_qsize 15, out_qsize 0\n",
            "2019-04-02 13:44:25,118 : INFO : EPOCH 1 - PROGRESS: at 80.36% examples, 355879 words/s, in_qsize 15, out_qsize 1\n",
            "2019-04-02 13:44:26,211 : INFO : EPOCH 1 - PROGRESS: at 84.91% examples, 355108 words/s, in_qsize 14, out_qsize 1\n",
            "2019-04-02 13:44:27,229 : INFO : EPOCH 1 - PROGRESS: at 89.45% examples, 355712 words/s, in_qsize 15, out_qsize 0\n",
            "2019-04-02 13:44:28,277 : INFO : EPOCH 1 - PROGRESS: at 94.14% examples, 356154 words/s, in_qsize 15, out_qsize 0\n",
            "2019-04-02 13:44:29,367 : INFO : EPOCH 1 - PROGRESS: at 98.69% examples, 355549 words/s, in_qsize 13, out_qsize 0\n",
            "2019-04-02 13:44:29,449 : INFO : worker thread finished; awaiting finish of 7 more threads\n",
            "2019-04-02 13:44:29,469 : INFO : worker thread finished; awaiting finish of 6 more threads\n",
            "2019-04-02 13:44:29,480 : INFO : worker thread finished; awaiting finish of 5 more threads\n",
            "2019-04-02 13:44:29,497 : INFO : worker thread finished; awaiting finish of 4 more threads\n",
            "2019-04-02 13:44:29,510 : INFO : worker thread finished; awaiting finish of 3 more threads\n",
            "2019-04-02 13:44:29,532 : INFO : worker thread finished; awaiting finish of 2 more threads\n",
            "2019-04-02 13:44:29,565 : INFO : worker thread finished; awaiting finish of 1 more threads\n",
            "2019-04-02 13:44:29,566 : INFO : worker thread finished; awaiting finish of 0 more threads\n",
            "2019-04-02 13:44:29,567 : INFO : EPOCH - 1 : training on 9227204 raw words (8222315 effective words) took 23.0s, 357144 effective words/s\n",
            "2019-04-02 13:44:30,599 : INFO : EPOCH 2 - PROGRESS: at 3.69% examples, 298140 words/s, in_qsize 12, out_qsize 4\n",
            "2019-04-02 13:44:31,679 : INFO : EPOCH 2 - PROGRESS: at 8.58% examples, 335824 words/s, in_qsize 16, out_qsize 0\n",
            "2019-04-02 13:44:32,703 : INFO : EPOCH 2 - PROGRESS: at 12.93% examples, 339771 words/s, in_qsize 15, out_qsize 0\n",
            "2019-04-02 13:44:33,704 : INFO : EPOCH 2 - PROGRESS: at 17.35% examples, 345809 words/s, in_qsize 15, out_qsize 0\n",
            "2019-04-02 13:44:34,712 : INFO : EPOCH 2 - PROGRESS: at 21.68% examples, 347314 words/s, in_qsize 15, out_qsize 0\n",
            "2019-04-02 13:44:35,842 : INFO : EPOCH 2 - PROGRESS: at 26.34% examples, 345794 words/s, in_qsize 15, out_qsize 0\n",
            "2019-04-02 13:44:36,845 : INFO : EPOCH 2 - PROGRESS: at 30.99% examples, 350837 words/s, in_qsize 15, out_qsize 0\n",
            "2019-04-02 13:44:37,895 : INFO : EPOCH 2 - PROGRESS: at 35.42% examples, 350439 words/s, in_qsize 15, out_qsize 0\n",
            "2019-04-02 13:44:38,932 : INFO : EPOCH 2 - PROGRESS: at 39.76% examples, 349702 words/s, in_qsize 15, out_qsize 0\n",
            "2019-04-02 13:44:39,964 : INFO : EPOCH 2 - PROGRESS: at 44.40% examples, 351803 words/s, in_qsize 14, out_qsize 1\n",
            "2019-04-02 13:44:40,970 : INFO : EPOCH 2 - PROGRESS: at 48.84% examples, 352810 words/s, in_qsize 15, out_qsize 0\n",
            "2019-04-02 13:44:41,981 : INFO : EPOCH 2 - PROGRESS: at 53.16% examples, 352822 words/s, in_qsize 16, out_qsize 0\n",
            "2019-04-02 13:44:43,017 : INFO : EPOCH 2 - PROGRESS: at 57.60% examples, 352806 words/s, in_qsize 15, out_qsize 0\n",
            "2019-04-02 13:44:44,046 : INFO : EPOCH 2 - PROGRESS: at 62.25% examples, 354162 words/s, in_qsize 15, out_qsize 0\n",
            "2019-04-02 13:44:45,158 : INFO : EPOCH 2 - PROGRESS: at 66.91% examples, 353467 words/s, in_qsize 15, out_qsize 0\n",
            "2019-04-02 13:44:46,203 : INFO : EPOCH 2 - PROGRESS: at 71.45% examples, 353747 words/s, in_qsize 15, out_qsize 0\n",
            "2019-04-02 13:44:47,217 : INFO : EPOCH 2 - PROGRESS: at 75.89% examples, 354112 words/s, in_qsize 16, out_qsize 0\n",
            "2019-04-02 13:44:48,224 : INFO : EPOCH 2 - PROGRESS: at 80.36% examples, 354571 words/s, in_qsize 12, out_qsize 3\n",
            "2019-04-02 13:44:49,275 : INFO : EPOCH 2 - PROGRESS: at 85.02% examples, 355085 words/s, in_qsize 15, out_qsize 1\n",
            "2019-04-02 13:44:50,299 : INFO : EPOCH 2 - PROGRESS: at 89.67% examples, 356031 words/s, in_qsize 16, out_qsize 0\n",
            "2019-04-02 13:44:51,358 : INFO : EPOCH 2 - PROGRESS: at 93.81% examples, 354229 words/s, in_qsize 13, out_qsize 4\n",
            "2019-04-02 13:44:52,454 : INFO : EPOCH 2 - PROGRESS: at 98.90% examples, 355558 words/s, in_qsize 10, out_qsize 1\n",
            "2019-04-02 13:44:52,502 : INFO : worker thread finished; awaiting finish of 7 more threads\n",
            "2019-04-02 13:44:52,509 : INFO : worker thread finished; awaiting finish of 6 more threads\n",
            "2019-04-02 13:44:52,513 : INFO : worker thread finished; awaiting finish of 5 more threads\n",
            "2019-04-02 13:44:52,537 : INFO : worker thread finished; awaiting finish of 4 more threads\n",
            "2019-04-02 13:44:52,548 : INFO : worker thread finished; awaiting finish of 3 more threads\n",
            "2019-04-02 13:44:52,563 : INFO : worker thread finished; awaiting finish of 2 more threads\n",
            "2019-04-02 13:44:52,579 : INFO : worker thread finished; awaiting finish of 1 more threads\n",
            "2019-04-02 13:44:52,581 : INFO : worker thread finished; awaiting finish of 0 more threads\n",
            "2019-04-02 13:44:52,582 : INFO : EPOCH - 2 : training on 9227204 raw words (8222057 effective words) took 23.0s, 357499 effective words/s\n",
            "2019-04-02 13:44:53,639 : INFO : EPOCH 3 - PROGRESS: at 4.02% examples, 316893 words/s, in_qsize 15, out_qsize 0\n",
            "2019-04-02 13:44:54,680 : INFO : EPOCH 3 - PROGRESS: at 8.47% examples, 333958 words/s, in_qsize 16, out_qsize 0\n",
            "2019-04-02 13:44:55,690 : INFO : EPOCH 3 - PROGRESS: at 12.93% examples, 343057 words/s, in_qsize 15, out_qsize 0\n",
            "2019-04-02 13:44:56,785 : INFO : EPOCH 3 - PROGRESS: at 17.68% examples, 346794 words/s, in_qsize 15, out_qsize 0\n",
            "2019-04-02 13:44:57,805 : INFO : EPOCH 3 - PROGRESS: at 22.22% examples, 350788 words/s, in_qsize 16, out_qsize 1\n",
            "2019-04-02 13:44:58,852 : INFO : EPOCH 3 - PROGRESS: at 26.67% examples, 350477 words/s, in_qsize 14, out_qsize 1\n",
            "2019-04-02 13:44:59,853 : INFO : EPOCH 3 - PROGRESS: at 31.10% examples, 352420 words/s, in_qsize 16, out_qsize 1\n",
            "2019-04-02 13:45:00,884 : INFO : EPOCH 3 - PROGRESS: at 35.42% examples, 351575 words/s, in_qsize 15, out_qsize 0\n",
            "2019-04-02 13:45:01,911 : INFO : EPOCH 3 - PROGRESS: at 39.97% examples, 352966 words/s, in_qsize 14, out_qsize 1\n",
            "2019-04-02 13:45:02,927 : INFO : EPOCH 3 - PROGRESS: at 44.62% examples, 355336 words/s, in_qsize 15, out_qsize 0\n",
            "2019-04-02 13:45:03,960 : INFO : EPOCH 3 - PROGRESS: at 48.95% examples, 354411 words/s, in_qsize 15, out_qsize 0\n",
            "2019-04-02 13:45:05,074 : INFO : EPOCH 3 - PROGRESS: at 53.81% examples, 354925 words/s, in_qsize 15, out_qsize 0\n",
            "2019-04-02 13:45:06,102 : INFO : EPOCH 3 - PROGRESS: at 58.25% examples, 355001 words/s, in_qsize 15, out_qsize 1\n",
            "2019-04-02 13:45:07,122 : INFO : EPOCH 3 - PROGRESS: at 62.90% examples, 356449 words/s, in_qsize 15, out_qsize 0\n",
            "2019-04-02 13:45:08,168 : INFO : EPOCH 3 - PROGRESS: at 67.23% examples, 355696 words/s, in_qsize 15, out_qsize 0\n",
            "2019-04-02 13:45:09,184 : INFO : EPOCH 3 - PROGRESS: at 71.67% examples, 355640 words/s, in_qsize 16, out_qsize 0\n",
            "2019-04-02 13:45:10,210 : INFO : EPOCH 3 - PROGRESS: at 76.11% examples, 355651 words/s, in_qsize 15, out_qsize 0\n",
            "2019-04-02 13:45:11,263 : INFO : EPOCH 3 - PROGRESS: at 80.68% examples, 355611 words/s, in_qsize 15, out_qsize 0\n",
            "2019-04-02 13:45:12,351 : INFO : EPOCH 3 - PROGRESS: at 85.02% examples, 354308 words/s, in_qsize 15, out_qsize 5\n",
            "2019-04-02 13:45:13,339 : INFO : EPOCH 3 - PROGRESS: at 89.67% examples, 355669 words/s, in_qsize 14, out_qsize 1\n",
            "2019-04-02 13:45:14,347 : INFO : EPOCH 3 - PROGRESS: at 94.03% examples, 355551 words/s, in_qsize 13, out_qsize 2\n",
            "2019-04-02 13:45:15,395 : INFO : EPOCH 3 - PROGRESS: at 98.47% examples, 355237 words/s, in_qsize 15, out_qsize 0\n",
            "2019-04-02 13:45:15,501 : INFO : worker thread finished; awaiting finish of 7 more threads\n",
            "2019-04-02 13:45:15,506 : INFO : worker thread finished; awaiting finish of 6 more threads\n",
            "2019-04-02 13:45:15,558 : INFO : worker thread finished; awaiting finish of 5 more threads\n",
            "2019-04-02 13:45:15,564 : INFO : worker thread finished; awaiting finish of 4 more threads\n",
            "2019-04-02 13:45:15,570 : INFO : worker thread finished; awaiting finish of 3 more threads\n",
            "2019-04-02 13:45:15,600 : INFO : worker thread finished; awaiting finish of 2 more threads\n",
            "2019-04-02 13:45:15,615 : INFO : worker thread finished; awaiting finish of 1 more threads\n",
            "2019-04-02 13:45:15,616 : INFO : worker thread finished; awaiting finish of 0 more threads\n",
            "2019-04-02 13:45:15,617 : INFO : EPOCH - 3 : training on 9227204 raw words (8223669 effective words) took 23.0s, 357275 effective words/s\n",
            "2019-04-02 13:45:16,654 : INFO : EPOCH 4 - PROGRESS: at 3.80% examples, 305280 words/s, in_qsize 14, out_qsize 2\n",
            "2019-04-02 13:45:17,657 : INFO : EPOCH 4 - PROGRESS: at 8.36% examples, 338793 words/s, in_qsize 15, out_qsize 0\n",
            "2019-04-02 13:45:18,691 : INFO : EPOCH 4 - PROGRESS: at 13.14% examples, 352490 words/s, in_qsize 15, out_qsize 0\n",
            "2019-04-02 13:45:19,712 : INFO : EPOCH 4 - PROGRESS: at 17.46% examples, 351516 words/s, in_qsize 15, out_qsize 0\n",
            "2019-04-02 13:45:20,754 : INFO : EPOCH 4 - PROGRESS: at 21.67% examples, 347820 words/s, in_qsize 15, out_qsize 0\n",
            "2019-04-02 13:45:21,771 : INFO : EPOCH 4 - PROGRESS: at 26.67% examples, 356948 words/s, in_qsize 16, out_qsize 0\n",
            "2019-04-02 13:45:22,780 : INFO : EPOCH 4 - PROGRESS: at 30.67% examples, 352712 words/s, in_qsize 15, out_qsize 0\n",
            "2019-04-02 13:45:23,825 : INFO : EPOCH 4 - PROGRESS: at 35.00% examples, 351235 words/s, in_qsize 15, out_qsize 2\n",
            "2019-04-02 13:45:24,831 : INFO : EPOCH 4 - PROGRESS: at 39.65% examples, 354451 words/s, in_qsize 15, out_qsize 0\n",
            "2019-04-02 13:45:25,834 : INFO : EPOCH 4 - PROGRESS: at 44.18% examples, 356248 words/s, in_qsize 16, out_qsize 0\n",
            "2019-04-02 13:45:26,835 : INFO : EPOCH 4 - PROGRESS: at 48.73% examples, 357829 words/s, in_qsize 14, out_qsize 0\n",
            "2019-04-02 13:45:27,862 : INFO : EPOCH 4 - PROGRESS: at 53.48% examples, 359843 words/s, in_qsize 16, out_qsize 0\n",
            "2019-04-02 13:45:28,956 : INFO : EPOCH 4 - PROGRESS: at 57.92% examples, 357727 words/s, in_qsize 16, out_qsize 0\n",
            "2019-04-02 13:45:29,974 : INFO : EPOCH 4 - PROGRESS: at 62.36% examples, 357807 words/s, in_qsize 12, out_qsize 3\n",
            "2019-04-02 13:45:30,984 : INFO : EPOCH 4 - PROGRESS: at 66.80% examples, 358037 words/s, in_qsize 14, out_qsize 1\n",
            "2019-04-02 13:45:31,992 : INFO : EPOCH 4 - PROGRESS: at 71.02% examples, 357225 words/s, in_qsize 14, out_qsize 1\n",
            "2019-04-02 13:45:33,043 : INFO : EPOCH 4 - PROGRESS: at 75.78% examples, 358583 words/s, in_qsize 15, out_qsize 1\n",
            "2019-04-02 13:45:34,051 : INFO : EPOCH 4 - PROGRESS: at 80.03% examples, 357404 words/s, in_qsize 10, out_qsize 5\n",
            "2019-04-02 13:45:35,056 : INFO : EPOCH 4 - PROGRESS: at 84.59% examples, 358204 words/s, in_qsize 16, out_qsize 0\n",
            "2019-04-02 13:45:36,082 : INFO : EPOCH 4 - PROGRESS: at 89.02% examples, 358088 words/s, in_qsize 14, out_qsize 1\n",
            "2019-04-02 13:45:37,124 : INFO : EPOCH 4 - PROGRESS: at 93.37% examples, 357260 words/s, in_qsize 15, out_qsize 0\n",
            "2019-04-02 13:45:38,133 : INFO : EPOCH 4 - PROGRESS: at 97.93% examples, 357870 words/s, in_qsize 15, out_qsize 0\n",
            "2019-04-02 13:45:38,381 : INFO : worker thread finished; awaiting finish of 7 more threads\n",
            "2019-04-02 13:45:38,389 : INFO : worker thread finished; awaiting finish of 6 more threads\n",
            "2019-04-02 13:45:38,406 : INFO : worker thread finished; awaiting finish of 5 more threads\n",
            "2019-04-02 13:45:38,426 : INFO : worker thread finished; awaiting finish of 4 more threads\n",
            "2019-04-02 13:45:38,448 : INFO : worker thread finished; awaiting finish of 3 more threads\n",
            "2019-04-02 13:45:38,482 : INFO : worker thread finished; awaiting finish of 2 more threads\n",
            "2019-04-02 13:45:38,494 : INFO : worker thread finished; awaiting finish of 1 more threads\n",
            "2019-04-02 13:45:38,502 : INFO : worker thread finished; awaiting finish of 0 more threads\n",
            "2019-04-02 13:45:38,503 : INFO : EPOCH - 4 : training on 9227204 raw words (8222372 effective words) took 22.9s, 359525 effective words/s\n",
            "2019-04-02 13:45:39,583 : INFO : EPOCH 5 - PROGRESS: at 4.13% examples, 317310 words/s, in_qsize 15, out_qsize 0\n",
            "2019-04-02 13:45:40,592 : INFO : EPOCH 5 - PROGRESS: at 8.80% examples, 347754 words/s, in_qsize 13, out_qsize 2\n",
            "2019-04-02 13:45:41,631 : INFO : EPOCH 5 - PROGRESS: at 13.04% examples, 343236 words/s, in_qsize 13, out_qsize 5\n",
            "2019-04-02 13:45:42,634 : INFO : EPOCH 5 - PROGRESS: at 17.89% examples, 356919 words/s, in_qsize 16, out_qsize 1\n",
            "2019-04-02 13:45:43,641 : INFO : EPOCH 5 - PROGRESS: at 22.33% examples, 358103 words/s, in_qsize 15, out_qsize 0\n",
            "2019-04-02 13:45:44,753 : INFO : EPOCH 5 - PROGRESS: at 26.77% examples, 352756 words/s, in_qsize 15, out_qsize 0\n",
            "2019-04-02 13:45:45,813 : INFO : EPOCH 5 - PROGRESS: at 31.10% examples, 351969 words/s, in_qsize 15, out_qsize 4\n",
            "2019-04-02 13:45:46,842 : INFO : EPOCH 5 - PROGRESS: at 35.64% examples, 353351 words/s, in_qsize 15, out_qsize 2\n",
            "2019-04-02 13:45:47,832 : INFO : EPOCH 5 - PROGRESS: at 40.08% examples, 353764 words/s, in_qsize 15, out_qsize 0\n",
            "2019-04-02 13:45:48,833 : INFO : EPOCH 5 - PROGRESS: at 44.62% examples, 355686 words/s, in_qsize 12, out_qsize 2\n",
            "2019-04-02 13:45:49,887 : INFO : EPOCH 5 - PROGRESS: at 49.06% examples, 354875 words/s, in_qsize 15, out_qsize 0\n",
            "2019-04-02 13:45:50,907 : INFO : EPOCH 5 - PROGRESS: at 53.59% examples, 355863 words/s, in_qsize 14, out_qsize 1\n",
            "2019-04-02 13:45:51,967 : INFO : EPOCH 5 - PROGRESS: at 57.93% examples, 354317 words/s, in_qsize 15, out_qsize 0\n",
            "2019-04-02 13:45:52,967 : INFO : EPOCH 5 - PROGRESS: at 62.36% examples, 355068 words/s, in_qsize 14, out_qsize 1\n",
            "2019-04-02 13:45:54,005 : INFO : EPOCH 5 - PROGRESS: at 66.69% examples, 354567 words/s, in_qsize 15, out_qsize 2\n",
            "2019-04-02 13:45:54,993 : INFO : EPOCH 5 - PROGRESS: at 71.56% examples, 357332 words/s, in_qsize 15, out_qsize 0\n",
            "2019-04-02 13:45:56,001 : INFO : EPOCH 5 - PROGRESS: at 75.46% examples, 355078 words/s, in_qsize 14, out_qsize 3\n",
            "2019-04-02 13:45:57,026 : INFO : EPOCH 5 - PROGRESS: at 80.25% examples, 356595 words/s, in_qsize 15, out_qsize 0\n",
            "2019-04-02 13:45:58,074 : INFO : EPOCH 5 - PROGRESS: at 84.48% examples, 355255 words/s, in_qsize 14, out_qsize 1\n",
            "2019-04-02 13:45:59,137 : INFO : EPOCH 5 - PROGRESS: at 89.13% examples, 355515 words/s, in_qsize 16, out_qsize 2\n",
            "2019-04-02 13:46:00,144 : INFO : EPOCH 5 - PROGRESS: at 93.59% examples, 355835 words/s, in_qsize 15, out_qsize 0\n",
            "2019-04-02 13:46:01,151 : INFO : EPOCH 5 - PROGRESS: at 98.25% examples, 356923 words/s, in_qsize 15, out_qsize 0\n",
            "2019-04-02 13:46:01,385 : INFO : worker thread finished; awaiting finish of 7 more threads\n",
            "2019-04-02 13:46:01,409 : INFO : worker thread finished; awaiting finish of 6 more threads\n",
            "2019-04-02 13:46:01,437 : INFO : worker thread finished; awaiting finish of 5 more threads\n",
            "2019-04-02 13:46:01,456 : INFO : worker thread finished; awaiting finish of 4 more threads\n",
            "2019-04-02 13:46:01,485 : INFO : worker thread finished; awaiting finish of 3 more threads\n",
            "2019-04-02 13:46:01,498 : INFO : worker thread finished; awaiting finish of 2 more threads\n",
            "2019-04-02 13:46:01,504 : INFO : worker thread finished; awaiting finish of 1 more threads\n",
            "2019-04-02 13:46:01,510 : INFO : worker thread finished; awaiting finish of 0 more threads\n",
            "2019-04-02 13:46:01,511 : INFO : EPOCH - 5 : training on 9227204 raw words (8222150 effective words) took 23.0s, 357579 effective words/s\n",
            "2019-04-02 13:46:02,598 : INFO : EPOCH 6 - PROGRESS: at 4.13% examples, 315086 words/s, in_qsize 16, out_qsize 0\n",
            "2019-04-02 13:46:03,610 : INFO : EPOCH 6 - PROGRESS: at 8.58% examples, 337343 words/s, in_qsize 15, out_qsize 0\n",
            "2019-04-02 13:46:04,629 : INFO : EPOCH 6 - PROGRESS: at 13.04% examples, 344296 words/s, in_qsize 15, out_qsize 0\n",
            "2019-04-02 13:46:05,637 : INFO : EPOCH 6 - PROGRESS: at 17.46% examples, 348672 words/s, in_qsize 15, out_qsize 0\n",
            "2019-04-02 13:46:06,663 : INFO : EPOCH 6 - PROGRESS: at 21.90% examples, 350161 words/s, in_qsize 15, out_qsize 0\n",
            "2019-04-02 13:46:07,710 : INFO : EPOCH 6 - PROGRESS: at 26.23% examples, 348532 words/s, in_qsize 14, out_qsize 1\n",
            "2019-04-02 13:46:08,715 : INFO : EPOCH 6 - PROGRESS: at 30.89% examples, 353125 words/s, in_qsize 14, out_qsize 1\n",
            "2019-04-02 13:46:09,731 : INFO : EPOCH 6 - PROGRESS: at 35.21% examples, 352821 words/s, in_qsize 15, out_qsize 0\n",
            "2019-04-02 13:46:10,774 : INFO : EPOCH 6 - PROGRESS: at 39.54% examples, 351563 words/s, in_qsize 11, out_qsize 4\n",
            "2019-04-02 13:46:11,793 : INFO : EPOCH 6 - PROGRESS: at 44.07% examples, 353114 words/s, in_qsize 15, out_qsize 0\n",
            "2019-04-02 13:46:12,807 : INFO : EPOCH 6 - PROGRESS: at 48.62% examples, 354533 words/s, in_qsize 14, out_qsize 0\n",
            "2019-04-02 13:46:13,837 : INFO : EPOCH 6 - PROGRESS: at 52.84% examples, 353101 words/s, in_qsize 14, out_qsize 1\n",
            "2019-04-02 13:46:14,897 : INFO : EPOCH 6 - PROGRESS: at 57.38% examples, 353100 words/s, in_qsize 14, out_qsize 1\n",
            "2019-04-02 13:46:15,919 : INFO : EPOCH 6 - PROGRESS: at 61.82% examples, 353402 words/s, in_qsize 16, out_qsize 0\n",
            "2019-04-02 13:46:16,945 : INFO : EPOCH 6 - PROGRESS: at 66.47% examples, 354708 words/s, in_qsize 15, out_qsize 0\n",
            "2019-04-02 13:46:17,971 : INFO : EPOCH 6 - PROGRESS: at 70.91% examples, 354811 words/s, in_qsize 15, out_qsize 0\n",
            "2019-04-02 13:46:18,989 : INFO : EPOCH 6 - PROGRESS: at 75.67% examples, 356558 words/s, in_qsize 13, out_qsize 0\n",
            "2019-04-02 13:46:19,999 : INFO : EPOCH 6 - PROGRESS: at 79.81% examples, 355399 words/s, in_qsize 15, out_qsize 0\n",
            "2019-04-02 13:46:21,145 : INFO : EPOCH 6 - PROGRESS: at 84.48% examples, 354594 words/s, in_qsize 15, out_qsize 2\n",
            "2019-04-02 13:46:22,125 : INFO : EPOCH 6 - PROGRESS: at 89.02% examples, 355460 words/s, in_qsize 15, out_qsize 0\n",
            "2019-04-02 13:46:23,155 : INFO : EPOCH 6 - PROGRESS: at 93.37% examples, 354995 words/s, in_qsize 14, out_qsize 2\n",
            "2019-04-02 13:46:24,164 : INFO : EPOCH 6 - PROGRESS: at 97.82% examples, 355294 words/s, in_qsize 15, out_qsize 0\n",
            "2019-04-02 13:46:24,481 : INFO : worker thread finished; awaiting finish of 7 more threads\n",
            "2019-04-02 13:46:24,487 : INFO : worker thread finished; awaiting finish of 6 more threads\n",
            "2019-04-02 13:46:24,488 : INFO : worker thread finished; awaiting finish of 5 more threads\n",
            "2019-04-02 13:46:24,492 : INFO : worker thread finished; awaiting finish of 4 more threads\n",
            "2019-04-02 13:46:24,517 : INFO : worker thread finished; awaiting finish of 3 more threads\n",
            "2019-04-02 13:46:24,536 : INFO : worker thread finished; awaiting finish of 2 more threads\n",
            "2019-04-02 13:46:24,565 : INFO : worker thread finished; awaiting finish of 1 more threads\n",
            "2019-04-02 13:46:24,567 : INFO : worker thread finished; awaiting finish of 0 more threads\n",
            "2019-04-02 13:46:24,568 : INFO : EPOCH - 6 : training on 9227204 raw words (8222960 effective words) took 23.0s, 356839 effective words/s\n",
            "2019-04-02 13:46:25,587 : INFO : EPOCH 7 - PROGRESS: at 3.91% examples, 320361 words/s, in_qsize 15, out_qsize 0\n",
            "2019-04-02 13:46:26,630 : INFO : EPOCH 7 - PROGRESS: at 8.36% examples, 335492 words/s, in_qsize 15, out_qsize 0\n",
            "2019-04-02 13:46:27,632 : INFO : EPOCH 7 - PROGRESS: at 12.93% examples, 347975 words/s, in_qsize 14, out_qsize 0\n",
            "2019-04-02 13:46:28,668 : INFO : EPOCH 7 - PROGRESS: at 17.24% examples, 346883 words/s, in_qsize 15, out_qsize 0\n",
            "2019-04-02 13:46:29,690 : INFO : EPOCH 7 - PROGRESS: at 21.90% examples, 352439 words/s, in_qsize 15, out_qsize 0\n",
            "2019-04-02 13:46:30,717 : INFO : EPOCH 7 - PROGRESS: at 26.56% examples, 355938 words/s, in_qsize 15, out_qsize 0\n",
            "2019-04-02 13:46:31,718 : INFO : EPOCH 7 - PROGRESS: at 30.67% examples, 353443 words/s, in_qsize 14, out_qsize 1\n",
            "2019-04-02 13:46:32,784 : INFO : EPOCH 7 - PROGRESS: at 35.10% examples, 353155 words/s, in_qsize 15, out_qsize 1\n",
            "2019-04-02 13:46:33,765 : INFO : EPOCH 7 - PROGRESS: at 39.54% examples, 354185 words/s, in_qsize 15, out_qsize 0\n",
            "2019-04-02 13:46:34,887 : INFO : EPOCH 7 - PROGRESS: at 44.18% examples, 352799 words/s, in_qsize 13, out_qsize 4\n",
            "2019-04-02 13:46:35,887 : INFO : EPOCH 7 - PROGRESS: at 49.16% examples, 357827 words/s, in_qsize 13, out_qsize 0\n",
            "2019-04-02 13:46:36,893 : INFO : EPOCH 7 - PROGRESS: at 53.27% examples, 356098 words/s, in_qsize 16, out_qsize 0\n",
            "2019-04-02 13:46:37,931 : INFO : EPOCH 7 - PROGRESS: at 57.81% examples, 356461 words/s, in_qsize 16, out_qsize 0\n",
            "2019-04-02 13:46:38,943 : INFO : EPOCH 7 - PROGRESS: at 61.82% examples, 354289 words/s, in_qsize 15, out_qsize 0\n",
            "2019-04-02 13:46:40,021 : INFO : EPOCH 7 - PROGRESS: at 66.37% examples, 353776 words/s, in_qsize 15, out_qsize 0\n",
            "2019-04-02 13:46:41,036 : INFO : EPOCH 7 - PROGRESS: at 70.80% examples, 354155 words/s, in_qsize 16, out_qsize 0\n",
            "2019-04-02 13:46:42,037 : INFO : EPOCH 7 - PROGRESS: at 75.35% examples, 355259 words/s, in_qsize 13, out_qsize 2\n",
            "2019-04-02 13:46:43,110 : INFO : EPOCH 7 - PROGRESS: at 79.71% examples, 353903 words/s, in_qsize 12, out_qsize 3\n",
            "2019-04-02 13:46:44,119 : INFO : EPOCH 7 - PROGRESS: at 84.48% examples, 355706 words/s, in_qsize 16, out_qsize 0\n",
            "2019-04-02 13:46:45,139 : INFO : EPOCH 7 - PROGRESS: at 88.59% examples, 354504 words/s, in_qsize 15, out_qsize 0\n",
            "2019-04-02 13:46:46,173 : INFO : EPOCH 7 - PROGRESS: at 93.16% examples, 354831 words/s, in_qsize 15, out_qsize 3\n",
            "2019-04-02 13:46:47,199 : INFO : EPOCH 7 - PROGRESS: at 97.61% examples, 354878 words/s, in_qsize 14, out_qsize 1\n",
            "2019-04-02 13:46:47,520 : INFO : worker thread finished; awaiting finish of 7 more threads\n",
            "2019-04-02 13:46:47,547 : INFO : worker thread finished; awaiting finish of 6 more threads\n",
            "2019-04-02 13:46:47,557 : INFO : worker thread finished; awaiting finish of 5 more threads\n",
            "2019-04-02 13:46:47,564 : INFO : worker thread finished; awaiting finish of 4 more threads\n",
            "2019-04-02 13:46:47,599 : INFO : worker thread finished; awaiting finish of 3 more threads\n",
            "2019-04-02 13:46:47,606 : INFO : worker thread finished; awaiting finish of 2 more threads\n",
            "2019-04-02 13:46:47,610 : INFO : worker thread finished; awaiting finish of 1 more threads\n",
            "2019-04-02 13:46:47,626 : INFO : worker thread finished; awaiting finish of 0 more threads\n",
            "2019-04-02 13:46:47,627 : INFO : EPOCH - 7 : training on 9227204 raw words (8221968 effective words) took 23.0s, 356835 effective words/s\n",
            "2019-04-02 13:46:48,646 : INFO : EPOCH 8 - PROGRESS: at 4.13% examples, 335857 words/s, in_qsize 16, out_qsize 0\n",
            "2019-04-02 13:46:49,666 : INFO : EPOCH 8 - PROGRESS: at 8.36% examples, 338259 words/s, in_qsize 16, out_qsize 1\n",
            "2019-04-02 13:46:50,771 : INFO : EPOCH 8 - PROGRESS: at 13.04% examples, 341248 words/s, in_qsize 15, out_qsize 0\n",
            "2019-04-02 13:46:51,811 : INFO : EPOCH 8 - PROGRESS: at 17.57% examples, 345774 words/s, in_qsize 16, out_qsize 1\n",
            "2019-04-02 13:46:52,821 : INFO : EPOCH 8 - PROGRESS: at 22.22% examples, 352329 words/s, in_qsize 13, out_qsize 1\n",
            "2019-04-02 13:46:53,865 : INFO : EPOCH 8 - PROGRESS: at 26.56% examples, 350521 words/s, in_qsize 12, out_qsize 3\n",
            "2019-04-02 13:46:54,875 : INFO : EPOCH 8 - PROGRESS: at 30.99% examples, 352067 words/s, in_qsize 13, out_qsize 5\n",
            "2019-04-02 13:46:55,927 : INFO : EPOCH 8 - PROGRESS: at 35.75% examples, 354676 words/s, in_qsize 15, out_qsize 0\n",
            "2019-04-02 13:46:56,961 : INFO : EPOCH 8 - PROGRESS: at 40.19% examples, 354521 words/s, in_qsize 14, out_qsize 1\n",
            "2019-04-02 13:46:58,017 : INFO : EPOCH 8 - PROGRESS: at 44.72% examples, 354460 words/s, in_qsize 14, out_qsize 1\n",
            "2019-04-02 13:46:59,029 : INFO : EPOCH 8 - PROGRESS: at 49.16% examples, 355032 words/s, in_qsize 15, out_qsize 0\n",
            "2019-04-02 13:47:00,030 : INFO : EPOCH 8 - PROGRESS: at 53.59% examples, 355878 words/s, in_qsize 15, out_qsize 0\n",
            "2019-04-02 13:47:01,039 : INFO : EPOCH 8 - PROGRESS: at 58.26% examples, 357686 words/s, in_qsize 15, out_qsize 0\n",
            "2019-04-02 13:47:02,048 : INFO : EPOCH 8 - PROGRESS: at 62.46% examples, 356748 words/s, in_qsize 13, out_qsize 2\n",
            "2019-04-02 13:47:03,091 : INFO : EPOCH 8 - PROGRESS: at 67.02% examples, 356866 words/s, in_qsize 15, out_qsize 0\n",
            "2019-04-02 13:47:04,112 : INFO : EPOCH 8 - PROGRESS: at 71.67% examples, 357998 words/s, in_qsize 15, out_qsize 0\n",
            "2019-04-02 13:47:05,184 : INFO : EPOCH 8 - PROGRESS: at 76.22% examples, 357437 words/s, in_qsize 16, out_qsize 0\n",
            "2019-04-02 13:47:06,232 : INFO : EPOCH 8 - PROGRESS: at 80.68% examples, 356937 words/s, in_qsize 15, out_qsize 0\n",
            "2019-04-02 13:47:07,234 : INFO : EPOCH 8 - PROGRESS: at 85.23% examples, 357783 words/s, in_qsize 15, out_qsize 0\n",
            "2019-04-02 13:47:08,271 : INFO : EPOCH 8 - PROGRESS: at 89.45% examples, 356630 words/s, in_qsize 13, out_qsize 2\n",
            "2019-04-02 13:47:09,288 : INFO : EPOCH 8 - PROGRESS: at 94.25% examples, 357955 words/s, in_qsize 15, out_qsize 0\n",
            "2019-04-02 13:47:10,346 : INFO : EPOCH 8 - PROGRESS: at 98.69% examples, 357363 words/s, in_qsize 12, out_qsize 1\n",
            "2019-04-02 13:47:10,452 : INFO : worker thread finished; awaiting finish of 7 more threads\n",
            "2019-04-02 13:47:10,465 : INFO : worker thread finished; awaiting finish of 6 more threads\n",
            "2019-04-02 13:47:10,472 : INFO : worker thread finished; awaiting finish of 5 more threads\n",
            "2019-04-02 13:47:10,511 : INFO : worker thread finished; awaiting finish of 4 more threads\n",
            "2019-04-02 13:47:10,518 : INFO : worker thread finished; awaiting finish of 3 more threads\n",
            "2019-04-02 13:47:10,523 : INFO : worker thread finished; awaiting finish of 2 more threads\n",
            "2019-04-02 13:47:10,531 : INFO : worker thread finished; awaiting finish of 1 more threads\n",
            "2019-04-02 13:47:10,544 : INFO : worker thread finished; awaiting finish of 0 more threads\n",
            "2019-04-02 13:47:10,546 : INFO : EPOCH - 8 : training on 9227204 raw words (8222840 effective words) took 22.9s, 358958 effective words/s\n",
            "2019-04-02 13:47:11,665 : INFO : EPOCH 9 - PROGRESS: at 4.13% examples, 314563 words/s, in_qsize 15, out_qsize 3\n",
            "2019-04-02 13:47:12,645 : INFO : EPOCH 9 - PROGRESS: at 8.58% examples, 337326 words/s, in_qsize 15, out_qsize 0\n",
            "2019-04-02 13:47:13,683 : INFO : EPOCH 9 - PROGRESS: at 13.15% examples, 345025 words/s, in_qsize 15, out_qsize 0\n",
            "2019-04-02 13:47:14,729 : INFO : EPOCH 9 - PROGRESS: at 17.68% examples, 348132 words/s, in_qsize 16, out_qsize 1\n",
            "2019-04-02 13:47:15,748 : INFO : EPOCH 9 - PROGRESS: at 22.22% examples, 351906 words/s, in_qsize 15, out_qsize 0\n",
            "2019-04-02 13:47:16,780 : INFO : EPOCH 9 - PROGRESS: at 26.77% examples, 353705 words/s, in_qsize 15, out_qsize 0\n",
            "2019-04-02 13:47:17,780 : INFO : EPOCH 9 - PROGRESS: at 31.64% examples, 360241 words/s, in_qsize 15, out_qsize 0\n",
            "2019-04-02 13:47:18,927 : INFO : EPOCH 9 - PROGRESS: at 36.08% examples, 354491 words/s, in_qsize 13, out_qsize 2\n",
            "2019-04-02 13:47:19,963 : INFO : EPOCH 9 - PROGRESS: at 40.51% examples, 354267 words/s, in_qsize 15, out_qsize 5\n",
            "2019-04-02 13:47:20,981 : INFO : EPOCH 9 - PROGRESS: at 45.48% examples, 358963 words/s, in_qsize 16, out_qsize 0\n",
            "2019-04-02 13:47:22,050 : INFO : EPOCH 9 - PROGRESS: at 49.92% examples, 357356 words/s, in_qsize 16, out_qsize 0\n",
            "2019-04-02 13:47:23,167 : INFO : EPOCH 9 - PROGRESS: at 54.46% examples, 355378 words/s, in_qsize 15, out_qsize 0\n",
            "2019-04-02 13:47:24,209 : INFO : EPOCH 9 - PROGRESS: at 59.12% examples, 356321 words/s, in_qsize 15, out_qsize 0\n",
            "2019-04-02 13:47:25,233 : INFO : EPOCH 9 - PROGRESS: at 63.97% examples, 358746 words/s, in_qsize 14, out_qsize 1\n",
            "2019-04-02 13:47:26,376 : INFO : EPOCH 9 - PROGRESS: at 68.64% examples, 357045 words/s, in_qsize 15, out_qsize 0\n",
            "2019-04-02 13:47:27,431 : INFO : EPOCH 9 - PROGRESS: at 73.30% examples, 357403 words/s, in_qsize 15, out_qsize 0\n",
            "2019-04-02 13:47:28,490 : INFO : EPOCH 9 - PROGRESS: at 78.07% examples, 358146 words/s, in_qsize 14, out_qsize 1\n",
            "2019-04-02 13:47:29,540 : INFO : EPOCH 9 - PROGRESS: at 82.64% examples, 358050 words/s, in_qsize 15, out_qsize 0\n",
            "2019-04-02 13:47:30,543 : INFO : EPOCH 9 - PROGRESS: at 87.51% examples, 360112 words/s, in_qsize 15, out_qsize 0\n",
            "2019-04-02 13:47:31,574 : INFO : EPOCH 9 - PROGRESS: at 92.50% examples, 361929 words/s, in_qsize 15, out_qsize 0\n",
            "2019-04-02 13:47:32,622 : INFO : EPOCH 9 - PROGRESS: at 96.75% examples, 360480 words/s, in_qsize 15, out_qsize 0\n",
            "2019-04-02 13:47:33,080 : INFO : worker thread finished; awaiting finish of 7 more threads\n",
            "2019-04-02 13:47:33,103 : INFO : worker thread finished; awaiting finish of 6 more threads\n",
            "2019-04-02 13:47:33,114 : INFO : worker thread finished; awaiting finish of 5 more threads\n",
            "2019-04-02 13:47:33,143 : INFO : worker thread finished; awaiting finish of 4 more threads\n",
            "2019-04-02 13:47:33,162 : INFO : worker thread finished; awaiting finish of 3 more threads\n",
            "2019-04-02 13:47:33,173 : INFO : worker thread finished; awaiting finish of 2 more threads\n",
            "2019-04-02 13:47:33,186 : INFO : worker thread finished; awaiting finish of 1 more threads\n",
            "2019-04-02 13:47:33,194 : INFO : worker thread finished; awaiting finish of 0 more threads\n",
            "2019-04-02 13:47:33,195 : INFO : EPOCH - 9 : training on 9227204 raw words (8221689 effective words) took 22.6s, 363207 effective words/s\n",
            "2019-04-02 13:47:34,285 : INFO : EPOCH 10 - PROGRESS: at 4.34% examples, 331048 words/s, in_qsize 15, out_qsize 0\n",
            "2019-04-02 13:47:35,334 : INFO : EPOCH 10 - PROGRESS: at 8.69% examples, 335381 words/s, in_qsize 15, out_qsize 2\n",
            "2019-04-02 13:47:36,334 : INFO : EPOCH 10 - PROGRESS: at 13.79% examples, 361935 words/s, in_qsize 15, out_qsize 0\n",
            "2019-04-02 13:47:37,384 : INFO : EPOCH 10 - PROGRESS: at 18.32% examples, 360447 words/s, in_qsize 16, out_qsize 0\n",
            "2019-04-02 13:47:38,428 : INFO : EPOCH 10 - PROGRESS: at 22.87% examples, 360125 words/s, in_qsize 15, out_qsize 0\n",
            "2019-04-02 13:47:39,453 : INFO : EPOCH 10 - PROGRESS: at 27.64% examples, 363762 words/s, in_qsize 15, out_qsize 0\n",
            "2019-04-02 13:47:40,491 : INFO : EPOCH 10 - PROGRESS: at 32.41% examples, 365770 words/s, in_qsize 15, out_qsize 0\n",
            "2019-04-02 13:47:41,512 : INFO : EPOCH 10 - PROGRESS: at 37.48% examples, 371225 words/s, in_qsize 15, out_qsize 0\n",
            "2019-04-02 13:47:42,555 : INFO : EPOCH 10 - PROGRESS: at 41.91% examples, 368867 words/s, in_qsize 15, out_qsize 0\n",
            "2019-04-02 13:47:43,619 : INFO : EPOCH 10 - PROGRESS: at 46.35% examples, 366218 words/s, in_qsize 14, out_qsize 1\n",
            "2019-04-02 13:47:44,627 : INFO : EPOCH 10 - PROGRESS: at 51.32% examples, 369815 words/s, in_qsize 15, out_qsize 0\n",
            "2019-04-02 13:47:45,673 : INFO : EPOCH 10 - PROGRESS: at 55.10% examples, 363799 words/s, in_qsize 14, out_qsize 1\n",
            "2019-04-02 13:47:46,701 : INFO : EPOCH 10 - PROGRESS: at 59.77% examples, 364485 words/s, in_qsize 15, out_qsize 0\n",
            "2019-04-02 13:47:47,711 : INFO : EPOCH 10 - PROGRESS: at 64.19% examples, 364282 words/s, in_qsize 15, out_qsize 0\n",
            "2019-04-02 13:47:48,724 : INFO : EPOCH 10 - PROGRESS: at 68.75% examples, 364618 words/s, in_qsize 15, out_qsize 0\n",
            "2019-04-02 13:47:49,867 : INFO : EPOCH 10 - PROGRESS: at 73.62% examples, 363649 words/s, in_qsize 15, out_qsize 0\n",
            "2019-04-02 13:47:50,908 : INFO : EPOCH 10 - PROGRESS: at 78.40% examples, 364414 words/s, in_qsize 15, out_qsize 0\n",
            "2019-04-02 13:47:51,908 : INFO : EPOCH 10 - PROGRESS: at 82.85% examples, 364439 words/s, in_qsize 16, out_qsize 0\n",
            "2019-04-02 13:47:53,046 : INFO : EPOCH 10 - PROGRESS: at 87.72% examples, 363745 words/s, in_qsize 14, out_qsize 1\n",
            "2019-04-02 13:47:54,093 : INFO : EPOCH 10 - PROGRESS: at 92.17% examples, 362976 words/s, in_qsize 15, out_qsize 0\n",
            "2019-04-02 13:47:55,211 : INFO : EPOCH 10 - PROGRESS: at 97.17% examples, 363159 words/s, in_qsize 14, out_qsize 1\n",
            "2019-04-02 13:47:55,642 : INFO : worker thread finished; awaiting finish of 7 more threads\n",
            "2019-04-02 13:47:55,648 : INFO : worker thread finished; awaiting finish of 6 more threads\n",
            "2019-04-02 13:47:55,656 : INFO : worker thread finished; awaiting finish of 5 more threads\n",
            "2019-04-02 13:47:55,661 : INFO : worker thread finished; awaiting finish of 4 more threads\n",
            "2019-04-02 13:47:55,663 : INFO : worker thread finished; awaiting finish of 3 more threads\n",
            "2019-04-02 13:47:55,673 : INFO : worker thread finished; awaiting finish of 2 more threads\n",
            "2019-04-02 13:47:55,691 : INFO : worker thread finished; awaiting finish of 1 more threads\n",
            "2019-04-02 13:47:55,707 : INFO : worker thread finished; awaiting finish of 0 more threads\n",
            "2019-04-02 13:47:55,708 : INFO : EPOCH - 10 : training on 9227204 raw words (8222821 effective words) took 22.5s, 365479 effective words/s\n",
            "2019-04-02 13:47:56,738 : INFO : EPOCH 11 - PROGRESS: at 4.02% examples, 323944 words/s, in_qsize 15, out_qsize 1\n",
            "2019-04-02 13:47:57,741 : INFO : EPOCH 11 - PROGRESS: at 8.80% examples, 357281 words/s, in_qsize 16, out_qsize 1\n",
            "2019-04-02 13:47:58,752 : INFO : EPOCH 11 - PROGRESS: at 13.14% examples, 355652 words/s, in_qsize 15, out_qsize 0\n",
            "2019-04-02 13:47:59,759 : INFO : EPOCH 11 - PROGRESS: at 17.57% examples, 357283 words/s, in_qsize 15, out_qsize 0\n",
            "2019-04-02 13:48:00,760 : INFO : EPOCH 11 - PROGRESS: at 22.33% examples, 364130 words/s, in_qsize 15, out_qsize 0\n",
            "2019-04-02 13:48:01,783 : INFO : EPOCH 11 - PROGRESS: at 26.78% examples, 362971 words/s, in_qsize 15, out_qsize 0\n",
            "2019-04-02 13:48:02,873 : INFO : EPOCH 11 - PROGRESS: at 31.32% examples, 359985 words/s, in_qsize 15, out_qsize 3\n",
            "2019-04-02 13:48:03,905 : INFO : EPOCH 11 - PROGRESS: at 36.29% examples, 364643 words/s, in_qsize 16, out_qsize 0\n",
            "2019-04-02 13:48:04,952 : INFO : EPOCH 11 - PROGRESS: at 40.94% examples, 364748 words/s, in_qsize 14, out_qsize 1\n",
            "2019-04-02 13:48:05,965 : INFO : EPOCH 11 - PROGRESS: at 46.24% examples, 371281 words/s, in_qsize 16, out_qsize 0\n",
            "2019-04-02 13:48:06,971 : INFO : EPOCH 11 - PROGRESS: at 50.67% examples, 370566 words/s, in_qsize 15, out_qsize 0\n",
            "2019-04-02 13:48:07,972 : INFO : EPOCH 11 - PROGRESS: at 55.10% examples, 370107 words/s, in_qsize 14, out_qsize 1\n",
            "2019-04-02 13:48:08,978 : INFO : EPOCH 11 - PROGRESS: at 59.77% examples, 370919 words/s, in_qsize 15, out_qsize 0\n",
            "2019-04-02 13:48:09,985 : INFO : EPOCH 11 - PROGRESS: at 64.30% examples, 370956 words/s, in_qsize 11, out_qsize 5\n",
            "2019-04-02 13:48:11,082 : INFO : EPOCH 11 - PROGRESS: at 69.29% examples, 371156 words/s, in_qsize 16, out_qsize 1\n",
            "2019-04-02 13:48:12,109 : INFO : EPOCH 11 - PROGRESS: at 74.16% examples, 372514 words/s, in_qsize 16, out_qsize 2\n",
            "2019-04-02 13:48:13,108 : INFO : EPOCH 11 - PROGRESS: at 78.73% examples, 372451 words/s, in_qsize 16, out_qsize 1\n",
            "2019-04-02 13:48:14,112 : INFO : EPOCH 11 - PROGRESS: at 83.62% examples, 373928 words/s, in_qsize 16, out_qsize 0\n",
            "2019-04-02 13:48:15,114 : INFO : EPOCH 11 - PROGRESS: at 88.37% examples, 374796 words/s, in_qsize 14, out_qsize 1\n",
            "2019-04-02 13:48:16,173 : INFO : EPOCH 11 - PROGRESS: at 93.16% examples, 374515 words/s, in_qsize 14, out_qsize 1\n",
            "2019-04-02 13:48:17,239 : INFO : EPOCH 11 - PROGRESS: at 98.26% examples, 375425 words/s, in_qsize 15, out_qsize 0\n",
            "2019-04-02 13:48:17,448 : INFO : worker thread finished; awaiting finish of 7 more threads\n",
            "2019-04-02 13:48:17,462 : INFO : worker thread finished; awaiting finish of 6 more threads\n",
            "2019-04-02 13:48:17,465 : INFO : worker thread finished; awaiting finish of 5 more threads\n",
            "2019-04-02 13:48:17,467 : INFO : worker thread finished; awaiting finish of 4 more threads\n",
            "2019-04-02 13:48:17,494 : INFO : worker thread finished; awaiting finish of 3 more threads\n",
            "2019-04-02 13:48:17,510 : INFO : worker thread finished; awaiting finish of 2 more threads\n",
            "2019-04-02 13:48:17,518 : INFO : worker thread finished; awaiting finish of 1 more threads\n",
            "2019-04-02 13:48:17,519 : INFO : worker thread finished; awaiting finish of 0 more threads\n",
            "2019-04-02 13:48:17,521 : INFO : EPOCH - 11 : training on 9227204 raw words (8221743 effective words) took 21.8s, 377159 effective words/s\n",
            "2019-04-02 13:48:18,581 : INFO : EPOCH 12 - PROGRESS: at 4.34% examples, 340709 words/s, in_qsize 15, out_qsize 0\n",
            "2019-04-02 13:48:19,634 : INFO : EPOCH 12 - PROGRESS: at 9.23% examples, 360832 words/s, in_qsize 15, out_qsize 0\n",
            "2019-04-02 13:48:20,635 : INFO : EPOCH 12 - PROGRESS: at 14.00% examples, 370755 words/s, in_qsize 15, out_qsize 0\n",
            "2019-04-02 13:48:21,677 : INFO : EPOCH 12 - PROGRESS: at 18.54% examples, 367743 words/s, in_qsize 15, out_qsize 0\n",
            "2019-04-02 13:48:22,703 : INFO : EPOCH 12 - PROGRESS: at 23.09% examples, 367938 words/s, in_qsize 14, out_qsize 4\n",
            "2019-04-02 13:48:23,707 : INFO : EPOCH 12 - PROGRESS: at 27.86% examples, 371672 words/s, in_qsize 12, out_qsize 4\n",
            "2019-04-02 13:48:24,710 : INFO : EPOCH 12 - PROGRESS: at 32.41% examples, 371237 words/s, in_qsize 15, out_qsize 0\n",
            "2019-04-02 13:48:25,729 : INFO : EPOCH 12 - PROGRESS: at 37.37% examples, 375068 words/s, in_qsize 15, out_qsize 0\n",
            "2019-04-02 13:48:26,734 : INFO : EPOCH 12 - PROGRESS: at 41.92% examples, 374738 words/s, in_qsize 15, out_qsize 0\n",
            "2019-04-02 13:48:27,778 : INFO : EPOCH 12 - PROGRESS: at 46.89% examples, 376565 words/s, in_qsize 15, out_qsize 0\n",
            "2019-04-02 13:48:28,861 : INFO : EPOCH 12 - PROGRESS: at 51.96% examples, 377519 words/s, in_qsize 15, out_qsize 0\n",
            "2019-04-02 13:48:29,891 : INFO : EPOCH 12 - PROGRESS: at 56.73% examples, 377793 words/s, in_qsize 14, out_qsize 1\n",
            "2019-04-02 13:48:30,999 : INFO : EPOCH 12 - PROGRESS: at 62.03% examples, 379148 words/s, in_qsize 15, out_qsize 0\n",
            "2019-04-02 13:48:32,001 : INFO : EPOCH 12 - PROGRESS: at 66.80% examples, 379977 words/s, in_qsize 16, out_qsize 0\n",
            "2019-04-02 13:48:33,045 : INFO : EPOCH 12 - PROGRESS: at 71.78% examples, 380819 words/s, in_qsize 15, out_qsize 0\n",
            "2019-04-02 13:48:34,046 : INFO : EPOCH 12 - PROGRESS: at 76.55% examples, 381454 words/s, in_qsize 15, out_qsize 0\n",
            "2019-04-02 13:48:35,051 : INFO : EPOCH 12 - PROGRESS: at 81.12% examples, 380935 words/s, in_qsize 14, out_qsize 1\n",
            "2019-04-02 13:48:36,071 : INFO : EPOCH 12 - PROGRESS: at 85.88% examples, 381096 words/s, in_qsize 12, out_qsize 2\n",
            "2019-04-02 13:48:37,082 : INFO : EPOCH 12 - PROGRESS: at 89.89% examples, 378236 words/s, in_qsize 15, out_qsize 0\n",
            "2019-04-02 13:48:38,144 : INFO : EPOCH 12 - PROGRESS: at 95.12% examples, 379461 words/s, in_qsize 15, out_qsize 0\n",
            "2019-04-02 13:48:38,981 : INFO : worker thread finished; awaiting finish of 7 more threads\n",
            "2019-04-02 13:48:39,016 : INFO : worker thread finished; awaiting finish of 6 more threads\n",
            "2019-04-02 13:48:39,046 : INFO : worker thread finished; awaiting finish of 5 more threads\n",
            "2019-04-02 13:48:39,066 : INFO : worker thread finished; awaiting finish of 4 more threads\n",
            "2019-04-02 13:48:39,071 : INFO : worker thread finished; awaiting finish of 3 more threads\n",
            "2019-04-02 13:48:39,089 : INFO : worker thread finished; awaiting finish of 2 more threads\n",
            "2019-04-02 13:48:39,098 : INFO : worker thread finished; awaiting finish of 1 more threads\n",
            "2019-04-02 13:48:39,105 : INFO : worker thread finished; awaiting finish of 0 more threads\n",
            "2019-04-02 13:48:39,106 : INFO : EPOCH - 12 : training on 9227204 raw words (8222092 effective words) took 21.6s, 381176 effective words/s\n",
            "2019-04-02 13:48:40,210 : INFO : EPOCH 13 - PROGRESS: at 4.45% examples, 334666 words/s, in_qsize 15, out_qsize 0\n",
            "2019-04-02 13:48:41,214 : INFO : EPOCH 13 - PROGRESS: at 9.55% examples, 374189 words/s, in_qsize 15, out_qsize 0\n",
            "2019-04-02 13:48:42,228 : INFO : EPOCH 13 - PROGRESS: at 13.79% examples, 363790 words/s, in_qsize 16, out_qsize 0\n",
            "2019-04-02 13:48:43,245 : INFO : EPOCH 13 - PROGRESS: at 18.87% examples, 375587 words/s, in_qsize 15, out_qsize 0\n",
            "2019-04-02 13:48:44,257 : INFO : EPOCH 13 - PROGRESS: at 23.52% examples, 376183 words/s, in_qsize 15, out_qsize 0\n",
            "2019-04-02 13:48:45,264 : INFO : EPOCH 13 - PROGRESS: at 28.07% examples, 375787 words/s, in_qsize 14, out_qsize 5\n",
            "2019-04-02 13:48:46,283 : INFO : EPOCH 13 - PROGRESS: at 32.95% examples, 377976 words/s, in_qsize 15, out_qsize 0\n",
            "2019-04-02 13:48:47,349 : INFO : EPOCH 13 - PROGRESS: at 37.70% examples, 376642 words/s, in_qsize 12, out_qsize 3\n",
            "2019-04-02 13:48:48,378 : INFO : EPOCH 13 - PROGRESS: at 43.00% examples, 381928 words/s, in_qsize 15, out_qsize 0\n",
            "2019-04-02 13:48:49,384 : INFO : EPOCH 13 - PROGRESS: at 47.32% examples, 379194 words/s, in_qsize 15, out_qsize 0\n",
            "2019-04-02 13:48:50,394 : INFO : EPOCH 13 - PROGRESS: at 52.51% examples, 383167 words/s, in_qsize 16, out_qsize 0\n",
            "2019-04-02 13:48:51,395 : INFO : EPOCH 13 - PROGRESS: at 57.16% examples, 383116 words/s, in_qsize 15, out_qsize 0\n",
            "2019-04-02 13:48:52,412 : INFO : EPOCH 13 - PROGRESS: at 61.50% examples, 380650 words/s, in_qsize 14, out_qsize 1\n",
            "2019-04-02 13:48:53,433 : INFO : EPOCH 13 - PROGRESS: at 66.47% examples, 382544 words/s, in_qsize 15, out_qsize 1\n",
            "2019-04-02 13:48:54,425 : INFO : EPOCH 13 - PROGRESS: at 71.02% examples, 381792 words/s, in_qsize 15, out_qsize 1\n",
            "2019-04-02 13:48:55,460 : INFO : EPOCH 13 - PROGRESS: at 76.00% examples, 382679 words/s, in_qsize 15, out_qsize 0\n",
            "2019-04-02 13:48:56,461 : INFO : EPOCH 13 - PROGRESS: at 81.12% examples, 384714 words/s, in_qsize 15, out_qsize 0\n",
            "2019-04-02 13:48:57,485 : INFO : EPOCH 13 - PROGRESS: at 85.45% examples, 382669 words/s, in_qsize 15, out_qsize 0\n",
            "2019-04-02 13:48:58,497 : INFO : EPOCH 13 - PROGRESS: at 90.22% examples, 382909 words/s, in_qsize 13, out_qsize 2\n",
            "2019-04-02 13:48:59,521 : INFO : EPOCH 13 - PROGRESS: at 95.01% examples, 382875 words/s, in_qsize 15, out_qsize 0\n",
            "2019-04-02 13:49:00,371 : INFO : worker thread finished; awaiting finish of 7 more threads\n",
            "2019-04-02 13:49:00,379 : INFO : worker thread finished; awaiting finish of 6 more threads\n",
            "2019-04-02 13:49:00,383 : INFO : worker thread finished; awaiting finish of 5 more threads\n",
            "2019-04-02 13:49:00,395 : INFO : worker thread finished; awaiting finish of 4 more threads\n",
            "2019-04-02 13:49:00,440 : INFO : worker thread finished; awaiting finish of 3 more threads\n",
            "2019-04-02 13:49:00,442 : INFO : worker thread finished; awaiting finish of 2 more threads\n",
            "2019-04-02 13:49:00,443 : INFO : worker thread finished; awaiting finish of 1 more threads\n",
            "2019-04-02 13:49:00,459 : INFO : worker thread finished; awaiting finish of 0 more threads\n",
            "2019-04-02 13:49:00,460 : INFO : EPOCH - 13 : training on 9227204 raw words (8222225 effective words) took 21.3s, 385270 effective words/s\n",
            "2019-04-02 13:49:01,492 : INFO : EPOCH 14 - PROGRESS: at 4.45% examples, 358399 words/s, in_qsize 15, out_qsize 0\n",
            "2019-04-02 13:49:02,544 : INFO : EPOCH 14 - PROGRESS: at 8.80% examples, 356854 words/s, in_qsize 13, out_qsize 7\n",
            "2019-04-02 13:49:03,503 : INFO : EPOCH 14 - PROGRESS: at 13.79% examples, 373374 words/s, in_qsize 15, out_qsize 0\n",
            "2019-04-02 13:49:04,532 : INFO : EPOCH 14 - PROGRESS: at 18.43% examples, 373039 words/s, in_qsize 13, out_qsize 2\n",
            "2019-04-02 13:49:05,656 : INFO : EPOCH 14 - PROGRESS: at 23.63% examples, 374724 words/s, in_qsize 16, out_qsize 0\n",
            "2019-04-02 13:49:06,661 : INFO : EPOCH 14 - PROGRESS: at 28.61% examples, 380078 words/s, in_qsize 15, out_qsize 0\n",
            "2019-04-02 13:49:07,687 : INFO : EPOCH 14 - PROGRESS: at 33.59% examples, 382793 words/s, in_qsize 15, out_qsize 0\n",
            "2019-04-02 13:49:08,691 : INFO : EPOCH 14 - PROGRESS: at 37.92% examples, 379397 words/s, in_qsize 14, out_qsize 4\n",
            "2019-04-02 13:49:09,713 : INFO : EPOCH 14 - PROGRESS: at 42.46% examples, 377921 words/s, in_qsize 15, out_qsize 0\n",
            "2019-04-02 13:49:10,770 : INFO : EPOCH 14 - PROGRESS: at 47.00% examples, 375469 words/s, in_qsize 13, out_qsize 2\n",
            "2019-04-02 13:49:11,777 : INFO : EPOCH 14 - PROGRESS: at 52.07% examples, 379092 words/s, in_qsize 15, out_qsize 0\n",
            "2019-04-02 13:49:12,908 : INFO : EPOCH 14 - PROGRESS: at 56.83% examples, 376758 words/s, in_qsize 15, out_qsize 1\n",
            "2019-04-02 13:49:13,904 : INFO : EPOCH 14 - PROGRESS: at 61.39% examples, 376115 words/s, in_qsize 13, out_qsize 2\n",
            "2019-04-02 13:49:15,040 : INFO : EPOCH 14 - PROGRESS: at 66.58% examples, 376459 words/s, in_qsize 15, out_qsize 4\n",
            "2019-04-02 13:49:16,065 : INFO : EPOCH 14 - PROGRESS: at 71.56% examples, 377679 words/s, in_qsize 15, out_qsize 0\n",
            "2019-04-02 13:49:17,088 : INFO : EPOCH 14 - PROGRESS: at 76.11% examples, 376935 words/s, in_qsize 15, out_qsize 0\n",
            "2019-04-02 13:49:18,120 : INFO : EPOCH 14 - PROGRESS: at 81.12% examples, 378106 words/s, in_qsize 16, out_qsize 0\n",
            "2019-04-02 13:49:19,137 : INFO : EPOCH 14 - PROGRESS: at 85.45% examples, 376578 words/s, in_qsize 14, out_qsize 1\n",
            "2019-04-02 13:49:20,149 : INFO : EPOCH 14 - PROGRESS: at 90.22% examples, 377130 words/s, in_qsize 15, out_qsize 0\n",
            "2019-04-02 13:49:21,152 : INFO : EPOCH 14 - PROGRESS: at 94.69% examples, 376477 words/s, in_qsize 15, out_qsize 0\n",
            "2019-04-02 13:49:22,203 : INFO : EPOCH 14 - PROGRESS: at 99.22% examples, 375496 words/s, in_qsize 8, out_qsize 0\n",
            "2019-04-02 13:49:22,205 : INFO : worker thread finished; awaiting finish of 7 more threads\n",
            "2019-04-02 13:49:22,216 : INFO : worker thread finished; awaiting finish of 6 more threads\n",
            "2019-04-02 13:49:22,230 : INFO : worker thread finished; awaiting finish of 5 more threads\n",
            "2019-04-02 13:49:22,250 : INFO : worker thread finished; awaiting finish of 4 more threads\n",
            "2019-04-02 13:49:22,253 : INFO : worker thread finished; awaiting finish of 3 more threads\n",
            "2019-04-02 13:49:22,255 : INFO : worker thread finished; awaiting finish of 2 more threads\n",
            "2019-04-02 13:49:22,258 : INFO : worker thread finished; awaiting finish of 1 more threads\n",
            "2019-04-02 13:49:22,276 : INFO : worker thread finished; awaiting finish of 0 more threads\n",
            "2019-04-02 13:49:22,277 : INFO : EPOCH - 14 : training on 9227204 raw words (8222623 effective words) took 21.8s, 377125 effective words/s\n",
            "2019-04-02 13:49:23,308 : INFO : EPOCH 15 - PROGRESS: at 3.91% examples, 315248 words/s, in_qsize 14, out_qsize 1\n",
            "2019-04-02 13:49:24,369 : INFO : EPOCH 15 - PROGRESS: at 8.58% examples, 338810 words/s, in_qsize 16, out_qsize 0\n",
            "2019-04-02 13:49:25,472 : INFO : EPOCH 15 - PROGRESS: at 13.68% examples, 352990 words/s, in_qsize 15, out_qsize 0\n",
            "2019-04-02 13:49:26,496 : INFO : EPOCH 15 - PROGRESS: at 18.76% examples, 366495 words/s, in_qsize 15, out_qsize 0\n",
            "2019-04-02 13:49:27,501 : INFO : EPOCH 15 - PROGRESS: at 23.20% examples, 366016 words/s, in_qsize 15, out_qsize 0\n",
            "2019-04-02 13:49:28,524 : INFO : EPOCH 15 - PROGRESS: at 27.64% examples, 364550 words/s, in_qsize 15, out_qsize 0\n",
            "2019-04-02 13:49:29,547 : INFO : EPOCH 15 - PROGRESS: at 32.08% examples, 363946 words/s, in_qsize 14, out_qsize 3\n",
            "2019-04-02 13:49:30,558 : INFO : EPOCH 15 - PROGRESS: at 36.73% examples, 365415 words/s, in_qsize 16, out_qsize 0\n",
            "2019-04-02 13:49:31,686 : INFO : EPOCH 15 - PROGRESS: at 41.26% examples, 361842 words/s, in_qsize 16, out_qsize 3\n",
            "2019-04-02 13:49:32,683 : INFO : EPOCH 15 - PROGRESS: at 45.92% examples, 363529 words/s, in_qsize 14, out_qsize 1\n",
            "2019-04-02 13:49:33,721 : INFO : EPOCH 15 - PROGRESS: at 50.78% examples, 366005 words/s, in_qsize 15, out_qsize 0\n",
            "2019-04-02 13:49:34,732 : INFO : EPOCH 15 - PROGRESS: at 55.21% examples, 365289 words/s, in_qsize 15, out_qsize 0\n",
            "2019-04-02 13:49:35,777 : INFO : EPOCH 15 - PROGRESS: at 59.87% examples, 365388 words/s, in_qsize 15, out_qsize 0\n",
            "2019-04-02 13:49:36,794 : INFO : EPOCH 15 - PROGRESS: at 64.62% examples, 366805 words/s, in_qsize 15, out_qsize 0\n",
            "2019-04-02 13:49:37,817 : INFO : EPOCH 15 - PROGRESS: at 68.86% examples, 365019 words/s, in_qsize 14, out_qsize 1\n",
            "2019-04-02 13:49:38,817 : INFO : EPOCH 15 - PROGRESS: at 73.62% examples, 366621 words/s, in_qsize 16, out_qsize 1\n",
            "2019-04-02 13:49:39,857 : INFO : EPOCH 15 - PROGRESS: at 78.18% examples, 366183 words/s, in_qsize 14, out_qsize 1\n",
            "2019-04-02 13:49:40,909 : INFO : EPOCH 15 - PROGRESS: at 83.07% examples, 367014 words/s, in_qsize 15, out_qsize 0\n",
            "2019-04-02 13:49:41,912 : INFO : EPOCH 15 - PROGRESS: at 88.16% examples, 369588 words/s, in_qsize 15, out_qsize 0\n",
            "2019-04-02 13:49:42,943 : INFO : EPOCH 15 - PROGRESS: at 92.50% examples, 368360 words/s, in_qsize 14, out_qsize 1\n",
            "2019-04-02 13:49:43,950 : INFO : EPOCH 15 - PROGRESS: at 96.85% examples, 367684 words/s, in_qsize 11, out_qsize 4\n",
            "2019-04-02 13:49:44,394 : INFO : worker thread finished; awaiting finish of 7 more threads\n",
            "2019-04-02 13:49:44,410 : INFO : worker thread finished; awaiting finish of 6 more threads\n",
            "2019-04-02 13:49:44,415 : INFO : worker thread finished; awaiting finish of 5 more threads\n",
            "2019-04-02 13:49:44,421 : INFO : worker thread finished; awaiting finish of 4 more threads\n",
            "2019-04-02 13:49:44,433 : INFO : worker thread finished; awaiting finish of 3 more threads\n",
            "2019-04-02 13:49:44,443 : INFO : worker thread finished; awaiting finish of 2 more threads\n",
            "2019-04-02 13:49:44,466 : INFO : worker thread finished; awaiting finish of 1 more threads\n",
            "2019-04-02 13:49:44,480 : INFO : worker thread finished; awaiting finish of 0 more threads\n",
            "2019-04-02 13:49:44,482 : INFO : EPOCH - 15 : training on 9227204 raw words (8222852 effective words) took 22.2s, 370554 effective words/s\n",
            "2019-04-02 13:49:45,538 : INFO : EPOCH 16 - PROGRESS: at 4.02% examples, 314846 words/s, in_qsize 15, out_qsize 0\n",
            "2019-04-02 13:49:46,569 : INFO : EPOCH 16 - PROGRESS: at 8.90% examples, 351642 words/s, in_qsize 14, out_qsize 2\n",
            "2019-04-02 13:49:47,598 : INFO : EPOCH 16 - PROGRESS: at 13.47% examples, 355615 words/s, in_qsize 16, out_qsize 3\n",
            "2019-04-02 13:49:48,609 : INFO : EPOCH 16 - PROGRESS: at 18.11% examples, 361226 words/s, in_qsize 14, out_qsize 1\n",
            "2019-04-02 13:49:49,773 : INFO : EPOCH 16 - PROGRESS: at 23.09% examples, 359254 words/s, in_qsize 14, out_qsize 1\n",
            "2019-04-02 13:49:50,777 : INFO : EPOCH 16 - PROGRESS: at 27.96% examples, 365595 words/s, in_qsize 15, out_qsize 0\n",
            "2019-04-02 13:49:51,805 : INFO : EPOCH 16 - PROGRESS: at 32.30% examples, 362957 words/s, in_qsize 15, out_qsize 0\n",
            "2019-04-02 13:49:52,823 : INFO : EPOCH 16 - PROGRESS: at 36.94% examples, 364571 words/s, in_qsize 15, out_qsize 0\n",
            "2019-04-02 13:49:53,833 : INFO : EPOCH 16 - PROGRESS: at 41.80% examples, 368055 words/s, in_qsize 16, out_qsize 0\n",
            "2019-04-02 13:49:54,868 : INFO : EPOCH 16 - PROGRESS: at 46.35% examples, 367413 words/s, in_qsize 16, out_qsize 0\n",
            "2019-04-02 13:49:55,893 : INFO : EPOCH 16 - PROGRESS: at 51.21% examples, 369549 words/s, in_qsize 15, out_qsize 0\n",
            "2019-04-02 13:49:56,959 : INFO : EPOCH 16 - PROGRESS: at 55.75% examples, 368005 words/s, in_qsize 15, out_qsize 0\n",
            "2019-04-02 13:49:57,966 : INFO : EPOCH 16 - PROGRESS: at 60.74% examples, 370897 words/s, in_qsize 15, out_qsize 0\n",
            "2019-04-02 13:49:59,008 : INFO : EPOCH 16 - PROGRESS: at 65.17% examples, 369429 words/s, in_qsize 15, out_qsize 0\n",
            "2019-04-02 13:50:00,035 : INFO : EPOCH 16 - PROGRESS: at 70.27% examples, 371974 words/s, in_qsize 16, out_qsize 0\n",
            "2019-04-02 13:50:01,058 : INFO : EPOCH 16 - PROGRESS: at 74.70% examples, 371046 words/s, in_qsize 14, out_qsize 1\n",
            "2019-04-02 13:50:02,088 : INFO : EPOCH 16 - PROGRESS: at 79.81% examples, 373105 words/s, in_qsize 14, out_qsize 0\n",
            "2019-04-02 13:50:03,092 : INFO : EPOCH 16 - PROGRESS: at 84.48% examples, 373561 words/s, in_qsize 15, out_qsize 0\n",
            "2019-04-02 13:50:04,130 : INFO : EPOCH 16 - PROGRESS: at 88.91% examples, 372403 words/s, in_qsize 14, out_qsize 1\n",
            "2019-04-02 13:50:05,163 : INFO : EPOCH 16 - PROGRESS: at 93.70% examples, 373017 words/s, in_qsize 14, out_qsize 0\n",
            "2019-04-02 13:50:06,168 : INFO : EPOCH 16 - PROGRESS: at 97.82% examples, 371057 words/s, in_qsize 11, out_qsize 4\n",
            "2019-04-02 13:50:06,406 : INFO : worker thread finished; awaiting finish of 7 more threads\n",
            "2019-04-02 13:50:06,411 : INFO : worker thread finished; awaiting finish of 6 more threads\n",
            "2019-04-02 13:50:06,420 : INFO : worker thread finished; awaiting finish of 5 more threads\n",
            "2019-04-02 13:50:06,423 : INFO : worker thread finished; awaiting finish of 4 more threads\n",
            "2019-04-02 13:50:06,456 : INFO : worker thread finished; awaiting finish of 3 more threads\n",
            "2019-04-02 13:50:06,459 : INFO : worker thread finished; awaiting finish of 2 more threads\n",
            "2019-04-02 13:50:06,484 : INFO : worker thread finished; awaiting finish of 1 more threads\n",
            "2019-04-02 13:50:06,489 : INFO : worker thread finished; awaiting finish of 0 more threads\n",
            "2019-04-02 13:50:06,491 : INFO : EPOCH - 16 : training on 9227204 raw words (8222286 effective words) took 22.0s, 373763 effective words/s\n",
            "2019-04-02 13:50:07,597 : INFO : EPOCH 17 - PROGRESS: at 4.34% examples, 325605 words/s, in_qsize 14, out_qsize 1\n",
            "2019-04-02 13:50:08,671 : INFO : EPOCH 17 - PROGRESS: at 9.23% examples, 349105 words/s, in_qsize 16, out_qsize 0\n",
            "2019-04-02 13:50:09,712 : INFO : EPOCH 17 - PROGRESS: at 14.22% examples, 363451 words/s, in_qsize 16, out_qsize 0\n",
            "2019-04-02 13:50:10,724 : INFO : EPOCH 17 - PROGRESS: at 18.76% examples, 364836 words/s, in_qsize 15, out_qsize 0\n",
            "2019-04-02 13:50:11,770 : INFO : EPOCH 17 - PROGRESS: at 23.09% examples, 360142 words/s, in_qsize 16, out_qsize 0\n",
            "2019-04-02 13:50:12,818 : INFO : EPOCH 17 - PROGRESS: at 27.64% examples, 359591 words/s, in_qsize 15, out_qsize 0\n",
            "2019-04-02 13:50:13,821 : INFO : EPOCH 17 - PROGRESS: at 32.19% examples, 361432 words/s, in_qsize 14, out_qsize 1\n",
            "2019-04-02 13:50:14,822 : INFO : EPOCH 17 - PROGRESS: at 36.73% examples, 362913 words/s, in_qsize 14, out_qsize 1\n",
            "2019-04-02 13:50:15,831 : INFO : EPOCH 17 - PROGRESS: at 41.05% examples, 361847 words/s, in_qsize 11, out_qsize 4\n",
            "2019-04-02 13:50:16,857 : INFO : EPOCH 17 - PROGRESS: at 45.92% examples, 364714 words/s, in_qsize 16, out_qsize 0\n",
            "2019-04-02 13:50:17,920 : INFO : EPOCH 17 - PROGRESS: at 50.35% examples, 362746 words/s, in_qsize 13, out_qsize 2\n",
            "2019-04-02 13:50:18,980 : INFO : EPOCH 17 - PROGRESS: at 55.32% examples, 364803 words/s, in_qsize 15, out_qsize 0\n",
            "2019-04-02 13:50:20,013 : INFO : EPOCH 17 - PROGRESS: at 59.87% examples, 364621 words/s, in_qsize 15, out_qsize 1\n",
            "2019-04-02 13:50:21,035 : INFO : EPOCH 17 - PROGRESS: at 64.95% examples, 368243 words/s, in_qsize 15, out_qsize 0\n",
            "2019-04-02 13:50:22,018 : INFO : EPOCH 17 - PROGRESS: at 69.40% examples, 368044 words/s, in_qsize 13, out_qsize 2\n",
            "2019-04-02 13:50:23,053 : INFO : EPOCH 17 - PROGRESS: at 74.38% examples, 369762 words/s, in_qsize 15, out_qsize 0\n",
            "2019-04-02 13:50:24,160 : INFO : EPOCH 17 - PROGRESS: at 79.05% examples, 368268 words/s, in_qsize 15, out_qsize 4\n",
            "2019-04-02 13:50:25,175 : INFO : EPOCH 17 - PROGRESS: at 84.05% examples, 370204 words/s, in_qsize 15, out_qsize 0\n",
            "2019-04-02 13:50:26,201 : INFO : EPOCH 17 - PROGRESS: at 88.70% examples, 370357 words/s, in_qsize 14, out_qsize 1\n",
            "2019-04-02 13:50:27,218 : INFO : EPOCH 17 - PROGRESS: at 93.81% examples, 372353 words/s, in_qsize 16, out_qsize 0\n",
            "2019-04-02 13:50:28,315 : INFO : EPOCH 17 - PROGRESS: at 98.36% examples, 370774 words/s, in_qsize 16, out_qsize 0\n",
            "2019-04-02 13:50:28,483 : INFO : worker thread finished; awaiting finish of 7 more threads\n",
            "2019-04-02 13:50:28,503 : INFO : worker thread finished; awaiting finish of 6 more threads\n",
            "2019-04-02 13:50:28,515 : INFO : worker thread finished; awaiting finish of 5 more threads\n",
            "2019-04-02 13:50:28,530 : INFO : worker thread finished; awaiting finish of 4 more threads\n",
            "2019-04-02 13:50:28,553 : INFO : worker thread finished; awaiting finish of 3 more threads\n",
            "2019-04-02 13:50:28,559 : INFO : worker thread finished; awaiting finish of 2 more threads\n",
            "2019-04-02 13:50:28,564 : INFO : worker thread finished; awaiting finish of 1 more threads\n",
            "2019-04-02 13:50:28,566 : INFO : worker thread finished; awaiting finish of 0 more threads\n",
            "2019-04-02 13:50:28,567 : INFO : EPOCH - 17 : training on 9227204 raw words (8222571 effective words) took 22.1s, 372644 effective words/s\n",
            "2019-04-02 13:50:29,586 : INFO : EPOCH 18 - PROGRESS: at 4.45% examples, 364055 words/s, in_qsize 15, out_qsize 0\n",
            "2019-04-02 13:50:30,633 : INFO : EPOCH 18 - PROGRESS: at 8.90% examples, 356420 words/s, in_qsize 15, out_qsize 0\n",
            "2019-04-02 13:50:31,671 : INFO : EPOCH 18 - PROGRESS: at 13.90% examples, 369206 words/s, in_qsize 15, out_qsize 0\n",
            "2019-04-02 13:50:32,709 : INFO : EPOCH 18 - PROGRESS: at 18.87% examples, 375593 words/s, in_qsize 15, out_qsize 0\n",
            "2019-04-02 13:50:33,721 : INFO : EPOCH 18 - PROGRESS: at 23.52% examples, 376258 words/s, in_qsize 15, out_qsize 0\n",
            "2019-04-02 13:50:34,751 : INFO : EPOCH 18 - PROGRESS: at 28.61% examples, 381274 words/s, in_qsize 15, out_qsize 0\n",
            "2019-04-02 13:50:35,754 : INFO : EPOCH 18 - PROGRESS: at 32.95% examples, 377639 words/s, in_qsize 15, out_qsize 0\n",
            "2019-04-02 13:50:36,755 : INFO : EPOCH 18 - PROGRESS: at 37.59% examples, 378269 words/s, in_qsize 15, out_qsize 0\n",
            "2019-04-02 13:50:37,764 : INFO : EPOCH 18 - PROGRESS: at 42.24% examples, 378389 words/s, in_qsize 15, out_qsize 0\n",
            "2019-04-02 13:50:38,805 : INFO : EPOCH 18 - PROGRESS: at 46.67% examples, 375563 words/s, in_qsize 13, out_qsize 2\n",
            "2019-04-02 13:50:39,822 : INFO : EPOCH 18 - PROGRESS: at 51.43% examples, 376490 words/s, in_qsize 15, out_qsize 0\n",
            "2019-04-02 13:50:40,924 : INFO : EPOCH 18 - PROGRESS: at 56.29% examples, 375398 words/s, in_qsize 16, out_qsize 0\n",
            "2019-04-02 13:50:41,943 : INFO : EPOCH 18 - PROGRESS: at 61.07% examples, 376101 words/s, in_qsize 15, out_qsize 0\n",
            "2019-04-02 13:50:42,943 : INFO : EPOCH 18 - PROGRESS: at 65.93% examples, 377788 words/s, in_qsize 15, out_qsize 0\n",
            "2019-04-02 13:50:44,021 : INFO : EPOCH 18 - PROGRESS: at 70.59% examples, 376232 words/s, in_qsize 15, out_qsize 0\n",
            "2019-04-02 13:50:45,027 : INFO : EPOCH 18 - PROGRESS: at 75.24% examples, 376474 words/s, in_qsize 14, out_qsize 1\n",
            "2019-04-02 13:50:46,038 : INFO : EPOCH 18 - PROGRESS: at 79.92% examples, 376607 words/s, in_qsize 15, out_qsize 0\n",
            "2019-04-02 13:50:47,045 : INFO : EPOCH 18 - PROGRESS: at 84.37% examples, 375877 words/s, in_qsize 14, out_qsize 1\n",
            "2019-04-02 13:50:48,061 : INFO : EPOCH 18 - PROGRESS: at 89.13% examples, 376377 words/s, in_qsize 15, out_qsize 0\n",
            "2019-04-02 13:50:49,159 : INFO : EPOCH 18 - PROGRESS: at 94.03% examples, 375753 words/s, in_qsize 16, out_qsize 0\n",
            "2019-04-02 13:50:50,173 : INFO : EPOCH 18 - PROGRESS: at 98.90% examples, 376668 words/s, in_qsize 11, out_qsize 0\n",
            "2019-04-02 13:50:50,278 : INFO : worker thread finished; awaiting finish of 7 more threads\n",
            "2019-04-02 13:50:50,285 : INFO : worker thread finished; awaiting finish of 6 more threads\n",
            "2019-04-02 13:50:50,290 : INFO : worker thread finished; awaiting finish of 5 more threads\n",
            "2019-04-02 13:50:50,311 : INFO : worker thread finished; awaiting finish of 4 more threads\n",
            "2019-04-02 13:50:50,313 : INFO : worker thread finished; awaiting finish of 3 more threads\n",
            "2019-04-02 13:50:50,328 : INFO : worker thread finished; awaiting finish of 2 more threads\n",
            "2019-04-02 13:50:50,330 : INFO : worker thread finished; awaiting finish of 1 more threads\n",
            "2019-04-02 13:50:50,347 : INFO : worker thread finished; awaiting finish of 0 more threads\n",
            "2019-04-02 13:50:50,348 : INFO : EPOCH - 18 : training on 9227204 raw words (8222247 effective words) took 21.8s, 377773 effective words/s\n",
            "2019-04-02 13:50:51,379 : INFO : EPOCH 19 - PROGRESS: at 4.45% examples, 364040 words/s, in_qsize 13, out_qsize 0\n",
            "2019-04-02 13:50:52,375 : INFO : EPOCH 19 - PROGRESS: at 9.01% examples, 367278 words/s, in_qsize 15, out_qsize 0\n",
            "2019-04-02 13:50:53,390 : INFO : EPOCH 19 - PROGRESS: at 13.58% examples, 367736 words/s, in_qsize 15, out_qsize 0\n",
            "2019-04-02 13:50:54,407 : INFO : EPOCH 19 - PROGRESS: at 18.43% examples, 374230 words/s, in_qsize 16, out_qsize 0\n",
            "2019-04-02 13:50:55,416 : INFO : EPOCH 19 - PROGRESS: at 22.98% examples, 373674 words/s, in_qsize 15, out_qsize 0\n",
            "2019-04-02 13:50:56,443 : INFO : EPOCH 19 - PROGRESS: at 28.07% examples, 379410 words/s, in_qsize 15, out_qsize 0\n",
            "2019-04-02 13:50:57,508 : INFO : EPOCH 19 - PROGRESS: at 32.41% examples, 372748 words/s, in_qsize 15, out_qsize 0\n",
            "2019-04-02 13:50:58,526 : INFO : EPOCH 19 - PROGRESS: at 36.83% examples, 370996 words/s, in_qsize 15, out_qsize 1\n",
            "2019-04-02 13:50:59,564 : INFO : EPOCH 19 - PROGRESS: at 42.02% examples, 375568 words/s, in_qsize 16, out_qsize 0\n",
            "2019-04-02 13:51:00,583 : INFO : EPOCH 19 - PROGRESS: at 46.46% examples, 373846 words/s, in_qsize 15, out_qsize 0\n",
            "2019-04-02 13:51:01,674 : INFO : EPOCH 19 - PROGRESS: at 51.43% examples, 374034 words/s, in_qsize 14, out_qsize 1\n",
            "2019-04-02 13:51:02,678 : INFO : EPOCH 19 - PROGRESS: at 56.18% examples, 375417 words/s, in_qsize 15, out_qsize 0\n",
            "2019-04-02 13:51:03,683 : INFO : EPOCH 19 - PROGRESS: at 60.85% examples, 375874 words/s, in_qsize 15, out_qsize 0\n",
            "2019-04-02 13:51:04,691 : INFO : EPOCH 19 - PROGRESS: at 65.61% examples, 376758 words/s, in_qsize 15, out_qsize 0\n",
            "2019-04-02 13:51:05,724 : INFO : EPOCH 19 - PROGRESS: at 70.70% examples, 378675 words/s, in_qsize 15, out_qsize 0\n",
            "2019-04-02 13:51:06,740 : INFO : EPOCH 19 - PROGRESS: at 75.02% examples, 376947 words/s, in_qsize 16, out_qsize 0\n",
            "2019-04-02 13:51:07,746 : INFO : EPOCH 19 - PROGRESS: at 79.70% examples, 377137 words/s, in_qsize 15, out_qsize 0\n",
            "2019-04-02 13:51:08,894 : INFO : EPOCH 19 - PROGRESS: at 84.69% examples, 375891 words/s, in_qsize 16, out_qsize 2\n",
            "2019-04-02 13:51:09,975 : INFO : EPOCH 19 - PROGRESS: at 89.78% examples, 376524 words/s, in_qsize 15, out_qsize 0\n",
            "2019-04-02 13:51:10,994 : INFO : EPOCH 19 - PROGRESS: at 94.58% examples, 376912 words/s, in_qsize 14, out_qsize 3\n",
            "2019-04-02 13:51:12,007 : INFO : EPOCH 19 - PROGRESS: at 99.24% examples, 377018 words/s, in_qsize 7, out_qsize 1\n",
            "2019-04-02 13:51:12,010 : INFO : worker thread finished; awaiting finish of 7 more threads\n",
            "2019-04-02 13:51:12,019 : INFO : worker thread finished; awaiting finish of 6 more threads\n",
            "2019-04-02 13:51:12,031 : INFO : worker thread finished; awaiting finish of 5 more threads\n",
            "2019-04-02 13:51:12,039 : INFO : worker thread finished; awaiting finish of 4 more threads\n",
            "2019-04-02 13:51:12,051 : INFO : worker thread finished; awaiting finish of 3 more threads\n",
            "2019-04-02 13:51:12,065 : INFO : worker thread finished; awaiting finish of 2 more threads\n",
            "2019-04-02 13:51:12,066 : INFO : worker thread finished; awaiting finish of 1 more threads\n",
            "2019-04-02 13:51:12,068 : INFO : worker thread finished; awaiting finish of 0 more threads\n",
            "2019-04-02 13:51:12,069 : INFO : EPOCH - 19 : training on 9227204 raw words (8223127 effective words) took 21.7s, 378811 effective words/s\n",
            "2019-04-02 13:51:13,133 : INFO : EPOCH 20 - PROGRESS: at 4.23% examples, 335233 words/s, in_qsize 15, out_qsize 0\n",
            "2019-04-02 13:51:14,154 : INFO : EPOCH 20 - PROGRESS: at 8.80% examples, 350881 words/s, in_qsize 14, out_qsize 5\n",
            "2019-04-02 13:51:15,233 : INFO : EPOCH 20 - PROGRESS: at 13.68% examples, 359661 words/s, in_qsize 15, out_qsize 4\n",
            "2019-04-02 13:51:16,287 : INFO : EPOCH 20 - PROGRESS: at 18.86% examples, 369908 words/s, in_qsize 15, out_qsize 0\n",
            "2019-04-02 13:51:17,346 : INFO : EPOCH 20 - PROGRESS: at 23.64% examples, 370044 words/s, in_qsize 15, out_qsize 0\n",
            "2019-04-02 13:51:18,352 : INFO : EPOCH 20 - PROGRESS: at 28.40% examples, 373230 words/s, in_qsize 15, out_qsize 0\n",
            "2019-04-02 13:51:19,372 : INFO : EPOCH 20 - PROGRESS: at 33.27% examples, 376017 words/s, in_qsize 16, out_qsize 1\n",
            "2019-04-02 13:51:20,373 : INFO : EPOCH 20 - PROGRESS: at 38.14% examples, 378971 words/s, in_qsize 16, out_qsize 0\n",
            "2019-04-02 13:51:21,375 : INFO : EPOCH 20 - PROGRESS: at 42.78% examples, 379312 words/s, in_qsize 15, out_qsize 0\n",
            "2019-04-02 13:51:22,442 : INFO : EPOCH 20 - PROGRESS: at 47.43% examples, 377216 words/s, in_qsize 14, out_qsize 1\n",
            "2019-04-02 13:51:23,467 : INFO : EPOCH 20 - PROGRESS: at 52.18% examples, 377723 words/s, in_qsize 16, out_qsize 1\n",
            "2019-04-02 13:51:24,575 : INFO : EPOCH 20 - PROGRESS: at 57.06% examples, 376319 words/s, in_qsize 15, out_qsize 0\n",
            "2019-04-02 13:51:25,580 : INFO : EPOCH 20 - PROGRESS: at 61.61% examples, 376018 words/s, in_qsize 11, out_qsize 4\n",
            "2019-04-02 13:51:26,650 : INFO : EPOCH 20 - PROGRESS: at 66.37% examples, 375275 words/s, in_qsize 12, out_qsize 6\n",
            "2019-04-02 13:51:27,653 : INFO : EPOCH 20 - PROGRESS: at 71.56% examples, 378576 words/s, in_qsize 15, out_qsize 0\n",
            "2019-04-02 13:51:28,762 : INFO : EPOCH 20 - PROGRESS: at 76.22% examples, 376351 words/s, in_qsize 15, out_qsize 0\n",
            "2019-04-02 13:51:29,897 : INFO : EPOCH 20 - PROGRESS: at 81.66% examples, 377370 words/s, in_qsize 15, out_qsize 0\n",
            "2019-04-02 13:51:30,908 : INFO : EPOCH 20 - PROGRESS: at 86.53% examples, 378386 words/s, in_qsize 15, out_qsize 0\n",
            "2019-04-02 13:51:31,927 : INFO : EPOCH 20 - PROGRESS: at 90.76% examples, 376433 words/s, in_qsize 15, out_qsize 2\n",
            "2019-04-02 13:51:32,937 : INFO : EPOCH 20 - PROGRESS: at 95.88% examples, 378274 words/s, in_qsize 15, out_qsize 0\n",
            "2019-04-02 13:51:33,703 : INFO : worker thread finished; awaiting finish of 7 more threads\n",
            "2019-04-02 13:51:33,720 : INFO : worker thread finished; awaiting finish of 6 more threads\n",
            "2019-04-02 13:51:33,726 : INFO : worker thread finished; awaiting finish of 5 more threads\n",
            "2019-04-02 13:51:33,728 : INFO : worker thread finished; awaiting finish of 4 more threads\n",
            "2019-04-02 13:51:33,761 : INFO : worker thread finished; awaiting finish of 3 more threads\n",
            "2019-04-02 13:51:33,765 : INFO : worker thread finished; awaiting finish of 2 more threads\n",
            "2019-04-02 13:51:33,773 : INFO : worker thread finished; awaiting finish of 1 more threads\n",
            "2019-04-02 13:51:33,782 : INFO : worker thread finished; awaiting finish of 0 more threads\n",
            "2019-04-02 13:51:33,783 : INFO : EPOCH - 20 : training on 9227204 raw words (8222954 effective words) took 21.7s, 379180 effective words/s\n",
            "2019-04-02 13:51:34,845 : INFO : EPOCH 21 - PROGRESS: at 4.13% examples, 322406 words/s, in_qsize 14, out_qsize 1\n",
            "2019-04-02 13:51:35,865 : INFO : EPOCH 21 - PROGRESS: at 9.34% examples, 370239 words/s, in_qsize 15, out_qsize 0\n",
            "2019-04-02 13:51:36,926 : INFO : EPOCH 21 - PROGRESS: at 13.58% examples, 355717 words/s, in_qsize 16, out_qsize 0\n",
            "2019-04-02 13:51:37,993 : INFO : EPOCH 21 - PROGRESS: at 18.43% examples, 360675 words/s, in_qsize 16, out_qsize 0\n",
            "2019-04-02 13:51:39,013 : INFO : EPOCH 21 - PROGRESS: at 23.42% examples, 368823 words/s, in_qsize 15, out_qsize 0\n",
            "2019-04-02 13:51:40,021 : INFO : EPOCH 21 - PROGRESS: at 27.96% examples, 369213 words/s, in_qsize 15, out_qsize 0\n",
            "2019-04-02 13:51:41,080 : INFO : EPOCH 21 - PROGRESS: at 32.41% examples, 365679 words/s, in_qsize 15, out_qsize 0\n",
            "2019-04-02 13:51:42,094 : INFO : EPOCH 21 - PROGRESS: at 37.16% examples, 368207 words/s, in_qsize 14, out_qsize 1\n",
            "2019-04-02 13:51:43,197 : INFO : EPOCH 21 - PROGRESS: at 42.24% examples, 369567 words/s, in_qsize 15, out_qsize 0\n",
            "2019-04-02 13:51:44,209 : INFO : EPOCH 21 - PROGRESS: at 46.67% examples, 368739 words/s, in_qsize 16, out_qsize 4\n",
            "2019-04-02 13:51:45,223 : INFO : EPOCH 21 - PROGRESS: at 51.32% examples, 369552 words/s, in_qsize 15, out_qsize 0\n",
            "2019-04-02 13:51:46,241 : INFO : EPOCH 21 - PROGRESS: at 56.18% examples, 371572 words/s, in_qsize 14, out_qsize 1\n",
            "2019-04-02 13:51:47,242 : INFO : EPOCH 21 - PROGRESS: at 60.74% examples, 371718 words/s, in_qsize 15, out_qsize 0\n",
            "2019-04-02 13:51:48,275 : INFO : EPOCH 21 - PROGRESS: at 65.39% examples, 371653 words/s, in_qsize 15, out_qsize 0\n",
            "2019-04-02 13:51:49,287 : INFO : EPOCH 21 - PROGRESS: at 69.83% examples, 370951 words/s, in_qsize 16, out_qsize 0\n",
            "2019-04-02 13:51:50,306 : INFO : EPOCH 21 - PROGRESS: at 74.16% examples, 369630 words/s, in_qsize 14, out_qsize 5\n",
            "2019-04-02 13:51:51,386 : INFO : EPOCH 21 - PROGRESS: at 79.49% examples, 371758 words/s, in_qsize 15, out_qsize 0\n",
            "2019-04-02 13:51:52,407 : INFO : EPOCH 21 - PROGRESS: at 84.05% examples, 371448 words/s, in_qsize 14, out_qsize 1\n",
            "2019-04-02 13:51:53,457 : INFO : EPOCH 21 - PROGRESS: at 88.91% examples, 372005 words/s, in_qsize 15, out_qsize 0\n",
            "2019-04-02 13:51:54,509 : INFO : EPOCH 21 - PROGRESS: at 93.59% examples, 371566 words/s, in_qsize 13, out_qsize 2\n",
            "2019-04-02 13:51:55,567 : INFO : EPOCH 21 - PROGRESS: at 98.69% examples, 372725 words/s, in_qsize 12, out_qsize 1\n",
            "2019-04-02 13:51:55,694 : INFO : worker thread finished; awaiting finish of 7 more threads\n",
            "2019-04-02 13:51:55,704 : INFO : worker thread finished; awaiting finish of 6 more threads\n",
            "2019-04-02 13:51:55,723 : INFO : worker thread finished; awaiting finish of 5 more threads\n",
            "2019-04-02 13:51:55,726 : INFO : worker thread finished; awaiting finish of 4 more threads\n",
            "2019-04-02 13:51:55,742 : INFO : worker thread finished; awaiting finish of 3 more threads\n",
            "2019-04-02 13:51:55,757 : INFO : worker thread finished; awaiting finish of 2 more threads\n",
            "2019-04-02 13:51:55,762 : INFO : worker thread finished; awaiting finish of 1 more threads\n",
            "2019-04-02 13:51:55,768 : INFO : worker thread finished; awaiting finish of 0 more threads\n",
            "2019-04-02 13:51:55,769 : INFO : EPOCH - 21 : training on 9227204 raw words (8222734 effective words) took 22.0s, 374204 effective words/s\n",
            "2019-04-02 13:51:56,848 : INFO : EPOCH 22 - PROGRESS: at 4.13% examples, 317736 words/s, in_qsize 16, out_qsize 1\n",
            "2019-04-02 13:51:57,876 : INFO : EPOCH 22 - PROGRESS: at 9.01% examples, 353191 words/s, in_qsize 14, out_qsize 1\n",
            "2019-04-02 13:51:58,902 : INFO : EPOCH 22 - PROGRESS: at 13.57% examples, 356960 words/s, in_qsize 15, out_qsize 0\n",
            "2019-04-02 13:51:59,985 : INFO : EPOCH 22 - PROGRESS: at 18.54% examples, 362366 words/s, in_qsize 16, out_qsize 0\n",
            "2019-04-02 13:52:00,990 : INFO : EPOCH 22 - PROGRESS: at 22.98% examples, 362694 words/s, in_qsize 14, out_qsize 4\n",
            "2019-04-02 13:52:02,062 : INFO : EPOCH 22 - PROGRESS: at 27.96% examples, 366015 words/s, in_qsize 15, out_qsize 0\n",
            "2019-04-02 13:52:03,087 : INFO : EPOCH 22 - PROGRESS: at 32.84% examples, 369559 words/s, in_qsize 15, out_qsize 0\n",
            "2019-04-02 13:52:04,095 : INFO : EPOCH 22 - PROGRESS: at 37.37% examples, 369742 words/s, in_qsize 16, out_qsize 0\n",
            "2019-04-02 13:52:05,126 : INFO : EPOCH 22 - PROGRESS: at 41.92% examples, 368981 words/s, in_qsize 15, out_qsize 0\n",
            "2019-04-02 13:52:06,140 : INFO : EPOCH 22 - PROGRESS: at 47.00% examples, 373304 words/s, in_qsize 15, out_qsize 0\n",
            "2019-04-02 13:52:07,264 : INFO : EPOCH 22 - PROGRESS: at 51.64% examples, 370138 words/s, in_qsize 16, out_qsize 1\n",
            "2019-04-02 13:52:08,302 : INFO : EPOCH 22 - PROGRESS: at 56.40% examples, 370786 words/s, in_qsize 15, out_qsize 0\n",
            "2019-04-02 13:52:09,388 : INFO : EPOCH 22 - PROGRESS: at 61.39% examples, 371318 words/s, in_qsize 14, out_qsize 1\n",
            "2019-04-02 13:52:10,411 : INFO : EPOCH 22 - PROGRESS: at 66.15% examples, 372114 words/s, in_qsize 15, out_qsize 0\n",
            "2019-04-02 13:52:11,423 : INFO : EPOCH 22 - PROGRESS: at 70.91% examples, 373083 words/s, in_qsize 15, out_qsize 0\n",
            "2019-04-02 13:52:12,433 : INFO : EPOCH 22 - PROGRESS: at 75.57% examples, 373464 words/s, in_qsize 15, out_qsize 0\n",
            "2019-04-02 13:52:13,476 : INFO : EPOCH 22 - PROGRESS: at 80.03% examples, 372074 words/s, in_qsize 15, out_qsize 0\n",
            "2019-04-02 13:52:14,520 : INFO : EPOCH 22 - PROGRESS: at 85.13% examples, 373686 words/s, in_qsize 15, out_qsize 0\n",
            "2019-04-02 13:52:15,571 : INFO : EPOCH 22 - PROGRESS: at 89.78% examples, 373200 words/s, in_qsize 15, out_qsize 0\n",
            "2019-04-02 13:52:16,664 : INFO : EPOCH 22 - PROGRESS: at 94.69% examples, 372839 words/s, in_qsize 15, out_qsize 0\n",
            "2019-04-02 13:52:17,612 : INFO : worker thread finished; awaiting finish of 7 more threads\n",
            "2019-04-02 13:52:17,615 : INFO : worker thread finished; awaiting finish of 6 more threads\n",
            "2019-04-02 13:52:17,620 : INFO : worker thread finished; awaiting finish of 5 more threads\n",
            "2019-04-02 13:52:17,625 : INFO : worker thread finished; awaiting finish of 4 more threads\n",
            "2019-04-02 13:52:17,631 : INFO : worker thread finished; awaiting finish of 3 more threads\n",
            "2019-04-02 13:52:17,670 : INFO : EPOCH 22 - PROGRESS: at 99.78% examples, 374882 words/s, in_qsize 2, out_qsize 1\n",
            "2019-04-02 13:52:17,674 : INFO : worker thread finished; awaiting finish of 2 more threads\n",
            "2019-04-02 13:52:17,689 : INFO : worker thread finished; awaiting finish of 1 more threads\n",
            "2019-04-02 13:52:17,697 : INFO : worker thread finished; awaiting finish of 0 more threads\n",
            "2019-04-02 13:52:17,698 : INFO : EPOCH - 22 : training on 9227204 raw words (8223117 effective words) took 21.9s, 375215 effective words/s\n",
            "2019-04-02 13:52:18,776 : INFO : EPOCH 23 - PROGRESS: at 4.34% examples, 333950 words/s, in_qsize 15, out_qsize 0\n",
            "2019-04-02 13:52:19,820 : INFO : EPOCH 23 - PROGRESS: at 9.12% examples, 354583 words/s, in_qsize 16, out_qsize 0\n",
            "2019-04-02 13:52:20,982 : INFO : EPOCH 23 - PROGRESS: at 14.43% examples, 361934 words/s, in_qsize 15, out_qsize 0\n",
            "2019-04-02 13:52:22,004 : INFO : EPOCH 23 - PROGRESS: at 19.51% examples, 373301 words/s, in_qsize 15, out_qsize 0\n",
            "2019-04-02 13:52:23,032 : INFO : EPOCH 23 - PROGRESS: at 24.06% examples, 371539 words/s, in_qsize 15, out_qsize 0\n",
            "2019-04-02 13:52:24,123 : INFO : EPOCH 23 - PROGRESS: at 28.50% examples, 365312 words/s, in_qsize 15, out_qsize 0\n",
            "2019-04-02 13:52:25,172 : INFO : EPOCH 23 - PROGRESS: at 33.48% examples, 368871 words/s, in_qsize 15, out_qsize 0\n",
            "2019-04-02 13:52:26,217 : INFO : EPOCH 23 - PROGRESS: at 38.46% examples, 371747 words/s, in_qsize 15, out_qsize 0\n",
            "2019-04-02 13:52:27,235 : INFO : EPOCH 23 - PROGRESS: at 43.32% examples, 374104 words/s, in_qsize 14, out_qsize 1\n",
            "2019-04-02 13:52:28,237 : INFO : EPOCH 23 - PROGRESS: at 47.97% examples, 374854 words/s, in_qsize 15, out_qsize 0\n",
            "2019-04-02 13:52:29,290 : INFO : EPOCH 23 - PROGRESS: at 52.62% examples, 373890 words/s, in_qsize 15, out_qsize 0\n",
            "2019-04-02 13:52:30,292 : INFO : EPOCH 23 - PROGRESS: at 57.60% examples, 376712 words/s, in_qsize 16, out_qsize 0\n",
            "2019-04-02 13:52:31,314 : INFO : EPOCH 23 - PROGRESS: at 62.03% examples, 375250 words/s, in_qsize 14, out_qsize 1\n",
            "2019-04-02 13:52:32,352 : INFO : EPOCH 23 - PROGRESS: at 66.91% examples, 376038 words/s, in_qsize 15, out_qsize 0\n",
            "2019-04-02 13:52:33,374 : INFO : EPOCH 23 - PROGRESS: at 71.88% examples, 377655 words/s, in_qsize 15, out_qsize 0\n",
            "2019-04-02 13:52:34,401 : INFO : EPOCH 23 - PROGRESS: at 76.33% examples, 376290 words/s, in_qsize 15, out_qsize 0\n",
            "2019-04-02 13:52:35,515 : INFO : EPOCH 23 - PROGRESS: at 81.01% examples, 374263 words/s, in_qsize 14, out_qsize 1\n",
            "2019-04-02 13:52:36,527 : INFO : EPOCH 23 - PROGRESS: at 85.77% examples, 374954 words/s, in_qsize 15, out_qsize 0\n",
            "2019-04-02 13:52:37,584 : INFO : EPOCH 23 - PROGRESS: at 90.22% examples, 373386 words/s, in_qsize 15, out_qsize 0\n",
            "2019-04-02 13:52:38,584 : INFO : EPOCH 23 - PROGRESS: at 95.01% examples, 374260 words/s, in_qsize 16, out_qsize 0\n",
            "2019-04-02 13:52:39,521 : INFO : worker thread finished; awaiting finish of 7 more threads\n",
            "2019-04-02 13:52:39,531 : INFO : worker thread finished; awaiting finish of 6 more threads\n",
            "2019-04-02 13:52:39,532 : INFO : worker thread finished; awaiting finish of 5 more threads\n",
            "2019-04-02 13:52:39,542 : INFO : worker thread finished; awaiting finish of 4 more threads\n",
            "2019-04-02 13:52:39,547 : INFO : worker thread finished; awaiting finish of 3 more threads\n",
            "2019-04-02 13:52:39,562 : INFO : worker thread finished; awaiting finish of 2 more threads\n",
            "2019-04-02 13:52:39,573 : INFO : worker thread finished; awaiting finish of 1 more threads\n",
            "2019-04-02 13:52:39,587 : INFO : EPOCH 23 - PROGRESS: at 100.00% examples, 375873 words/s, in_qsize 0, out_qsize 1\n",
            "2019-04-02 13:52:39,588 : INFO : worker thread finished; awaiting finish of 0 more threads\n",
            "2019-04-02 13:52:39,589 : INFO : EPOCH - 23 : training on 9227204 raw words (8223029 effective words) took 21.9s, 375829 effective words/s\n",
            "2019-04-02 13:52:40,645 : INFO : EPOCH 24 - PROGRESS: at 4.45% examples, 351441 words/s, in_qsize 15, out_qsize 0\n",
            "2019-04-02 13:52:41,717 : INFO : EPOCH 24 - PROGRESS: at 9.12% examples, 354401 words/s, in_qsize 15, out_qsize 0\n",
            "2019-04-02 13:52:42,739 : INFO : EPOCH 24 - PROGRESS: at 14.33% examples, 375164 words/s, in_qsize 15, out_qsize 0\n",
            "2019-04-02 13:52:43,751 : INFO : EPOCH 24 - PROGRESS: at 18.54% examples, 367352 words/s, in_qsize 15, out_qsize 0\n",
            "2019-04-02 13:52:44,812 : INFO : EPOCH 24 - PROGRESS: at 22.87% examples, 360978 words/s, in_qsize 15, out_qsize 0\n",
            "2019-04-02 13:52:45,874 : INFO : EPOCH 24 - PROGRESS: at 27.86% examples, 365185 words/s, in_qsize 14, out_qsize 1\n",
            "2019-04-02 13:52:46,886 : INFO : EPOCH 24 - PROGRESS: at 32.30% examples, 364589 words/s, in_qsize 15, out_qsize 5\n",
            "2019-04-02 13:52:47,937 : INFO : EPOCH 24 - PROGRESS: at 37.37% examples, 368877 words/s, in_qsize 16, out_qsize 0\n",
            "2019-04-02 13:52:48,949 : INFO : EPOCH 24 - PROGRESS: at 41.80% examples, 368054 words/s, in_qsize 16, out_qsize 0\n",
            "2019-04-02 13:52:49,967 : INFO : EPOCH 24 - PROGRESS: at 46.67% examples, 370574 words/s, in_qsize 14, out_qsize 1\n",
            "2019-04-02 13:52:51,013 : INFO : EPOCH 24 - PROGRESS: at 51.43% examples, 370978 words/s, in_qsize 15, out_qsize 0\n",
            "2019-04-02 13:52:52,067 : INFO : EPOCH 24 - PROGRESS: at 56.29% examples, 371780 words/s, in_qsize 15, out_qsize 0\n",
            "2019-04-02 13:52:53,123 : INFO : EPOCH 24 - PROGRESS: at 60.74% examples, 369741 words/s, in_qsize 15, out_qsize 0\n",
            "2019-04-02 13:52:54,147 : INFO : EPOCH 24 - PROGRESS: at 65.17% examples, 368840 words/s, in_qsize 15, out_qsize 0\n",
            "2019-04-02 13:52:55,212 : INFO : EPOCH 24 - PROGRESS: at 69.94% examples, 368787 words/s, in_qsize 15, out_qsize 0\n",
            "2019-04-02 13:52:56,213 : INFO : EPOCH 24 - PROGRESS: at 74.92% examples, 371226 words/s, in_qsize 15, out_qsize 0\n",
            "2019-04-02 13:52:57,219 : INFO : EPOCH 24 - PROGRESS: at 78.94% examples, 368740 words/s, in_qsize 15, out_qsize 0\n",
            "2019-04-02 13:52:58,316 : INFO : EPOCH 24 - PROGRESS: at 84.05% examples, 369500 words/s, in_qsize 15, out_qsize 0\n",
            "2019-04-02 13:52:59,362 : INFO : EPOCH 24 - PROGRESS: at 88.59% examples, 368855 words/s, in_qsize 12, out_qsize 3\n",
            "2019-04-02 13:53:00,378 : INFO : EPOCH 24 - PROGRESS: at 93.26% examples, 369231 words/s, in_qsize 15, out_qsize 0\n",
            "2019-04-02 13:53:01,378 : INFO : EPOCH 24 - PROGRESS: at 98.14% examples, 370673 words/s, in_qsize 15, out_qsize 0\n",
            "2019-04-02 13:53:01,591 : INFO : worker thread finished; awaiting finish of 7 more threads\n",
            "2019-04-02 13:53:01,654 : INFO : worker thread finished; awaiting finish of 6 more threads\n",
            "2019-04-02 13:53:01,662 : INFO : worker thread finished; awaiting finish of 5 more threads\n",
            "2019-04-02 13:53:01,668 : INFO : worker thread finished; awaiting finish of 4 more threads\n",
            "2019-04-02 13:53:01,692 : INFO : worker thread finished; awaiting finish of 3 more threads\n",
            "2019-04-02 13:53:01,694 : INFO : worker thread finished; awaiting finish of 2 more threads\n",
            "2019-04-02 13:53:01,708 : INFO : worker thread finished; awaiting finish of 1 more threads\n",
            "2019-04-02 13:53:01,713 : INFO : worker thread finished; awaiting finish of 0 more threads\n",
            "2019-04-02 13:53:01,714 : INFO : EPOCH - 24 : training on 9227204 raw words (8223446 effective words) took 22.1s, 371940 effective words/s\n",
            "2019-04-02 13:53:02,737 : INFO : EPOCH 25 - PROGRESS: at 4.13% examples, 335359 words/s, in_qsize 15, out_qsize 0\n",
            "2019-04-02 13:53:03,775 : INFO : EPOCH 25 - PROGRESS: at 9.12% examples, 365466 words/s, in_qsize 14, out_qsize 0\n",
            "2019-04-02 13:53:04,781 : INFO : EPOCH 25 - PROGRESS: at 13.47% examples, 361752 words/s, in_qsize 15, out_qsize 0\n",
            "2019-04-02 13:53:05,890 : INFO : EPOCH 25 - PROGRESS: at 18.32% examples, 363256 words/s, in_qsize 16, out_qsize 2\n",
            "2019-04-02 13:53:06,892 : INFO : EPOCH 25 - PROGRESS: at 23.63% examples, 376059 words/s, in_qsize 15, out_qsize 0\n",
            "2019-04-02 13:53:07,914 : INFO : EPOCH 25 - PROGRESS: at 28.18% examples, 374393 words/s, in_qsize 15, out_qsize 0\n",
            "2019-04-02 13:53:08,918 : INFO : EPOCH 25 - PROGRESS: at 32.62% examples, 372948 words/s, in_qsize 16, out_qsize 0\n",
            "2019-04-02 13:53:10,016 : INFO : EPOCH 25 - PROGRESS: at 37.81% examples, 376226 words/s, in_qsize 15, out_qsize 0\n",
            "2019-04-02 13:53:11,059 : INFO : EPOCH 25 - PROGRESS: at 42.78% examples, 377066 words/s, in_qsize 15, out_qsize 0\n",
            "2019-04-02 13:53:12,091 : INFO : EPOCH 25 - PROGRESS: at 47.43% examples, 376496 words/s, in_qsize 15, out_qsize 0\n",
            "2019-04-02 13:53:13,112 : INFO : EPOCH 25 - PROGRESS: at 52.29% examples, 377976 words/s, in_qsize 15, out_qsize 1\n",
            "2019-04-02 13:53:14,164 : INFO : EPOCH 25 - PROGRESS: at 57.16% examples, 378244 words/s, in_qsize 15, out_qsize 0\n",
            "2019-04-02 13:53:15,217 : INFO : EPOCH 25 - PROGRESS: at 61.82% examples, 377105 words/s, in_qsize 16, out_qsize 5\n",
            "2019-04-02 13:53:16,234 : INFO : EPOCH 25 - PROGRESS: at 66.91% examples, 379529 words/s, in_qsize 15, out_qsize 0\n",
            "2019-04-02 13:53:17,318 : INFO : EPOCH 25 - PROGRESS: at 71.99% examples, 380004 words/s, in_qsize 16, out_qsize 0\n",
            "2019-04-02 13:53:18,340 : INFO : EPOCH 25 - PROGRESS: at 76.77% examples, 380208 words/s, in_qsize 12, out_qsize 3\n",
            "2019-04-02 13:53:19,358 : INFO : EPOCH 25 - PROGRESS: at 82.10% examples, 383036 words/s, in_qsize 15, out_qsize 0\n",
            "2019-04-02 13:53:20,374 : INFO : EPOCH 25 - PROGRESS: at 86.64% examples, 382199 words/s, in_qsize 15, out_qsize 0\n",
            "2019-04-02 13:53:21,419 : INFO : EPOCH 25 - PROGRESS: at 91.52% examples, 382253 words/s, in_qsize 15, out_qsize 0\n",
            "2019-04-02 13:53:22,457 : INFO : EPOCH 25 - PROGRESS: at 96.31% examples, 382031 words/s, in_qsize 14, out_qsize 1\n",
            "2019-04-02 13:53:23,025 : INFO : worker thread finished; awaiting finish of 7 more threads\n",
            "2019-04-02 13:53:23,055 : INFO : worker thread finished; awaiting finish of 6 more threads\n",
            "2019-04-02 13:53:23,098 : INFO : worker thread finished; awaiting finish of 5 more threads\n",
            "2019-04-02 13:53:23,101 : INFO : worker thread finished; awaiting finish of 4 more threads\n",
            "2019-04-02 13:53:23,104 : INFO : worker thread finished; awaiting finish of 3 more threads\n",
            "2019-04-02 13:53:23,111 : INFO : worker thread finished; awaiting finish of 2 more threads\n",
            "2019-04-02 13:53:23,119 : INFO : worker thread finished; awaiting finish of 1 more threads\n",
            "2019-04-02 13:53:23,120 : INFO : worker thread finished; awaiting finish of 0 more threads\n",
            "2019-04-02 13:53:23,122 : INFO : EPOCH - 25 : training on 9227204 raw words (8222927 effective words) took 21.4s, 384363 effective words/s\n",
            "2019-04-02 13:53:24,164 : INFO : EPOCH 26 - PROGRESS: at 4.01% examples, 321064 words/s, in_qsize 16, out_qsize 0\n",
            "2019-04-02 13:53:25,198 : INFO : EPOCH 26 - PROGRESS: at 9.01% examples, 358795 words/s, in_qsize 16, out_qsize 0\n",
            "2019-04-02 13:53:26,246 : INFO : EPOCH 26 - PROGRESS: at 14.00% examples, 371887 words/s, in_qsize 15, out_qsize 1\n",
            "2019-04-02 13:53:27,287 : INFO : EPOCH 26 - PROGRESS: at 18.76% examples, 371317 words/s, in_qsize 16, out_qsize 1\n",
            "2019-04-02 13:53:28,302 : INFO : EPOCH 26 - PROGRESS: at 23.09% examples, 367385 words/s, in_qsize 12, out_qsize 3\n",
            "2019-04-02 13:53:29,380 : INFO : EPOCH 26 - PROGRESS: at 28.40% examples, 373879 words/s, in_qsize 13, out_qsize 3\n",
            "2019-04-02 13:53:30,383 : INFO : EPOCH 26 - PROGRESS: at 33.59% examples, 381148 words/s, in_qsize 15, out_qsize 0\n",
            "2019-04-02 13:53:31,436 : INFO : EPOCH 26 - PROGRESS: at 38.02% examples, 376837 words/s, in_qsize 15, out_qsize 0\n",
            "2019-04-02 13:53:32,528 : INFO : EPOCH 26 - PROGRESS: at 43.11% examples, 377554 words/s, in_qsize 14, out_qsize 4\n",
            "2019-04-02 13:53:33,557 : INFO : EPOCH 26 - PROGRESS: at 48.40% examples, 382165 words/s, in_qsize 15, out_qsize 0\n",
            "2019-04-02 13:53:34,570 : INFO : EPOCH 26 - PROGRESS: at 52.84% examples, 380259 words/s, in_qsize 16, out_qsize 1\n",
            "2019-04-02 13:53:35,589 : INFO : EPOCH 26 - PROGRESS: at 57.60% examples, 380640 words/s, in_qsize 14, out_qsize 4\n",
            "2019-04-02 13:53:36,594 : INFO : EPOCH 26 - PROGRESS: at 62.57% examples, 382669 words/s, in_qsize 15, out_qsize 0\n",
            "2019-04-02 13:53:37,607 : INFO : EPOCH 26 - PROGRESS: at 67.02% examples, 381112 words/s, in_qsize 14, out_qsize 1\n",
            "2019-04-02 13:53:38,620 : INFO : EPOCH 26 - PROGRESS: at 71.88% examples, 382071 words/s, in_qsize 16, out_qsize 0\n",
            "2019-04-02 13:53:39,642 : INFO : EPOCH 26 - PROGRESS: at 76.44% examples, 381058 words/s, in_qsize 15, out_qsize 0\n",
            "2019-04-02 13:53:40,681 : INFO : EPOCH 26 - PROGRESS: at 81.66% examples, 382872 words/s, in_qsize 15, out_qsize 0\n",
            "2019-04-02 13:53:41,719 : INFO : EPOCH 26 - PROGRESS: at 86.09% examples, 381131 words/s, in_qsize 12, out_qsize 3\n",
            "2019-04-02 13:53:42,725 : INFO : EPOCH 26 - PROGRESS: at 90.98% examples, 382002 words/s, in_qsize 16, out_qsize 1\n",
            "2019-04-02 13:53:43,782 : INFO : EPOCH 26 - PROGRESS: at 95.88% examples, 381847 words/s, in_qsize 15, out_qsize 0\n",
            "2019-04-02 13:53:44,440 : INFO : worker thread finished; awaiting finish of 7 more threads\n",
            "2019-04-02 13:53:44,452 : INFO : worker thread finished; awaiting finish of 6 more threads\n",
            "2019-04-02 13:53:44,467 : INFO : worker thread finished; awaiting finish of 5 more threads\n",
            "2019-04-02 13:53:44,478 : INFO : worker thread finished; awaiting finish of 4 more threads\n",
            "2019-04-02 13:53:44,486 : INFO : worker thread finished; awaiting finish of 3 more threads\n",
            "2019-04-02 13:53:44,499 : INFO : worker thread finished; awaiting finish of 2 more threads\n",
            "2019-04-02 13:53:44,514 : INFO : worker thread finished; awaiting finish of 1 more threads\n",
            "2019-04-02 13:53:44,524 : INFO : worker thread finished; awaiting finish of 0 more threads\n",
            "2019-04-02 13:53:44,525 : INFO : EPOCH - 26 : training on 9227204 raw words (8222675 effective words) took 21.4s, 384462 effective words/s\n",
            "2019-04-02 13:53:45,555 : INFO : EPOCH 27 - PROGRESS: at 4.34% examples, 350381 words/s, in_qsize 14, out_qsize 1\n",
            "2019-04-02 13:53:46,593 : INFO : EPOCH 27 - PROGRESS: at 9.12% examples, 364244 words/s, in_qsize 15, out_qsize 0\n",
            "2019-04-02 13:53:47,611 : INFO : EPOCH 27 - PROGRESS: at 14.11% examples, 376882 words/s, in_qsize 15, out_qsize 0\n",
            "2019-04-02 13:53:48,628 : INFO : EPOCH 27 - PROGRESS: at 18.76% examples, 376773 words/s, in_qsize 15, out_qsize 0\n",
            "2019-04-02 13:53:49,637 : INFO : EPOCH 27 - PROGRESS: at 23.52% examples, 379178 words/s, in_qsize 14, out_qsize 1\n",
            "2019-04-02 13:53:50,645 : INFO : EPOCH 27 - PROGRESS: at 27.86% examples, 374932 words/s, in_qsize 15, out_qsize 0\n",
            "2019-04-02 13:53:51,671 : INFO : EPOCH 27 - PROGRESS: at 32.95% examples, 379698 words/s, in_qsize 15, out_qsize 0\n",
            "2019-04-02 13:53:52,675 : INFO : EPOCH 27 - PROGRESS: at 37.16% examples, 375527 words/s, in_qsize 12, out_qsize 3\n",
            "2019-04-02 13:53:53,681 : INFO : EPOCH 27 - PROGRESS: at 41.91% examples, 377092 words/s, in_qsize 15, out_qsize 0\n",
            "2019-04-02 13:53:54,753 : INFO : EPOCH 27 - PROGRESS: at 46.78% examples, 376722 words/s, in_qsize 14, out_qsize 1\n",
            "2019-04-02 13:53:55,769 : INFO : EPOCH 27 - PROGRESS: at 51.43% examples, 377216 words/s, in_qsize 15, out_qsize 3\n",
            "2019-04-02 13:53:56,770 : INFO : EPOCH 27 - PROGRESS: at 56.29% examples, 378707 words/s, in_qsize 15, out_qsize 0\n",
            "2019-04-02 13:53:57,785 : INFO : EPOCH 27 - PROGRESS: at 60.96% examples, 378627 words/s, in_qsize 14, out_qsize 1\n",
            "2019-04-02 13:53:58,789 : INFO : EPOCH 27 - PROGRESS: at 66.04% examples, 381312 words/s, in_qsize 15, out_qsize 0\n",
            "2019-04-02 13:53:59,794 : INFO : EPOCH 27 - PROGRESS: at 70.26% examples, 378984 words/s, in_qsize 14, out_qsize 1\n",
            "2019-04-02 13:54:00,807 : INFO : EPOCH 27 - PROGRESS: at 75.24% examples, 380572 words/s, in_qsize 15, out_qsize 0\n",
            "2019-04-02 13:54:01,828 : INFO : EPOCH 27 - PROGRESS: at 79.81% examples, 379725 words/s, in_qsize 16, out_qsize 0\n",
            "2019-04-02 13:54:02,843 : INFO : EPOCH 27 - PROGRESS: at 84.69% examples, 380597 words/s, in_qsize 15, out_qsize 0\n",
            "2019-04-02 13:54:03,863 : INFO : EPOCH 27 - PROGRESS: at 89.23% examples, 379858 words/s, in_qsize 16, out_qsize 1\n",
            "2019-04-02 13:54:04,867 : INFO : EPOCH 27 - PROGRESS: at 93.70% examples, 379042 words/s, in_qsize 15, out_qsize 0\n",
            "2019-04-02 13:54:05,989 : INFO : EPOCH 27 - PROGRESS: at 98.90% examples, 379148 words/s, in_qsize 10, out_qsize 1\n",
            "2019-04-02 13:54:06,058 : INFO : worker thread finished; awaiting finish of 7 more threads\n",
            "2019-04-02 13:54:06,067 : INFO : worker thread finished; awaiting finish of 6 more threads\n",
            "2019-04-02 13:54:06,069 : INFO : worker thread finished; awaiting finish of 5 more threads\n",
            "2019-04-02 13:54:06,073 : INFO : worker thread finished; awaiting finish of 4 more threads\n",
            "2019-04-02 13:54:06,077 : INFO : worker thread finished; awaiting finish of 3 more threads\n",
            "2019-04-02 13:54:06,102 : INFO : worker thread finished; awaiting finish of 2 more threads\n",
            "2019-04-02 13:54:06,119 : INFO : worker thread finished; awaiting finish of 1 more threads\n",
            "2019-04-02 13:54:06,126 : INFO : worker thread finished; awaiting finish of 0 more threads\n",
            "2019-04-02 13:54:06,127 : INFO : EPOCH - 27 : training on 9227204 raw words (8223008 effective words) took 21.6s, 380894 effective words/s\n",
            "2019-04-02 13:54:07,151 : INFO : EPOCH 28 - PROGRESS: at 4.12% examples, 334193 words/s, in_qsize 16, out_qsize 2\n",
            "2019-04-02 13:54:08,156 : INFO : EPOCH 28 - PROGRESS: at 9.23% examples, 375364 words/s, in_qsize 15, out_qsize 0\n",
            "2019-04-02 13:54:09,250 : INFO : EPOCH 28 - PROGRESS: at 13.68% examples, 360722 words/s, in_qsize 12, out_qsize 3\n",
            "2019-04-02 13:54:10,267 : INFO : EPOCH 28 - PROGRESS: at 18.76% examples, 373301 words/s, in_qsize 15, out_qsize 0\n",
            "2019-04-02 13:54:11,286 : INFO : EPOCH 28 - PROGRESS: at 23.52% examples, 375587 words/s, in_qsize 13, out_qsize 0\n",
            "2019-04-02 13:54:12,322 : INFO : EPOCH 28 - PROGRESS: at 28.29% examples, 376062 words/s, in_qsize 16, out_qsize 0\n",
            "2019-04-02 13:54:13,361 : INFO : EPOCH 28 - PROGRESS: at 32.95% examples, 374990 words/s, in_qsize 12, out_qsize 3\n",
            "2019-04-02 13:54:14,369 : INFO : EPOCH 28 - PROGRESS: at 38.03% examples, 379909 words/s, in_qsize 14, out_qsize 1\n",
            "2019-04-02 13:54:15,392 : INFO : EPOCH 28 - PROGRESS: at 42.57% examples, 378383 words/s, in_qsize 16, out_qsize 1\n",
            "2019-04-02 13:54:16,402 : INFO : EPOCH 28 - PROGRESS: at 47.65% examples, 381928 words/s, in_qsize 16, out_qsize 0\n",
            "2019-04-02 13:54:17,410 : INFO : EPOCH 28 - PROGRESS: at 52.18% examples, 380991 words/s, in_qsize 15, out_qsize 0\n",
            "2019-04-02 13:54:18,425 : INFO : EPOCH 28 - PROGRESS: at 56.95% examples, 381412 words/s, in_qsize 15, out_qsize 1\n",
            "2019-04-02 13:54:19,511 : INFO : EPOCH 28 - PROGRESS: at 61.50% examples, 378706 words/s, in_qsize 15, out_qsize 1\n",
            "2019-04-02 13:54:20,519 : INFO : EPOCH 28 - PROGRESS: at 66.47% examples, 380359 words/s, in_qsize 14, out_qsize 1\n",
            "2019-04-02 13:54:21,524 : INFO : EPOCH 28 - PROGRESS: at 71.24% examples, 380984 words/s, in_qsize 15, out_qsize 0\n",
            "2019-04-02 13:54:22,593 : INFO : EPOCH 28 - PROGRESS: at 76.00% examples, 380043 words/s, in_qsize 15, out_qsize 0\n",
            "2019-04-02 13:54:23,599 : INFO : EPOCH 28 - PROGRESS: at 81.23% examples, 382653 words/s, in_qsize 16, out_qsize 0\n",
            "2019-04-02 13:54:24,618 : INFO : EPOCH 28 - PROGRESS: at 85.56% examples, 380815 words/s, in_qsize 13, out_qsize 2\n",
            "2019-04-02 13:54:25,702 : INFO : EPOCH 28 - PROGRESS: at 90.76% examples, 381533 words/s, in_qsize 16, out_qsize 0\n",
            "2019-04-02 13:54:26,732 : INFO : EPOCH 28 - PROGRESS: at 95.34% examples, 380649 words/s, in_qsize 15, out_qsize 0\n",
            "2019-04-02 13:54:27,548 : INFO : worker thread finished; awaiting finish of 7 more threads\n",
            "2019-04-02 13:54:27,567 : INFO : worker thread finished; awaiting finish of 6 more threads\n",
            "2019-04-02 13:54:27,576 : INFO : worker thread finished; awaiting finish of 5 more threads\n",
            "2019-04-02 13:54:27,613 : INFO : worker thread finished; awaiting finish of 4 more threads\n",
            "2019-04-02 13:54:27,639 : INFO : worker thread finished; awaiting finish of 3 more threads\n",
            "2019-04-02 13:54:27,641 : INFO : worker thread finished; awaiting finish of 2 more threads\n",
            "2019-04-02 13:54:27,659 : INFO : worker thread finished; awaiting finish of 1 more threads\n",
            "2019-04-02 13:54:27,665 : INFO : worker thread finished; awaiting finish of 0 more threads\n",
            "2019-04-02 13:54:27,666 : INFO : EPOCH - 28 : training on 9227204 raw words (8222251 effective words) took 21.5s, 381938 effective words/s\n",
            "2019-04-02 13:54:28,714 : INFO : EPOCH 29 - PROGRESS: at 4.13% examples, 327043 words/s, in_qsize 15, out_qsize 0\n",
            "2019-04-02 13:54:29,741 : INFO : EPOCH 29 - PROGRESS: at 8.80% examples, 349954 words/s, in_qsize 16, out_qsize 0\n",
            "2019-04-02 13:54:30,750 : INFO : EPOCH 29 - PROGRESS: at 13.04% examples, 348021 words/s, in_qsize 15, out_qsize 0\n",
            "2019-04-02 13:54:31,756 : INFO : EPOCH 29 - PROGRESS: at 17.78% examples, 358124 words/s, in_qsize 13, out_qsize 0\n",
            "2019-04-02 13:54:32,787 : INFO : EPOCH 29 - PROGRESS: at 22.33% examples, 359157 words/s, in_qsize 14, out_qsize 1\n",
            "2019-04-02 13:54:33,827 : INFO : EPOCH 29 - PROGRESS: at 26.78% examples, 357840 words/s, in_qsize 15, out_qsize 0\n",
            "2019-04-02 13:54:34,833 : INFO : EPOCH 29 - PROGRESS: at 31.54% examples, 362355 words/s, in_qsize 14, out_qsize 1\n",
            "2019-04-02 13:54:35,837 : INFO : EPOCH 29 - PROGRESS: at 35.97% examples, 362507 words/s, in_qsize 16, out_qsize 0\n",
            "2019-04-02 13:54:36,843 : INFO : EPOCH 29 - PROGRESS: at 40.40% examples, 362567 words/s, in_qsize 14, out_qsize 1\n",
            "2019-04-02 13:54:37,853 : INFO : EPOCH 29 - PROGRESS: at 45.26% examples, 365946 words/s, in_qsize 16, out_qsize 0\n",
            "2019-04-02 13:54:38,907 : INFO : EPOCH 29 - PROGRESS: at 50.24% examples, 368082 words/s, in_qsize 14, out_qsize 1\n",
            "2019-04-02 13:54:39,911 : INFO : EPOCH 29 - PROGRESS: at 54.78% examples, 368486 words/s, in_qsize 15, out_qsize 0\n",
            "2019-04-02 13:54:40,997 : INFO : EPOCH 29 - PROGRESS: at 59.66% examples, 368581 words/s, in_qsize 16, out_qsize 2\n",
            "2019-04-02 13:54:42,080 : INFO : EPOCH 29 - PROGRESS: at 65.06% examples, 371776 words/s, in_qsize 16, out_qsize 0\n",
            "2019-04-02 13:54:43,117 : INFO : EPOCH 29 - PROGRESS: at 69.72% examples, 371641 words/s, in_qsize 14, out_qsize 1\n",
            "2019-04-02 13:54:44,149 : INFO : EPOCH 29 - PROGRESS: at 74.37% examples, 371588 words/s, in_qsize 16, out_qsize 0\n",
            "2019-04-02 13:54:45,154 : INFO : EPOCH 29 - PROGRESS: at 79.27% examples, 373143 words/s, in_qsize 12, out_qsize 1\n",
            "2019-04-02 13:54:46,212 : INFO : EPOCH 29 - PROGRESS: at 83.94% examples, 372512 words/s, in_qsize 16, out_qsize 0\n",
            "2019-04-02 13:54:47,260 : INFO : EPOCH 29 - PROGRESS: at 88.37% examples, 371203 words/s, in_qsize 15, out_qsize 0\n",
            "2019-04-02 13:54:48,277 : INFO : EPOCH 29 - PROGRESS: at 92.28% examples, 368428 words/s, in_qsize 13, out_qsize 2\n",
            "2019-04-02 13:54:49,301 : INFO : EPOCH 29 - PROGRESS: at 96.64% examples, 367467 words/s, in_qsize 15, out_qsize 0\n",
            "2019-04-02 13:54:49,944 : INFO : worker thread finished; awaiting finish of 7 more threads\n",
            "2019-04-02 13:54:49,975 : INFO : worker thread finished; awaiting finish of 6 more threads\n",
            "2019-04-02 13:54:50,006 : INFO : worker thread finished; awaiting finish of 5 more threads\n",
            "2019-04-02 13:54:50,011 : INFO : worker thread finished; awaiting finish of 4 more threads\n",
            "2019-04-02 13:54:50,055 : INFO : worker thread finished; awaiting finish of 3 more threads\n",
            "2019-04-02 13:54:50,057 : INFO : worker thread finished; awaiting finish of 2 more threads\n",
            "2019-04-02 13:54:50,067 : INFO : worker thread finished; awaiting finish of 1 more threads\n",
            "2019-04-02 13:54:50,077 : INFO : worker thread finished; awaiting finish of 0 more threads\n",
            "2019-04-02 13:54:50,078 : INFO : EPOCH - 29 : training on 9227204 raw words (8222016 effective words) took 22.4s, 367084 effective words/s\n",
            "2019-04-02 13:54:51,138 : INFO : EPOCH 30 - PROGRESS: at 3.58% examples, 281335 words/s, in_qsize 15, out_qsize 0\n",
            "2019-04-02 13:54:52,235 : INFO : EPOCH 30 - PROGRESS: at 8.58% examples, 328506 words/s, in_qsize 15, out_qsize 0\n",
            "2019-04-02 13:54:53,273 : INFO : EPOCH 30 - PROGRESS: at 12.93% examples, 333416 words/s, in_qsize 14, out_qsize 1\n",
            "2019-04-02 13:54:54,289 : INFO : EPOCH 30 - PROGRESS: at 17.46% examples, 341685 words/s, in_qsize 16, out_qsize 0\n",
            "2019-04-02 13:54:55,323 : INFO : EPOCH 30 - PROGRESS: at 21.79% examples, 342355 words/s, in_qsize 15, out_qsize 0\n",
            "2019-04-02 13:54:56,333 : INFO : EPOCH 30 - PROGRESS: at 26.56% examples, 349693 words/s, in_qsize 15, out_qsize 0\n",
            "2019-04-02 13:54:57,335 : INFO : EPOCH 30 - PROGRESS: at 30.99% examples, 351795 words/s, in_qsize 15, out_qsize 0\n",
            "2019-04-02 13:54:58,367 : INFO : EPOCH 30 - PROGRESS: at 35.32% examples, 351005 words/s, in_qsize 15, out_qsize 0\n",
            "2019-04-02 13:54:59,394 : INFO : EPOCH 30 - PROGRESS: at 39.76% examples, 351492 words/s, in_qsize 15, out_qsize 0\n",
            "2019-04-02 13:55:00,484 : INFO : EPOCH 30 - PROGRESS: at 44.62% examples, 353201 words/s, in_qsize 16, out_qsize 0\n",
            "2019-04-02 13:55:01,516 : INFO : EPOCH 30 - PROGRESS: at 49.38% examples, 355587 words/s, in_qsize 14, out_qsize 1\n",
            "2019-04-02 13:55:02,519 : INFO : EPOCH 30 - PROGRESS: at 54.25% examples, 359170 words/s, in_qsize 15, out_qsize 0\n",
            "2019-04-02 13:55:03,600 : INFO : EPOCH 30 - PROGRESS: at 58.79% examples, 358158 words/s, in_qsize 15, out_qsize 0\n",
            "2019-04-02 13:55:04,612 : INFO : EPOCH 30 - PROGRESS: at 63.54% examples, 360183 words/s, in_qsize 15, out_qsize 3\n",
            "2019-04-02 13:55:05,648 : INFO : EPOCH 30 - PROGRESS: at 68.20% examples, 361185 words/s, in_qsize 15, out_qsize 0\n",
            "2019-04-02 13:55:06,657 : INFO : EPOCH 30 - PROGRESS: at 72.64% examples, 360854 words/s, in_qsize 16, out_qsize 1\n",
            "2019-04-02 13:55:07,659 : INFO : EPOCH 30 - PROGRESS: at 77.64% examples, 363589 words/s, in_qsize 15, out_qsize 0\n",
            "2019-04-02 13:55:08,683 : INFO : EPOCH 30 - PROGRESS: at 81.99% examples, 362731 words/s, in_qsize 15, out_qsize 0\n",
            "2019-04-02 13:55:09,719 : INFO : EPOCH 30 - PROGRESS: at 86.42% examples, 362184 words/s, in_qsize 14, out_qsize 1\n",
            "2019-04-02 13:55:10,766 : INFO : EPOCH 30 - PROGRESS: at 91.20% examples, 362786 words/s, in_qsize 15, out_qsize 0\n",
            "2019-04-02 13:55:11,814 : INFO : EPOCH 30 - PROGRESS: at 95.99% examples, 363309 words/s, in_qsize 15, out_qsize 0\n",
            "2019-04-02 13:55:12,458 : INFO : worker thread finished; awaiting finish of 7 more threads\n",
            "2019-04-02 13:55:12,468 : INFO : worker thread finished; awaiting finish of 6 more threads\n",
            "2019-04-02 13:55:12,472 : INFO : worker thread finished; awaiting finish of 5 more threads\n",
            "2019-04-02 13:55:12,478 : INFO : worker thread finished; awaiting finish of 4 more threads\n",
            "2019-04-02 13:55:12,480 : INFO : worker thread finished; awaiting finish of 3 more threads\n",
            "2019-04-02 13:55:12,487 : INFO : worker thread finished; awaiting finish of 2 more threads\n",
            "2019-04-02 13:55:12,518 : INFO : worker thread finished; awaiting finish of 1 more threads\n",
            "2019-04-02 13:55:12,520 : INFO : worker thread finished; awaiting finish of 0 more threads\n",
            "2019-04-02 13:55:12,521 : INFO : EPOCH - 30 : training on 9227204 raw words (8222193 effective words) took 22.4s, 366596 effective words/s\n",
            "2019-04-02 13:55:13,611 : INFO : EPOCH 31 - PROGRESS: at 4.34% examples, 332021 words/s, in_qsize 15, out_qsize 0\n",
            "2019-04-02 13:55:14,647 : INFO : EPOCH 31 - PROGRESS: at 9.01% examples, 350610 words/s, in_qsize 15, out_qsize 0\n",
            "2019-04-02 13:55:15,658 : INFO : EPOCH 31 - PROGRESS: at 14.11% examples, 371188 words/s, in_qsize 16, out_qsize 0\n",
            "2019-04-02 13:55:16,702 : INFO : EPOCH 31 - PROGRESS: at 18.32% examples, 361514 words/s, in_qsize 15, out_qsize 1\n",
            "2019-04-02 13:55:17,737 : INFO : EPOCH 31 - PROGRESS: at 22.87% examples, 361603 words/s, in_qsize 16, out_qsize 0\n",
            "2019-04-02 13:55:18,776 : INFO : EPOCH 31 - PROGRESS: at 27.42% examples, 361370 words/s, in_qsize 16, out_qsize 2\n",
            "2019-04-02 13:55:19,859 : INFO : EPOCH 31 - PROGRESS: at 32.30% examples, 362631 words/s, in_qsize 15, out_qsize 0\n",
            "2019-04-02 13:55:20,885 : INFO : EPOCH 31 - PROGRESS: at 36.83% examples, 362856 words/s, in_qsize 15, out_qsize 0\n",
            "2019-04-02 13:55:21,893 : INFO : EPOCH 31 - PROGRESS: at 41.37% examples, 363736 words/s, in_qsize 15, out_qsize 0\n",
            "2019-04-02 13:55:22,909 : INFO : EPOCH 31 - PROGRESS: at 45.81% examples, 363344 words/s, in_qsize 15, out_qsize 0\n",
            "2019-04-02 13:55:23,931 : INFO : EPOCH 31 - PROGRESS: at 50.78% examples, 366741 words/s, in_qsize 16, out_qsize 0\n",
            "2019-04-02 13:55:24,992 : INFO : EPOCH 31 - PROGRESS: at 55.10% examples, 364110 words/s, in_qsize 14, out_qsize 1\n",
            "2019-04-02 13:55:26,055 : INFO : EPOCH 31 - PROGRESS: at 59.55% examples, 362487 words/s, in_qsize 11, out_qsize 4\n",
            "2019-04-02 13:55:27,062 : INFO : EPOCH 31 - PROGRESS: at 64.62% examples, 366173 words/s, in_qsize 15, out_qsize 0\n",
            "2019-04-02 13:55:28,075 : INFO : EPOCH 31 - PROGRESS: at 68.75% examples, 364108 words/s, in_qsize 15, out_qsize 0\n",
            "2019-04-02 13:55:29,076 : INFO : EPOCH 31 - PROGRESS: at 73.19% examples, 364140 words/s, in_qsize 15, out_qsize 1\n",
            "2019-04-02 13:55:30,154 : INFO : EPOCH 31 - PROGRESS: at 77.96% examples, 364100 words/s, in_qsize 15, out_qsize 1\n",
            "2019-04-02 13:55:31,162 : INFO : EPOCH 31 - PROGRESS: at 82.96% examples, 366388 words/s, in_qsize 16, out_qsize 0\n",
            "2019-04-02 13:55:32,210 : INFO : EPOCH 31 - PROGRESS: at 87.18% examples, 364527 words/s, in_qsize 15, out_qsize 0\n",
            "2019-04-02 13:55:33,282 : INFO : EPOCH 31 - PROGRESS: at 92.06% examples, 364987 words/s, in_qsize 15, out_qsize 0\n",
            "2019-04-02 13:55:34,286 : INFO : EPOCH 31 - PROGRESS: at 96.96% examples, 366554 words/s, in_qsize 15, out_qsize 0\n",
            "2019-04-02 13:55:34,885 : INFO : worker thread finished; awaiting finish of 7 more threads\n",
            "2019-04-02 13:55:34,890 : INFO : worker thread finished; awaiting finish of 6 more threads\n",
            "2019-04-02 13:55:34,897 : INFO : worker thread finished; awaiting finish of 5 more threads\n",
            "2019-04-02 13:55:34,900 : INFO : worker thread finished; awaiting finish of 4 more threads\n",
            "2019-04-02 13:55:34,909 : INFO : worker thread finished; awaiting finish of 3 more threads\n",
            "2019-04-02 13:55:34,931 : INFO : worker thread finished; awaiting finish of 2 more threads\n",
            "2019-04-02 13:55:34,942 : INFO : worker thread finished; awaiting finish of 1 more threads\n",
            "2019-04-02 13:55:34,958 : INFO : worker thread finished; awaiting finish of 0 more threads\n",
            "2019-04-02 13:55:34,959 : INFO : EPOCH - 31 : training on 9227204 raw words (8222654 effective words) took 22.4s, 366722 effective words/s\n",
            "2019-04-02 13:55:36,028 : INFO : EPOCH 32 - PROGRESS: at 3.91% examples, 304137 words/s, in_qsize 15, out_qsize 0\n",
            "2019-04-02 13:55:37,032 : INFO : EPOCH 32 - PROGRESS: at 8.37% examples, 333451 words/s, in_qsize 16, out_qsize 0\n",
            "2019-04-02 13:55:38,063 : INFO : EPOCH 32 - PROGRESS: at 12.71% examples, 337489 words/s, in_qsize 13, out_qsize 1\n",
            "2019-04-02 13:55:39,121 : INFO : EPOCH 32 - PROGRESS: at 17.13% examples, 339367 words/s, in_qsize 14, out_qsize 1\n",
            "2019-04-02 13:55:40,139 : INFO : EPOCH 32 - PROGRESS: at 22.11% examples, 351893 words/s, in_qsize 16, out_qsize 0\n",
            "2019-04-02 13:55:41,164 : INFO : EPOCH 32 - PROGRESS: at 26.45% examples, 351195 words/s, in_qsize 15, out_qsize 1\n",
            "2019-04-02 13:55:42,203 : INFO : EPOCH 32 - PROGRESS: at 30.67% examples, 348820 words/s, in_qsize 15, out_qsize 0\n",
            "2019-04-02 13:55:43,211 : INFO : EPOCH 32 - PROGRESS: at 35.21% examples, 351501 words/s, in_qsize 16, out_qsize 1\n",
            "2019-04-02 13:55:44,278 : INFO : EPOCH 32 - PROGRESS: at 39.97% examples, 353336 words/s, in_qsize 15, out_qsize 0\n",
            "2019-04-02 13:55:45,313 : INFO : EPOCH 32 - PROGRESS: at 44.40% examples, 353314 words/s, in_qsize 14, out_qsize 4\n",
            "2019-04-02 13:55:46,351 : INFO : EPOCH 32 - PROGRESS: at 49.38% examples, 357100 words/s, in_qsize 13, out_qsize 2\n",
            "2019-04-02 13:55:47,357 : INFO : EPOCH 32 - PROGRESS: at 54.14% examples, 359734 words/s, in_qsize 16, out_qsize 0\n",
            "2019-04-02 13:55:48,381 : INFO : EPOCH 32 - PROGRESS: at 58.90% examples, 361528 words/s, in_qsize 15, out_qsize 0\n",
            "2019-04-02 13:55:49,388 : INFO : EPOCH 32 - PROGRESS: at 63.22% examples, 361000 words/s, in_qsize 14, out_qsize 1\n",
            "2019-04-02 13:55:50,420 : INFO : EPOCH 32 - PROGRESS: at 67.77% examples, 361109 words/s, in_qsize 10, out_qsize 5\n",
            "2019-04-02 13:55:51,458 : INFO : EPOCH 32 - PROGRESS: at 72.86% examples, 363758 words/s, in_qsize 15, out_qsize 0\n",
            "2019-04-02 13:55:52,481 : INFO : EPOCH 32 - PROGRESS: at 77.20% examples, 363317 words/s, in_qsize 16, out_qsize 4\n",
            "2019-04-02 13:55:53,469 : INFO : EPOCH 32 - PROGRESS: at 82.32% examples, 366105 words/s, in_qsize 15, out_qsize 0\n",
            "2019-04-02 13:55:54,618 : INFO : EPOCH 32 - PROGRESS: at 86.85% examples, 363731 words/s, in_qsize 15, out_qsize 0\n",
            "2019-04-02 13:55:55,636 : INFO : EPOCH 32 - PROGRESS: at 91.63% examples, 364752 words/s, in_qsize 15, out_qsize 0\n",
            "2019-04-02 13:55:56,657 : INFO : EPOCH 32 - PROGRESS: at 96.42% examples, 365658 words/s, in_qsize 15, out_qsize 1\n",
            "2019-04-02 13:55:57,326 : INFO : worker thread finished; awaiting finish of 7 more threads\n",
            "2019-04-02 13:55:57,330 : INFO : worker thread finished; awaiting finish of 6 more threads\n",
            "2019-04-02 13:55:57,353 : INFO : worker thread finished; awaiting finish of 5 more threads\n",
            "2019-04-02 13:55:57,375 : INFO : worker thread finished; awaiting finish of 4 more threads\n",
            "2019-04-02 13:55:57,400 : INFO : worker thread finished; awaiting finish of 3 more threads\n",
            "2019-04-02 13:55:57,402 : INFO : worker thread finished; awaiting finish of 2 more threads\n",
            "2019-04-02 13:55:57,408 : INFO : worker thread finished; awaiting finish of 1 more threads\n",
            "2019-04-02 13:55:57,418 : INFO : worker thread finished; awaiting finish of 0 more threads\n",
            "2019-04-02 13:55:57,420 : INFO : EPOCH - 32 : training on 9227204 raw words (8223328 effective words) took 22.4s, 366375 effective words/s\n",
            "2019-04-02 13:55:57,421 : INFO : training on a 295270528 raw words (263122939 effective words) took 710.9s, 370125 effective words/s\n"
          ],
          "name": "stderr"
        },
        {
          "output_type": "stream",
          "text": [
            "CPU times: user 23min 2s, sys: 4.91 s, total: 23min 7s\n",
            "Wall time: 11min 50s\n"
          ],
          "name": "stdout"
        },
        {
          "output_type": "execute_result",
          "data": {
            "text/plain": [
              "(263122939, 295270528)"
            ]
          },
          "metadata": {
            "tags": []
          },
          "execution_count": 36
        }
      ]
    },
    {
      "metadata": {
        "id": "tvUfc3Y6G96d",
        "colab_type": "code",
        "outputId": "9d6cac34-0051-48a7-f773-9fca2f7905eb",
        "colab": {
          "base_uri": "https://localhost:8080/",
          "height": 204
        }
      },
      "cell_type": "code",
      "source": [
        "w2v_model.most_similar(\"love\")"
      ],
      "execution_count": 37,
      "outputs": [
        {
          "output_type": "stream",
          "text": [
            "2019-04-02 13:55:57,432 : INFO : precomputing L2-norms of word weight vectors\n"
          ],
          "name": "stderr"
        },
        {
          "output_type": "execute_result",
          "data": {
            "text/plain": [
              "[('loves', 0.5760223865509033),\n",
              " ('luv', 0.559371829032898),\n",
              " ('loved', 0.5453555583953857),\n",
              " ('adore', 0.5131479501724243),\n",
              " ('amazing', 0.5073188543319702),\n",
              " ('looove', 0.48991724848747253),\n",
              " ('loveee', 0.47647997736930847),\n",
              " ('awesome', 0.464517205953598),\n",
              " ('loooove', 0.4491255581378937),\n",
              " ('lovee', 0.437805712223053)]"
            ]
          },
          "metadata": {
            "tags": []
          },
          "execution_count": 37
        }
      ]
    },
    {
      "metadata": {
        "id": "-oMOfGOIG96g",
        "colab_type": "text"
      },
      "cell_type": "markdown",
      "source": [
        "## Tokenize Text"
      ]
    },
    {
      "metadata": {
        "id": "lHea_iMkG96h",
        "colab_type": "code",
        "outputId": "e6e03dc9-bba2-4d54-de87-f6c9f30de162",
        "colab": {
          "base_uri": "https://localhost:8080/",
          "height": 68
        }
      },
      "cell_type": "code",
      "source": [
        "%%time\n",
        "tokenizer = Tokenizer()\n",
        "tokenizer.fit_on_texts(df_train.text)\n",
        "\n",
        "vocab_size = len(tokenizer.word_index) + 1\n",
        "print(\"Total words\", vocab_size)"
      ],
      "execution_count": 38,
      "outputs": [
        {
          "output_type": "stream",
          "text": [
            "Total words 290419\n",
            "CPU times: user 25 s, sys: 158 ms, total: 25.1 s\n",
            "Wall time: 25.1 s\n"
          ],
          "name": "stdout"
        }
      ]
    },
    {
      "metadata": {
        "id": "bk4EnXxSG96k",
        "colab_type": "code",
        "outputId": "f53d732a-a137-4f4f-b5d2-b86ffd2c464e",
        "colab": {
          "base_uri": "https://localhost:8080/",
          "height": 51
        }
      },
      "cell_type": "code",
      "source": [
        "%%time\n",
        "x_train = pad_sequences(tokenizer.texts_to_sequences(df_train.text), maxlen=SEQUENCE_LENGTH)\n",
        "x_test = pad_sequences(tokenizer.texts_to_sequences(df_test.text), maxlen=SEQUENCE_LENGTH)"
      ],
      "execution_count": 39,
      "outputs": [
        {
          "output_type": "stream",
          "text": [
            "CPU times: user 35.7 s, sys: 988 ms, total: 36.7 s\n",
            "Wall time: 36.7 s\n"
          ],
          "name": "stdout"
        }
      ]
    },
    {
      "metadata": {
        "id": "tkCCF_YvGlUA",
        "colab_type": "code",
        "outputId": "0661af8b-25bf-4b43-e5c1-0029a497c568",
        "colab": {
          "base_uri": "https://localhost:8080/",
          "height": 136
        }
      },
      "cell_type": "code",
      "source": [
        "x_train"
      ],
      "execution_count": 40,
      "outputs": [
        {
          "output_type": "execute_result",
          "data": {
            "text/plain": [
              "array([[     0,      0,      0, ...,    712,    118,  24590],\n",
              "       [     0,      0,      0, ...,    452,    378,  32447],\n",
              "       [     0,      0,      0, ...,   2048,      4,   5487],\n",
              "       ...,\n",
              "       [     0,      0,      0, ...,    661,   4246, 290416],\n",
              "       [     0,      0,      0, ...,     12,    477,    957],\n",
              "       [     0,      0,      0, ...,      9,    502,    268]], dtype=int32)"
            ]
          },
          "metadata": {
            "tags": []
          },
          "execution_count": 40
        }
      ]
    },
    {
      "metadata": {
        "id": "j6q3PNZqApTe",
        "colab_type": "code",
        "outputId": "dd1ff4e0-563c-4384-9a2d-63b94e7fe527",
        "colab": {
          "base_uri": "https://localhost:8080/",
          "height": 204
        }
      },
      "cell_type": "code",
      "source": [
        "df_train.target[0:10]"
      ],
      "execution_count": 41,
      "outputs": [
        {
          "output_type": "execute_result",
          "data": {
            "text/plain": [
              "1374558    POSITIVE\n",
              "1389115    POSITIVE\n",
              "1137831    POSITIVE\n",
              "790714     NEGATIVE\n",
              "1117911    POSITIVE\n",
              "1077663    POSITIVE\n",
              "1253991    POSITIVE\n",
              "1535242    POSITIVE\n",
              "1396460    POSITIVE\n",
              "1178954    POSITIVE\n",
              "Name: target, dtype: object"
            ]
          },
          "metadata": {
            "tags": []
          },
          "execution_count": 41
        }
      ]
    },
    {
      "metadata": {
        "id": "7IkOxAslG96n",
        "colab_type": "text"
      },
      "cell_type": "markdown",
      "source": [
        "## Label Encoder"
      ]
    },
    {
      "metadata": {
        "id": "pp9M8g3KG96n",
        "colab_type": "code",
        "outputId": "20949f5f-1fe1-42c4-9839-3148b725ce37",
        "colab": {
          "base_uri": "https://localhost:8080/",
          "height": 34
        }
      },
      "cell_type": "code",
      "source": [
        "labels = df_train.target.unique().tolist()\n",
        "labels.append(NEUTRAL)\n",
        "labels"
      ],
      "execution_count": 42,
      "outputs": [
        {
          "output_type": "execute_result",
          "data": {
            "text/plain": [
              "['POSITIVE', 'NEGATIVE', 'NEUTRAL']"
            ]
          },
          "metadata": {
            "tags": []
          },
          "execution_count": 42
        }
      ]
    },
    {
      "metadata": {
        "id": "ud06tVkPG96s",
        "colab_type": "code",
        "outputId": "fd55522b-c138-48b5-dc37-1bd661ad6e8b",
        "colab": {
          "base_uri": "https://localhost:8080/",
          "height": 51
        }
      },
      "cell_type": "code",
      "source": [
        "encoder = LabelEncoder()\n",
        "encoder.fit(df_train.target.tolist())\n",
        "\n",
        "y_train = encoder.transform(df_train.target.tolist())\n",
        "y_test = encoder.transform(df_test.target.tolist())\n",
        "\n",
        "y_train = y_train.reshape(-1,1)\n",
        "y_test = y_test.reshape(-1,1)\n",
        "\n",
        "print(\"y_train\",y_train.shape)\n",
        "print(\"y_test\",y_test.shape)"
      ],
      "execution_count": 43,
      "outputs": [
        {
          "output_type": "stream",
          "text": [
            "y_train (1280000, 1)\n",
            "y_test (320000, 1)\n"
          ],
          "name": "stdout"
        }
      ]
    },
    {
      "metadata": {
        "id": "7lbj2nRqMfjR",
        "colab_type": "code",
        "outputId": "f303cc3f-6044-41e4-9e4a-14214d39a144",
        "colab": {
          "base_uri": "https://localhost:8080/",
          "height": 136
        }
      },
      "cell_type": "code",
      "source": [
        "y_train"
      ],
      "execution_count": 44,
      "outputs": [
        {
          "output_type": "execute_result",
          "data": {
            "text/plain": [
              "array([[1],\n",
              "       [1],\n",
              "       [1],\n",
              "       ...,\n",
              "       [0],\n",
              "       [0],\n",
              "       [0]])"
            ]
          },
          "metadata": {
            "tags": []
          },
          "execution_count": 44
        }
      ]
    },
    {
      "metadata": {
        "id": "TxB87Z3uG96z",
        "colab_type": "code",
        "outputId": "4d7326ea-d038-482e-e5a6-1805e51579b2",
        "colab": {
          "base_uri": "https://localhost:8080/",
          "height": 102
        }
      },
      "cell_type": "code",
      "source": [
        "print(\"x_train\", x_train.shape)\n",
        "print(\"y_train\", y_train.shape)\n",
        "print()\n",
        "print(\"x_test\", x_test.shape)\n",
        "print(\"y_test\", y_test.shape)"
      ],
      "execution_count": 45,
      "outputs": [
        {
          "output_type": "stream",
          "text": [
            "x_train (1280000, 300)\n",
            "y_train (1280000, 1)\n",
            "\n",
            "x_test (320000, 300)\n",
            "y_test (320000, 1)\n"
          ],
          "name": "stdout"
        }
      ]
    },
    {
      "metadata": {
        "id": "CoIe-KONG962",
        "colab_type": "code",
        "outputId": "f71fc8c7-f06c-4835-af9b-021e3aec0f09",
        "colab": {
          "base_uri": "https://localhost:8080/",
          "height": 357
        }
      },
      "cell_type": "code",
      "source": [
        "y_train[:20]"
      ],
      "execution_count": 46,
      "outputs": [
        {
          "output_type": "execute_result",
          "data": {
            "text/plain": [
              "array([[1],\n",
              "       [1],\n",
              "       [1],\n",
              "       [0],\n",
              "       [1],\n",
              "       [1],\n",
              "       [1],\n",
              "       [1],\n",
              "       [1],\n",
              "       [1],\n",
              "       [1],\n",
              "       [1],\n",
              "       [0],\n",
              "       [1],\n",
              "       [0],\n",
              "       [1],\n",
              "       [0],\n",
              "       [1],\n",
              "       [1],\n",
              "       [0]])"
            ]
          },
          "metadata": {
            "tags": []
          },
          "execution_count": 46
        }
      ]
    },
    {
      "metadata": {
        "id": "2pAOiwbgG965",
        "colab_type": "text"
      },
      "cell_type": "markdown",
      "source": [
        "## Embedding layer"
      ]
    },
    {
      "metadata": {
        "id": "csSRs-7LG966",
        "colab_type": "code",
        "outputId": "51ab5e82-6120-4ef2-f26b-ebafe0be3b23",
        "colab": {
          "base_uri": "https://localhost:8080/",
          "height": 34
        }
      },
      "cell_type": "code",
      "source": [
        "embedding_matrix = np.zeros((vocab_size, W2V_SIZE))\n",
        "for word, i in tokenizer.word_index.items():\n",
        "    if word in w2v_model.wv:\n",
        "        embedding_matrix[i] = w2v_model.wv[word]\n",
        "print(embedding_matrix.shape)"
      ],
      "execution_count": 47,
      "outputs": [
        {
          "output_type": "stream",
          "text": [
            "(290419, 300)\n"
          ],
          "name": "stdout"
        }
      ]
    },
    {
      "metadata": {
        "id": "WOKXoEGUG97A",
        "colab_type": "code",
        "colab": {}
      },
      "cell_type": "code",
      "source": [
        "combined_embedding_vector_length= embedding_matrix.shape[1]"
      ],
      "execution_count": 0,
      "outputs": []
    },
    {
      "metadata": {
        "id": "L-PDNwmmG97E",
        "colab_type": "code",
        "colab": {}
      },
      "cell_type": "code",
      "source": [
        "embedding_layer = Embedding(vocab_size, W2V_SIZE, weights=[embedding_matrix], input_length=SEQUENCE_LENGTH, trainable=False)"
      ],
      "execution_count": 0,
      "outputs": []
    },
    {
      "metadata": {
        "id": "Pw1Z49X2G97L",
        "colab_type": "text"
      },
      "cell_type": "markdown",
      "source": [
        "## Build Model"
      ]
    },
    {
      "metadata": {
        "id": "SxOqWizzG97M",
        "colab_type": "code",
        "colab": {}
      },
      "cell_type": "code",
      "source": [
        "import tensorflow as tf\n",
        "import tensorflow.keras as keras\n",
        "from keras.models import Sequential\n",
        "from keras.layers import Dense\n",
        "from keras.layers import LSTM"
      ],
      "execution_count": 0,
      "outputs": []
    },
    {
      "metadata": {
        "id": "lrAiBwhrG97P",
        "colab_type": "code",
        "outputId": "3d215f95-eaa3-42ac-97d7-599e9fb90b07",
        "colab": {
          "base_uri": "https://localhost:8080/",
          "height": 496
        }
      },
      "cell_type": "code",
      "source": [
        "model = Sequential()\n",
        "model.add(embedding_layer)\n",
        "model.add(Dropout(0.5))\n",
        "model.add(LSTM(100, dropout=0.2, recurrent_dropout=0.2))\n",
        "model.add(Dense(1, activation='sigmoid'))\n",
        "model.summary()"
      ],
      "execution_count": 51,
      "outputs": [
        {
          "output_type": "stream",
          "text": [
            "WARNING:tensorflow:From /usr/local/lib/python3.6/dist-packages/tensorflow/python/framework/op_def_library.py:263: colocate_with (from tensorflow.python.framework.ops) is deprecated and will be removed in a future version.\n",
            "Instructions for updating:\n",
            "Colocations handled automatically by placer.\n"
          ],
          "name": "stdout"
        },
        {
          "output_type": "stream",
          "text": [
            "2019-04-02 13:57:01,165 : WARNING : From /usr/local/lib/python3.6/dist-packages/tensorflow/python/framework/op_def_library.py:263: colocate_with (from tensorflow.python.framework.ops) is deprecated and will be removed in a future version.\n",
            "Instructions for updating:\n",
            "Colocations handled automatically by placer.\n"
          ],
          "name": "stderr"
        },
        {
          "output_type": "stream",
          "text": [
            "WARNING:tensorflow:From /usr/local/lib/python3.6/dist-packages/keras/backend/tensorflow_backend.py:3445: calling dropout (from tensorflow.python.ops.nn_ops) with keep_prob is deprecated and will be removed in a future version.\n",
            "Instructions for updating:\n",
            "Please use `rate` instead of `keep_prob`. Rate should be set to `rate = 1 - keep_prob`.\n"
          ],
          "name": "stdout"
        },
        {
          "output_type": "stream",
          "text": [
            "2019-04-02 13:57:03,832 : WARNING : From /usr/local/lib/python3.6/dist-packages/keras/backend/tensorflow_backend.py:3445: calling dropout (from tensorflow.python.ops.nn_ops) with keep_prob is deprecated and will be removed in a future version.\n",
            "Instructions for updating:\n",
            "Please use `rate` instead of `keep_prob`. Rate should be set to `rate = 1 - keep_prob`.\n"
          ],
          "name": "stderr"
        },
        {
          "output_type": "stream",
          "text": [
            "_________________________________________________________________\n",
            "Layer (type)                 Output Shape              Param #   \n",
            "=================================================================\n",
            "embedding_1 (Embedding)      (None, 300, 300)          87125700  \n",
            "_________________________________________________________________\n",
            "dropout_1 (Dropout)          (None, 300, 300)          0         \n",
            "_________________________________________________________________\n",
            "lstm_1 (LSTM)                (None, 100)               160400    \n",
            "_________________________________________________________________\n",
            "dense_1 (Dense)              (None, 1)                 101       \n",
            "=================================================================\n",
            "Total params: 87,286,201\n",
            "Trainable params: 160,501\n",
            "Non-trainable params: 87,125,700\n",
            "_________________________________________________________________\n"
          ],
          "name": "stdout"
        }
      ]
    },
    {
      "metadata": {
        "id": "mBx7UViwtXV3",
        "colab_type": "text"
      },
      "cell_type": "markdown",
      "source": [
        "**Compile model**"
      ]
    },
    {
      "metadata": {
        "id": "KV6Ll-1kG97R",
        "colab_type": "code",
        "colab": {}
      },
      "cell_type": "code",
      "source": [
        "model.compile(loss='binary_crossentropy',\n",
        "              optimizer=\"adam\",\n",
        "              metrics=['accuracy'])"
      ],
      "execution_count": 0,
      "outputs": []
    },
    {
      "metadata": {
        "id": "LqWGZZKotxiK",
        "colab_type": "text"
      },
      "cell_type": "markdown",
      "source": [
        "**Callbacks**"
      ]
    },
    {
      "metadata": {
        "id": "nU8Hu_G8tSxe",
        "colab_type": "code",
        "colab": {}
      },
      "cell_type": "code",
      "source": [
        "callbacks = [ ReduceLROnPlateau(monitor='val_loss', patience=5, cooldown=0),\n",
        "              EarlyStopping(monitor='val_acc', min_delta=1e-4, patience=5)]"
      ],
      "execution_count": 0,
      "outputs": []
    },
    {
      "metadata": {
        "id": "PyksndhbuJ8n",
        "colab_type": "text"
      },
      "cell_type": "markdown",
      "source": [
        "**Train**"
      ]
    },
    {
      "metadata": {
        "id": "YvmG3fXMtnDU",
        "colab_type": "code",
        "outputId": "097a9478-3f31-427b-c83b-5e8eb5375730",
        "colab": {
          "base_uri": "https://localhost:8080/",
          "height": 462
        }
      },
      "cell_type": "code",
      "source": [
        "%%time\n",
        "history = model.fit(x_train, y_train,\n",
        "                    batch_size=BATCH_SIZE,\n",
        "                    epochs=EPOCHS,\n",
        "                    validation_split=0.1,\n",
        "                    verbose=1,\n",
        "                    callbacks=callbacks)"
      ],
      "execution_count": 54,
      "outputs": [
        {
          "output_type": "stream",
          "text": [
            "WARNING:tensorflow:From /usr/local/lib/python3.6/dist-packages/tensorflow/python/ops/math_ops.py:3066: to_int32 (from tensorflow.python.ops.math_ops) is deprecated and will be removed in a future version.\n",
            "Instructions for updating:\n",
            "Use tf.cast instead.\n"
          ],
          "name": "stdout"
        },
        {
          "output_type": "stream",
          "text": [
            "2019-04-02 13:57:04,459 : WARNING : From /usr/local/lib/python3.6/dist-packages/tensorflow/python/ops/math_ops.py:3066: to_int32 (from tensorflow.python.ops.math_ops) is deprecated and will be removed in a future version.\n",
            "Instructions for updating:\n",
            "Use tf.cast instead.\n"
          ],
          "name": "stderr"
        },
        {
          "output_type": "stream",
          "text": [
            "Train on 1152000 samples, validate on 128000 samples\n",
            "Epoch 1/8\n",
            "1152000/1152000 [==============================] - 1020s 885us/step - loss: 0.5069 - acc: 0.7484 - val_loss: 0.4678 - val_acc: 0.7782\n",
            "Epoch 2/8\n",
            "1152000/1152000 [==============================] - 1019s 885us/step - loss: 0.4806 - acc: 0.7664 - val_loss: 0.4602 - val_acc: 0.7831\n",
            "Epoch 3/8\n",
            "1152000/1152000 [==============================] - 1019s 884us/step - loss: 0.4736 - acc: 0.7711 - val_loss: 0.4553 - val_acc: 0.7852\n",
            "Epoch 4/8\n",
            "1152000/1152000 [==============================] - 1018s 883us/step - loss: 0.4692 - acc: 0.7740 - val_loss: 0.4522 - val_acc: 0.7874\n",
            "Epoch 5/8\n",
            "1152000/1152000 [==============================] - 1020s 885us/step - loss: 0.4671 - acc: 0.7753 - val_loss: 0.4497 - val_acc: 0.7875\n",
            "Epoch 6/8\n",
            "1152000/1152000 [==============================] - 1021s 886us/step - loss: 0.4647 - acc: 0.7766 - val_loss: 0.4492 - val_acc: 0.7879\n",
            "Epoch 7/8\n",
            "1152000/1152000 [==============================] - 1028s 892us/step - loss: 0.4644 - acc: 0.7770 - val_loss: 0.4502 - val_acc: 0.7890\n",
            "Epoch 8/8\n",
            "1152000/1152000 [==============================] - 1030s 894us/step - loss: 0.4631 - acc: 0.7772 - val_loss: 0.4491 - val_acc: 0.7896\n",
            "CPU times: user 2h 33min 57s, sys: 23min 45s, total: 2h 57min 43s\n",
            "Wall time: 2h 16min 14s\n"
          ],
          "name": "stdout"
        }
      ]
    },
    {
      "metadata": {
        "id": "l1aGfd8Xtqfl",
        "colab_type": "code",
        "outputId": "623fe75d-ee54-49c7-bf29-6a245d63e7f5",
        "colab": {
          "base_uri": "https://localhost:8080/",
          "height": 119
        }
      },
      "cell_type": "code",
      "source": [
        " %%time\n",
        "score = model.evaluate(x_test, y_test, batch_size=BATCH_SIZE)\n",
        "print()\n",
        "print(\"ACCURACY:\",score[1])\n",
        "print(\"LOSS:\",score[0])"
      ],
      "execution_count": 55,
      "outputs": [
        {
          "output_type": "stream",
          "text": [
            "320000/320000 [==============================] - 112s 349us/step\n",
            "\n",
            "ACCURACY: 0.7902\n",
            "LOSS: 0.4477609361171722\n",
            "CPU times: user 2min 9s, sys: 11.2 s, total: 2min 21s\n",
            "Wall time: 1min 51s\n"
          ],
          "name": "stdout"
        }
      ]
    },
    {
      "metadata": {
        "id": "1FO5P_xp4aCU",
        "colab_type": "code",
        "outputId": "b41dfd13-3f5d-4a8b-b191-88c067065164",
        "colab": {
          "base_uri": "https://localhost:8080/",
          "height": 543
        }
      },
      "cell_type": "code",
      "source": [
        "acc = history.history['acc']\n",
        "val_acc = history.history['val_acc']\n",
        "loss = history.history['loss']\n",
        "val_loss = history.history['val_loss']\n",
        " \n",
        "epochs = range(len(acc))\n",
        " \n",
        "plt.plot(epochs, acc, 'b', label='Training acc')\n",
        "plt.plot(epochs, val_acc, 'r', label='Validation acc')\n",
        "plt.title('Training and validation accuracy')\n",
        "plt.legend()\n",
        " \n",
        "plt.figure()\n",
        " \n",
        "plt.plot(epochs, loss, 'b', label='Training loss')\n",
        "plt.plot(epochs, val_loss, 'r', label='Validation loss')\n",
        "plt.title('Training and validation loss')\n",
        "plt.legend()\n",
        " \n",
        "plt.show()"
      ],
      "execution_count": 56,
      "outputs": [
        {
          "output_type": "display_data",
          "data": {
            "image/png": "[encoded data removed]",
            "text/plain": [
              "<Figure size 432x288 with 1 Axes>"
            ]
          },
          "metadata": {
            "tags": []
          }
        },
        {
          "output_type": "display_data",
          "data": {
            "image/png": "[encoded data removed]",
            "text/plain": [
              "<Figure size 432x288 with 1 Axes>"
            ]
          },
          "metadata": {
            "tags": []
          }
        }
      ]
    },
    {
      "metadata": {
        "id": "aqJtxpWD5FtH",
        "colab_type": "text"
      },
      "cell_type": "markdown",
      "source": [
        "**Predict**"
      ]
    },
    {
      "metadata": {
        "id": "GyN6t6Er48Qy",
        "colab_type": "code",
        "colab": {}
      },
      "cell_type": "code",
      "source": [
        "def decode_sentiment(score, include_neutral=True):\n",
        "    if include_neutral:        \n",
        "        label = NEUTRAL\n",
        "        if score <= SENTIMENT_THRESHOLDS[0]:\n",
        "            label = NEGATIVE\n",
        "        elif score >= SENTIMENT_THRESHOLDS[1]:\n",
        "            label = POSITIVE\n",
        "\n",
        "        return label\n",
        "    else:\n",
        "        return NEGATIVE if score < 0.5 else POSITIVE\n"
      ],
      "execution_count": 0,
      "outputs": []
    },
    {
      "metadata": {
        "id": "GHKX9eYJ5Guc",
        "colab_type": "code",
        "colab": {}
      },
      "cell_type": "code",
      "source": [
        "def predict(text, include_neutral=True):\n",
        "    start_at = time.time()\n",
        "    # Tokenize text\n",
        "    x_test = pad_sequences(tokenizer.texts_to_sequences([text]), maxlen=SEQUENCE_LENGTH)\n",
        "    # Predict\n",
        "    score = model.predict([x_test])[0]\n",
        "    # Decode sentiment\n",
        "    label = decode_sentiment(score, include_neutral=include_neutral)\n",
        "\n",
        "    return {\"label\": label, \"score\": float(score),\n",
        "       \"elapsed_time\": time.time()-start_at} "
      ],
      "execution_count": 0,
      "outputs": []
    },
    {
      "metadata": {
        "id": "bY92z4He5Occ",
        "colab_type": "code",
        "colab": {
          "base_uri": "https://localhost:8080/",
          "height": 68
        },
        "outputId": "0ec73012-baf3-4652-f93a-c0f20a0eac0b"
      },
      "cell_type": "code",
      "source": [
        "predict(\"I love the music\")"
      ],
      "execution_count": 59,
      "outputs": [
        {
          "output_type": "execute_result",
          "data": {
            "text/plain": [
              "{'elapsed_time': 0.3865649700164795,\n",
              " 'label': 'POSITIVE',\n",
              " 'score': 0.980268657207489}"
            ]
          },
          "metadata": {
            "tags": []
          },
          "execution_count": 59
        }
      ]
    },
    {
      "metadata": {
        "id": "tYukJTYs5Q8H",
        "colab_type": "code",
        "colab": {
          "base_uri": "https://localhost:8080/",
          "height": 68
        },
        "outputId": "a5376e4c-85de-46b2-f925-c963518f6b40"
      },
      "cell_type": "code",
      "source": [
        "predict(\"I hate the rain\")"
      ],
      "execution_count": 60,
      "outputs": [
        {
          "output_type": "execute_result",
          "data": {
            "text/plain": [
              "{'elapsed_time': 0.2435457706451416,\n",
              " 'label': 'NEGATIVE',\n",
              " 'score': 0.010711903683841228}"
            ]
          },
          "metadata": {
            "tags": []
          },
          "execution_count": 60
        }
      ]
    },
    {
      "metadata": {
        "id": "RSXcdlyc5VTP",
        "colab_type": "code",
        "colab": {
          "base_uri": "https://localhost:8080/",
          "height": 68
        },
        "outputId": "9672fccd-f7fe-4703-9629-eb8b2a7786ca"
      },
      "cell_type": "code",
      "source": [
        "predict(\"i don't know what i'm doing\")"
      ],
      "execution_count": 61,
      "outputs": [
        {
          "output_type": "execute_result",
          "data": {
            "text/plain": [
              "{'elapsed_time': 0.23833155632019043,\n",
              " 'label': 'NEGATIVE',\n",
              " 'score': 0.31205546855926514}"
            ]
          },
          "metadata": {
            "tags": []
          },
          "execution_count": 61
        }
      ]
    },
    {
      "metadata": {
        "id": "6JpD54kO5iyo",
        "colab_type": "text"
      },
      "cell_type": "markdown",
      "source": [
        "**Confusion Matrix**"
      ]
    },
    {
      "metadata": {
        "id": "FO_LGwmI5cb0",
        "colab_type": "code",
        "colab": {
          "base_uri": "https://localhost:8080/",
          "height": 68
        },
        "outputId": "a7fe6018-44d7-4d2e-f771-afd0e3010919"
      },
      "cell_type": "code",
      "source": [
        "%%time\n",
        "y_pred_1d = []\n",
        "y_test_1d = list(df_test.target)\n",
        "scores = model.predict(x_test, verbose=1, batch_size=1000)\n",
        "y_pred_1d = [decode_sentiment(score, include_neutral=False) for score in scores]"
      ],
      "execution_count": 62,
      "outputs": [
        {
          "output_type": "stream",
          "text": [
            "320000/320000 [==============================] - 114s 355us/step\n",
            "CPU times: user 2min 13s, sys: 11.3 s, total: 2min 25s\n",
            "Wall time: 1min 54s\n"
          ],
          "name": "stdout"
        }
      ]
    },
    {
      "metadata": {
        "id": "SZG3q0W23Sul",
        "colab_type": "code",
        "colab": {}
      },
      "cell_type": "code",
      "source": [
        ""
      ],
      "execution_count": 0,
      "outputs": []
    }
  ]
}